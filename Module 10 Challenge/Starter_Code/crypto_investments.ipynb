{
 "cells": [
  {
   "cell_type": "markdown",
   "metadata": {},
   "source": [
    "# Module 10 Application\n",
    "\n",
    "## Challenge: Crypto Clustering\n",
    "\n",
    "In this Challenge, you’ll combine your financial Python programming skills with the new unsupervised learning skills that you acquired in this module.\n",
    "\n",
    "The CSV file provided for this challenge contains price change data of cryptocurrencies in different periods.\n",
    "\n",
    "The steps for this challenge are broken out into the following sections:\n",
    "\n",
    "* Import the Data (provided in the starter code)\n",
    "* Prepare the Data (provided in the starter code)\n",
    "* Find the Best Value for `k` Using the Original Data\n",
    "* Cluster Cryptocurrencies with K-means Using the Original Data\n",
    "* Optimize Clusters with Principal Component Analysis\n",
    "* Find the Best Value for `k` Using the PCA Data\n",
    "* Cluster the Cryptocurrencies with K-means Using the PCA Data\n",
    "* Visualize and Compare the Results"
   ]
  },
  {
   "cell_type": "markdown",
   "metadata": {},
   "source": [
    "### Import the Data\n",
    "\n",
    "This section imports the data into a new DataFrame. It follows these steps:\n",
    "\n",
    "1. Read  the “crypto_market_data.csv” file from the Resources folder into a DataFrame, and use `index_col=\"coin_id\"` to set the cryptocurrency name as the index. Review the DataFrame.\n",
    "\n",
    "2. Generate the summary statistics, and use HvPlot to visualize your data to observe what your DataFrame contains.\n",
    "\n",
    "\n",
    "> **Rewind:** The [Pandas`describe()`function](https://pandas.pydata.org/pandas-docs/stable/reference/api/pandas.DataFrame.describe.html) generates summary statistics for a DataFrame. "
   ]
  },
  {
   "cell_type": "code",
   "execution_count": 81,
   "metadata": {},
   "outputs": [],
   "source": [
    "# Import required libraries and dependencies\n",
    "import pandas as pd\n",
    "import hvplot.pandas\n",
    "from pathlib import Path\n",
    "from sklearn.cluster import KMeans\n",
    "from sklearn.decomposition import PCA\n",
    "from sklearn.preprocessing import StandardScaler"
   ]
  },
  {
   "cell_type": "code",
   "execution_count": 82,
   "metadata": {},
   "outputs": [
    {
     "data": {
      "text/html": [
       "<div>\n",
       "<style scoped>\n",
       "    .dataframe tbody tr th:only-of-type {\n",
       "        vertical-align: middle;\n",
       "    }\n",
       "\n",
       "    .dataframe tbody tr th {\n",
       "        vertical-align: top;\n",
       "    }\n",
       "\n",
       "    .dataframe thead th {\n",
       "        text-align: right;\n",
       "    }\n",
       "</style>\n",
       "<table border=\"1\" class=\"dataframe\">\n",
       "  <thead>\n",
       "    <tr style=\"text-align: right;\">\n",
       "      <th></th>\n",
       "      <th>price_change_percentage_24h</th>\n",
       "      <th>price_change_percentage_7d</th>\n",
       "      <th>price_change_percentage_14d</th>\n",
       "      <th>price_change_percentage_30d</th>\n",
       "      <th>price_change_percentage_60d</th>\n",
       "      <th>price_change_percentage_200d</th>\n",
       "      <th>price_change_percentage_1y</th>\n",
       "    </tr>\n",
       "    <tr>\n",
       "      <th>coin_id</th>\n",
       "      <th></th>\n",
       "      <th></th>\n",
       "      <th></th>\n",
       "      <th></th>\n",
       "      <th></th>\n",
       "      <th></th>\n",
       "      <th></th>\n",
       "    </tr>\n",
       "  </thead>\n",
       "  <tbody>\n",
       "    <tr>\n",
       "      <th>bitcoin</th>\n",
       "      <td>1.08388</td>\n",
       "      <td>7.60278</td>\n",
       "      <td>6.57509</td>\n",
       "      <td>7.67258</td>\n",
       "      <td>-3.25185</td>\n",
       "      <td>83.51840</td>\n",
       "      <td>37.51761</td>\n",
       "    </tr>\n",
       "    <tr>\n",
       "      <th>ethereum</th>\n",
       "      <td>0.22392</td>\n",
       "      <td>10.38134</td>\n",
       "      <td>4.80849</td>\n",
       "      <td>0.13169</td>\n",
       "      <td>-12.88890</td>\n",
       "      <td>186.77418</td>\n",
       "      <td>101.96023</td>\n",
       "    </tr>\n",
       "    <tr>\n",
       "      <th>tether</th>\n",
       "      <td>-0.21173</td>\n",
       "      <td>0.04935</td>\n",
       "      <td>0.00640</td>\n",
       "      <td>-0.04237</td>\n",
       "      <td>0.28037</td>\n",
       "      <td>-0.00542</td>\n",
       "      <td>0.01954</td>\n",
       "    </tr>\n",
       "    <tr>\n",
       "      <th>ripple</th>\n",
       "      <td>-0.37819</td>\n",
       "      <td>-0.60926</td>\n",
       "      <td>2.24984</td>\n",
       "      <td>0.23455</td>\n",
       "      <td>-17.55245</td>\n",
       "      <td>39.53888</td>\n",
       "      <td>-16.60193</td>\n",
       "    </tr>\n",
       "    <tr>\n",
       "      <th>bitcoin-cash</th>\n",
       "      <td>2.90585</td>\n",
       "      <td>17.09717</td>\n",
       "      <td>14.75334</td>\n",
       "      <td>15.74903</td>\n",
       "      <td>-13.71793</td>\n",
       "      <td>21.66042</td>\n",
       "      <td>14.49384</td>\n",
       "    </tr>\n",
       "    <tr>\n",
       "      <th>binancecoin</th>\n",
       "      <td>2.10423</td>\n",
       "      <td>12.85511</td>\n",
       "      <td>6.80688</td>\n",
       "      <td>0.05865</td>\n",
       "      <td>36.33486</td>\n",
       "      <td>155.61937</td>\n",
       "      <td>69.69195</td>\n",
       "    </tr>\n",
       "    <tr>\n",
       "      <th>chainlink</th>\n",
       "      <td>-0.23935</td>\n",
       "      <td>20.69459</td>\n",
       "      <td>9.30098</td>\n",
       "      <td>-11.21747</td>\n",
       "      <td>-43.69522</td>\n",
       "      <td>403.22917</td>\n",
       "      <td>325.13186</td>\n",
       "    </tr>\n",
       "    <tr>\n",
       "      <th>cardano</th>\n",
       "      <td>0.00322</td>\n",
       "      <td>13.99302</td>\n",
       "      <td>5.55476</td>\n",
       "      <td>10.10553</td>\n",
       "      <td>-22.84776</td>\n",
       "      <td>264.51418</td>\n",
       "      <td>156.09756</td>\n",
       "    </tr>\n",
       "    <tr>\n",
       "      <th>litecoin</th>\n",
       "      <td>-0.06341</td>\n",
       "      <td>6.60221</td>\n",
       "      <td>7.28931</td>\n",
       "      <td>1.21662</td>\n",
       "      <td>-17.23960</td>\n",
       "      <td>27.49919</td>\n",
       "      <td>-12.66408</td>\n",
       "    </tr>\n",
       "    <tr>\n",
       "      <th>bitcoin-cash-sv</th>\n",
       "      <td>0.92530</td>\n",
       "      <td>3.29641</td>\n",
       "      <td>-1.86656</td>\n",
       "      <td>2.88926</td>\n",
       "      <td>-24.87434</td>\n",
       "      <td>7.42562</td>\n",
       "      <td>93.73082</td>\n",
       "    </tr>\n",
       "  </tbody>\n",
       "</table>\n",
       "</div>"
      ],
      "text/plain": [
       "                 price_change_percentage_24h  price_change_percentage_7d  \\\n",
       "coin_id                                                                    \n",
       "bitcoin                              1.08388                     7.60278   \n",
       "ethereum                             0.22392                    10.38134   \n",
       "tether                              -0.21173                     0.04935   \n",
       "ripple                              -0.37819                    -0.60926   \n",
       "bitcoin-cash                         2.90585                    17.09717   \n",
       "binancecoin                          2.10423                    12.85511   \n",
       "chainlink                           -0.23935                    20.69459   \n",
       "cardano                              0.00322                    13.99302   \n",
       "litecoin                            -0.06341                     6.60221   \n",
       "bitcoin-cash-sv                      0.92530                     3.29641   \n",
       "\n",
       "                 price_change_percentage_14d  price_change_percentage_30d  \\\n",
       "coin_id                                                                     \n",
       "bitcoin                              6.57509                      7.67258   \n",
       "ethereum                             4.80849                      0.13169   \n",
       "tether                               0.00640                     -0.04237   \n",
       "ripple                               2.24984                      0.23455   \n",
       "bitcoin-cash                        14.75334                     15.74903   \n",
       "binancecoin                          6.80688                      0.05865   \n",
       "chainlink                            9.30098                    -11.21747   \n",
       "cardano                              5.55476                     10.10553   \n",
       "litecoin                             7.28931                      1.21662   \n",
       "bitcoin-cash-sv                     -1.86656                      2.88926   \n",
       "\n",
       "                 price_change_percentage_60d  price_change_percentage_200d  \\\n",
       "coin_id                                                                      \n",
       "bitcoin                             -3.25185                      83.51840   \n",
       "ethereum                           -12.88890                     186.77418   \n",
       "tether                               0.28037                      -0.00542   \n",
       "ripple                             -17.55245                      39.53888   \n",
       "bitcoin-cash                       -13.71793                      21.66042   \n",
       "binancecoin                         36.33486                     155.61937   \n",
       "chainlink                          -43.69522                     403.22917   \n",
       "cardano                            -22.84776                     264.51418   \n",
       "litecoin                           -17.23960                      27.49919   \n",
       "bitcoin-cash-sv                    -24.87434                       7.42562   \n",
       "\n",
       "                 price_change_percentage_1y  \n",
       "coin_id                                      \n",
       "bitcoin                            37.51761  \n",
       "ethereum                          101.96023  \n",
       "tether                              0.01954  \n",
       "ripple                            -16.60193  \n",
       "bitcoin-cash                       14.49384  \n",
       "binancecoin                        69.69195  \n",
       "chainlink                         325.13186  \n",
       "cardano                           156.09756  \n",
       "litecoin                          -12.66408  \n",
       "bitcoin-cash-sv                    93.73082  "
      ]
     },
     "execution_count": 82,
     "metadata": {},
     "output_type": "execute_result"
    }
   ],
   "source": [
    "# Load the data into a Pandas DataFrame\n",
    "df_market_data = pd.read_csv(\n",
    "    Path(\"Resources/crypto_market_data.csv\"),\n",
    "    index_col=\"coin_id\")\n",
    "\n",
    "# Display sample data\n",
    "df_market_data.head(10)"
   ]
  },
  {
   "cell_type": "code",
   "execution_count": 83,
   "metadata": {},
   "outputs": [
    {
     "data": {
      "text/html": [
       "<div>\n",
       "<style scoped>\n",
       "    .dataframe tbody tr th:only-of-type {\n",
       "        vertical-align: middle;\n",
       "    }\n",
       "\n",
       "    .dataframe tbody tr th {\n",
       "        vertical-align: top;\n",
       "    }\n",
       "\n",
       "    .dataframe thead th {\n",
       "        text-align: right;\n",
       "    }\n",
       "</style>\n",
       "<table border=\"1\" class=\"dataframe\">\n",
       "  <thead>\n",
       "    <tr style=\"text-align: right;\">\n",
       "      <th></th>\n",
       "      <th>price_change_percentage_24h</th>\n",
       "      <th>price_change_percentage_7d</th>\n",
       "      <th>price_change_percentage_14d</th>\n",
       "      <th>price_change_percentage_30d</th>\n",
       "      <th>price_change_percentage_60d</th>\n",
       "      <th>price_change_percentage_200d</th>\n",
       "      <th>price_change_percentage_1y</th>\n",
       "    </tr>\n",
       "  </thead>\n",
       "  <tbody>\n",
       "    <tr>\n",
       "      <th>count</th>\n",
       "      <td>41.000000</td>\n",
       "      <td>41.000000</td>\n",
       "      <td>41.000000</td>\n",
       "      <td>41.000000</td>\n",
       "      <td>41.000000</td>\n",
       "      <td>41.000000</td>\n",
       "      <td>41.000000</td>\n",
       "    </tr>\n",
       "    <tr>\n",
       "      <th>mean</th>\n",
       "      <td>-0.269686</td>\n",
       "      <td>4.497147</td>\n",
       "      <td>0.185787</td>\n",
       "      <td>1.545693</td>\n",
       "      <td>-0.094119</td>\n",
       "      <td>236.537432</td>\n",
       "      <td>347.667956</td>\n",
       "    </tr>\n",
       "    <tr>\n",
       "      <th>std</th>\n",
       "      <td>2.694793</td>\n",
       "      <td>6.375218</td>\n",
       "      <td>8.376939</td>\n",
       "      <td>26.344218</td>\n",
       "      <td>47.365803</td>\n",
       "      <td>435.225304</td>\n",
       "      <td>1247.842884</td>\n",
       "    </tr>\n",
       "    <tr>\n",
       "      <th>min</th>\n",
       "      <td>-13.527860</td>\n",
       "      <td>-6.094560</td>\n",
       "      <td>-18.158900</td>\n",
       "      <td>-34.705480</td>\n",
       "      <td>-44.822480</td>\n",
       "      <td>-0.392100</td>\n",
       "      <td>-17.567530</td>\n",
       "    </tr>\n",
       "    <tr>\n",
       "      <th>25%</th>\n",
       "      <td>-0.608970</td>\n",
       "      <td>0.047260</td>\n",
       "      <td>-5.026620</td>\n",
       "      <td>-10.438470</td>\n",
       "      <td>-25.907990</td>\n",
       "      <td>21.660420</td>\n",
       "      <td>0.406170</td>\n",
       "    </tr>\n",
       "    <tr>\n",
       "      <th>50%</th>\n",
       "      <td>-0.063410</td>\n",
       "      <td>3.296410</td>\n",
       "      <td>0.109740</td>\n",
       "      <td>-0.042370</td>\n",
       "      <td>-7.544550</td>\n",
       "      <td>83.905200</td>\n",
       "      <td>69.691950</td>\n",
       "    </tr>\n",
       "    <tr>\n",
       "      <th>75%</th>\n",
       "      <td>0.612090</td>\n",
       "      <td>7.602780</td>\n",
       "      <td>5.510740</td>\n",
       "      <td>4.578130</td>\n",
       "      <td>0.657260</td>\n",
       "      <td>216.177610</td>\n",
       "      <td>168.372510</td>\n",
       "    </tr>\n",
       "    <tr>\n",
       "      <th>max</th>\n",
       "      <td>4.840330</td>\n",
       "      <td>20.694590</td>\n",
       "      <td>24.239190</td>\n",
       "      <td>140.795700</td>\n",
       "      <td>223.064370</td>\n",
       "      <td>2227.927820</td>\n",
       "      <td>7852.089700</td>\n",
       "    </tr>\n",
       "  </tbody>\n",
       "</table>\n",
       "</div>"
      ],
      "text/plain": [
       "       price_change_percentage_24h  price_change_percentage_7d  \\\n",
       "count                    41.000000                   41.000000   \n",
       "mean                     -0.269686                    4.497147   \n",
       "std                       2.694793                    6.375218   \n",
       "min                     -13.527860                   -6.094560   \n",
       "25%                      -0.608970                    0.047260   \n",
       "50%                      -0.063410                    3.296410   \n",
       "75%                       0.612090                    7.602780   \n",
       "max                       4.840330                   20.694590   \n",
       "\n",
       "       price_change_percentage_14d  price_change_percentage_30d  \\\n",
       "count                    41.000000                    41.000000   \n",
       "mean                      0.185787                     1.545693   \n",
       "std                       8.376939                    26.344218   \n",
       "min                     -18.158900                   -34.705480   \n",
       "25%                      -5.026620                   -10.438470   \n",
       "50%                       0.109740                    -0.042370   \n",
       "75%                       5.510740                     4.578130   \n",
       "max                      24.239190                   140.795700   \n",
       "\n",
       "       price_change_percentage_60d  price_change_percentage_200d  \\\n",
       "count                    41.000000                     41.000000   \n",
       "mean                     -0.094119                    236.537432   \n",
       "std                      47.365803                    435.225304   \n",
       "min                     -44.822480                     -0.392100   \n",
       "25%                     -25.907990                     21.660420   \n",
       "50%                      -7.544550                     83.905200   \n",
       "75%                       0.657260                    216.177610   \n",
       "max                     223.064370                   2227.927820   \n",
       "\n",
       "       price_change_percentage_1y  \n",
       "count                   41.000000  \n",
       "mean                   347.667956  \n",
       "std                   1247.842884  \n",
       "min                    -17.567530  \n",
       "25%                      0.406170  \n",
       "50%                     69.691950  \n",
       "75%                    168.372510  \n",
       "max                   7852.089700  "
      ]
     },
     "execution_count": 83,
     "metadata": {},
     "output_type": "execute_result"
    }
   ],
   "source": [
    "# Generate summary statistics\n",
    "df_market_data.describe()"
   ]
  },
  {
   "cell_type": "code",
   "execution_count": 84,
   "metadata": {},
   "outputs": [
    {
     "data": {},
     "metadata": {},
     "output_type": "display_data"
    },
    {
     "data": {
      "application/vnd.holoviews_exec.v0+json": "",
      "text/html": [
       "<div id='2667'>\n",
       "  <div class=\"bk-root\" id=\"425ed65e-33e8-434a-b606-5f2823ba7220\" data-root-id=\"2667\"></div>\n",
       "</div>\n",
       "<script type=\"application/javascript\">(function(root) {\n",
       "  function embed_document(root) {\n",
       "    var docs_json = {\"0d0ab44b-0e25-4876-991f-89b2adf9fc30\":{\"defs\":[{\"extends\":null,\"module\":null,\"name\":\"ReactiveHTML1\",\"overrides\":[],\"properties\":[]},{\"extends\":null,\"module\":null,\"name\":\"FlexBox1\",\"overrides\":[],\"properties\":[{\"default\":\"flex-start\",\"kind\":null,\"name\":\"align_content\"},{\"default\":\"flex-start\",\"kind\":null,\"name\":\"align_items\"},{\"default\":\"row\",\"kind\":null,\"name\":\"flex_direction\"},{\"default\":\"wrap\",\"kind\":null,\"name\":\"flex_wrap\"},{\"default\":\"flex-start\",\"kind\":null,\"name\":\"justify_content\"}]},{\"extends\":null,\"module\":null,\"name\":\"GridStack1\",\"overrides\":[],\"properties\":[{\"default\":\"warn\",\"kind\":null,\"name\":\"mode\"},{\"default\":null,\"kind\":null,\"name\":\"ncols\"},{\"default\":null,\"kind\":null,\"name\":\"nrows\"},{\"default\":true,\"kind\":null,\"name\":\"allow_resize\"},{\"default\":true,\"kind\":null,\"name\":\"allow_drag\"},{\"default\":[],\"kind\":null,\"name\":\"state\"}]},{\"extends\":null,\"module\":null,\"name\":\"click1\",\"overrides\":[],\"properties\":[{\"default\":\"\",\"kind\":null,\"name\":\"terminal_output\"},{\"default\":\"\",\"kind\":null,\"name\":\"debug_name\"},{\"default\":0,\"kind\":null,\"name\":\"clears\"}]},{\"extends\":null,\"module\":null,\"name\":\"NotificationAreaBase1\",\"overrides\":[],\"properties\":[{\"default\":\"bottom-right\",\"kind\":null,\"name\":\"position\"},{\"default\":0,\"kind\":null,\"name\":\"_clear\"}]},{\"extends\":null,\"module\":null,\"name\":\"NotificationArea1\",\"overrides\":[],\"properties\":[{\"default\":[],\"kind\":null,\"name\":\"notifications\"},{\"default\":\"bottom-right\",\"kind\":null,\"name\":\"position\"},{\"default\":0,\"kind\":null,\"name\":\"_clear\"},{\"default\":[{\"background\":\"#ffc107\",\"icon\":{\"className\":\"fas fa-exclamation-triangle\",\"color\":\"white\",\"tagName\":\"i\"},\"type\":\"warning\"},{\"background\":\"#007bff\",\"icon\":{\"className\":\"fas fa-info-circle\",\"color\":\"white\",\"tagName\":\"i\"},\"type\":\"info\"}],\"kind\":null,\"name\":\"types\"}]},{\"extends\":null,\"module\":null,\"name\":\"Notification\",\"overrides\":[],\"properties\":[{\"default\":null,\"kind\":null,\"name\":\"background\"},{\"default\":3000,\"kind\":null,\"name\":\"duration\"},{\"default\":null,\"kind\":null,\"name\":\"icon\"},{\"default\":\"\",\"kind\":null,\"name\":\"message\"},{\"default\":null,\"kind\":null,\"name\":\"notification_type\"},{\"default\":false,\"kind\":null,\"name\":\"_destroyed\"}]},{\"extends\":null,\"module\":null,\"name\":\"TemplateActions1\",\"overrides\":[],\"properties\":[{\"default\":0,\"kind\":null,\"name\":\"open_modal\"},{\"default\":0,\"kind\":null,\"name\":\"close_modal\"}]},{\"extends\":null,\"module\":null,\"name\":\"MaterialTemplateActions1\",\"overrides\":[],\"properties\":[{\"default\":0,\"kind\":null,\"name\":\"open_modal\"},{\"default\":0,\"kind\":null,\"name\":\"close_modal\"}]}],\"roots\":{\"references\":[{\"attributes\":{\"factors\":[\"bitcoin\",\"ethereum\",\"tether\",\"ripple\",\"bitcoin-cash\",\"binancecoin\",\"chainlink\",\"cardano\",\"litecoin\",\"bitcoin-cash-sv\",\"crypto-com-chain\",\"usd-coin\",\"eos\",\"monero\",\"tron\",\"tezos\",\"okb\",\"stellar\",\"cosmos\",\"cdai\",\"neo\",\"wrapped-bitcoin\",\"leo-token\",\"huobi-token\",\"nem\",\"binance-usd\",\"iota\",\"vechain\",\"zcash\",\"theta-token\",\"dash\",\"ethereum-classic\",\"ethlend\",\"maker\",\"havven\",\"omisego\",\"celsius-degree-token\",\"ontology\",\"ftx-token\",\"true-usd\",\"digibyte\"],\"tags\":[[[\"coin_id\",\"coin_id\",null]]]},\"id\":\"2668\",\"type\":\"FactorRange\"},{\"attributes\":{\"coordinates\":null,\"group\":null,\"text_color\":\"black\",\"text_font_size\":\"12pt\"},\"id\":\"2678\",\"type\":\"Title\"},{\"attributes\":{},\"id\":\"2711\",\"type\":\"AllLabels\"},{\"attributes\":{\"coordinates\":null,\"data_source\":{\"id\":\"2779\"},\"glyph\":{\"id\":\"2782\"},\"group\":null,\"hover_glyph\":null,\"muted_glyph\":{\"id\":\"2784\"},\"nonselection_glyph\":{\"id\":\"2783\"},\"selection_glyph\":{\"id\":\"2804\"},\"view\":{\"id\":\"2786\"}},\"id\":\"2785\",\"type\":\"GlyphRenderer\"},{\"attributes\":{\"data\":{\"Variable\":[\"price_change_percentage_14d\",\"price_change_percentage_14d\",\"price_change_percentage_14d\",\"price_change_percentage_14d\",\"price_change_percentage_14d\",\"price_change_percentage_14d\",\"price_change_percentage_14d\",\"price_change_percentage_14d\",\"price_change_percentage_14d\",\"price_change_percentage_14d\",\"price_change_percentage_14d\",\"price_change_percentage_14d\",\"price_change_percentage_14d\",\"price_change_percentage_14d\",\"price_change_percentage_14d\",\"price_change_percentage_14d\",\"price_change_percentage_14d\",\"price_change_percentage_14d\",\"price_change_percentage_14d\",\"price_change_percentage_14d\",\"price_change_percentage_14d\",\"price_change_percentage_14d\",\"price_change_percentage_14d\",\"price_change_percentage_14d\",\"price_change_percentage_14d\",\"price_change_percentage_14d\",\"price_change_percentage_14d\",\"price_change_percentage_14d\",\"price_change_percentage_14d\",\"price_change_percentage_14d\",\"price_change_percentage_14d\",\"price_change_percentage_14d\",\"price_change_percentage_14d\",\"price_change_percentage_14d\",\"price_change_percentage_14d\",\"price_change_percentage_14d\",\"price_change_percentage_14d\",\"price_change_percentage_14d\",\"price_change_percentage_14d\",\"price_change_percentage_14d\",\"price_change_percentage_14d\"],\"coin_id\":[\"bitcoin\",\"ethereum\",\"tether\",\"ripple\",\"bitcoin-cash\",\"binancecoin\",\"chainlink\",\"cardano\",\"litecoin\",\"bitcoin-cash-sv\",\"crypto-com-chain\",\"usd-coin\",\"eos\",\"monero\",\"tron\",\"tezos\",\"okb\",\"stellar\",\"cosmos\",\"cdai\",\"neo\",\"wrapped-bitcoin\",\"leo-token\",\"huobi-token\",\"nem\",\"binance-usd\",\"iota\",\"vechain\",\"zcash\",\"theta-token\",\"dash\",\"ethereum-classic\",\"ethlend\",\"maker\",\"havven\",\"omisego\",\"celsius-degree-token\",\"ontology\",\"ftx-token\",\"true-usd\",\"digibyte\"],\"value\":{\"__ndarray__\":\"zQaZZORMGkB5knTN5DsTQC1DHOviNno/ctwpHaz/AUCLic3HtYEtQJgvL8A+OhtACoDxDBqaIkAOhGQBEzgWQICfceFAKB1AIVnABG7d/b8xsfm4NhQhwGtI3GPpQ3e/pfeNrz0z8j8ao3VUNWkyQBUA4xk0dPY/VIzzN6GQAkCXrfVFQhsUwKpla32RUPG/Qgkzbf8KFkDPg7uzdtvFP8MN+PwwsiPAYFlpUgo6GkB3+GuyRh0cwM2v5gDBHN0/jliLTwEwBUDWrZ6T3jeuP7pOIy2VNw7Am1Wfq60oMsAJM23/yioXQJfK2xFOSxrAQE0tW+uL4D9OucK7XET0v0SLbOf7mSPA/pqsUQ/R978vaYzWUZUqwDtT6LzGbirAvodLjjs9OEByUMJM2x8lwJ30vvG1Z8q/ZCMQr+sXvD+7D0BqE0cdwA==\",\"dtype\":\"float64\",\"order\":\"little\",\"shape\":[41]}},\"selected\":{\"id\":\"2756\"},\"selection_policy\":{\"id\":\"2774\"}},\"id\":\"2755\",\"type\":\"ColumnDataSource\"},{\"attributes\":{\"coordinates\":null,\"data_source\":{\"id\":\"2755\"},\"glyph\":{\"id\":\"2758\"},\"group\":null,\"hover_glyph\":null,\"muted_glyph\":{\"id\":\"2760\"},\"nonselection_glyph\":{\"id\":\"2759\"},\"selection_glyph\":{\"id\":\"2778\"},\"view\":{\"id\":\"2762\"}},\"id\":\"2761\",\"type\":\"GlyphRenderer\"},{\"attributes\":{},\"id\":\"2710\",\"type\":\"BasicTickFormatter\"},{\"attributes\":{\"line_color\":\"#9467bd\",\"line_width\":2,\"x\":{\"field\":\"coin_id\"},\"y\":{\"field\":\"value\"}},\"id\":\"2894\",\"type\":\"Line\"},{\"attributes\":{\"callback\":null,\"renderers\":[{\"id\":\"2718\"},{\"id\":\"2739\"},{\"id\":\"2761\"},{\"id\":\"2785\"},{\"id\":\"2811\"},{\"id\":\"2839\"},{\"id\":\"2869\"}],\"tags\":[\"hv_created\"],\"tooltips\":[[\"Variable\",\"@{Variable}\"],[\"coin_id\",\"@{coin_id}\"],[\"value\",\"@{value}\"]]},\"id\":\"2670\",\"type\":\"HoverTool\"},{\"attributes\":{},\"id\":\"2858\",\"type\":\"UnionRenderers\"},{\"attributes\":{},\"id\":\"2682\",\"type\":\"CategoricalScale\"},{\"attributes\":{\"axis\":{\"id\":\"2686\"},\"coordinates\":null,\"grid_line_color\":null,\"group\":null,\"ticker\":null},\"id\":\"2688\",\"type\":\"Grid\"},{\"attributes\":{\"label\":{\"value\":\"price_change_percentage_200d\"},\"renderers\":[{\"id\":\"2839\"}]},\"id\":\"2861\",\"type\":\"LegendItem\"},{\"attributes\":{\"axis_label\":\"coin_id\",\"coordinates\":null,\"formatter\":{\"id\":\"2707\"},\"group\":null,\"major_label_orientation\":1.5707963267948966,\"major_label_policy\":{\"id\":\"2708\"},\"ticker\":{\"id\":\"2687\"}},\"id\":\"2686\",\"type\":\"CategoricalAxis\"},{\"attributes\":{\"line_color\":\"#17becf\",\"line_width\":2,\"x\":{\"field\":\"coin_id\"},\"y\":{\"field\":\"value\"}},\"id\":\"2836\",\"type\":\"Line\"},{\"attributes\":{\"line_color\":\"#17becf\",\"line_width\":2,\"x\":{\"field\":\"coin_id\"},\"y\":{\"field\":\"value\"}},\"id\":\"2862\",\"type\":\"Line\"},{\"attributes\":{},\"id\":\"2684\",\"type\":\"LinearScale\"},{\"attributes\":{},\"id\":\"2690\",\"type\":\"BasicTicker\"},{\"attributes\":{\"line_alpha\":0.1,\"line_color\":\"#30a2da\",\"line_width\":2,\"x\":{\"field\":\"coin_id\"},\"y\":{\"field\":\"value\"}},\"id\":\"2716\",\"type\":\"Line\"},{\"attributes\":{},\"id\":\"2687\",\"type\":\"CategoricalTicker\"},{\"attributes\":{\"line_alpha\":0.1,\"line_color\":\"#6d904f\",\"line_width\":2,\"x\":{\"field\":\"coin_id\"},\"y\":{\"field\":\"value\"}},\"id\":\"2783\",\"type\":\"Line\"},{\"attributes\":{},\"id\":\"2828\",\"type\":\"UnionRenderers\"},{\"attributes\":{\"data\":{\"Variable\":[\"price_change_percentage_30d\",\"price_change_percentage_30d\",\"price_change_percentage_30d\",\"price_change_percentage_30d\",\"price_change_percentage_30d\",\"price_change_percentage_30d\",\"price_change_percentage_30d\",\"price_change_percentage_30d\",\"price_change_percentage_30d\",\"price_change_percentage_30d\",\"price_change_percentage_30d\",\"price_change_percentage_30d\",\"price_change_percentage_30d\",\"price_change_percentage_30d\",\"price_change_percentage_30d\",\"price_change_percentage_30d\",\"price_change_percentage_30d\",\"price_change_percentage_30d\",\"price_change_percentage_30d\",\"price_change_percentage_30d\",\"price_change_percentage_30d\",\"price_change_percentage_30d\",\"price_change_percentage_30d\",\"price_change_percentage_30d\",\"price_change_percentage_30d\",\"price_change_percentage_30d\",\"price_change_percentage_30d\",\"price_change_percentage_30d\",\"price_change_percentage_30d\",\"price_change_percentage_30d\",\"price_change_percentage_30d\",\"price_change_percentage_30d\",\"price_change_percentage_30d\",\"price_change_percentage_30d\",\"price_change_percentage_30d\",\"price_change_percentage_30d\",\"price_change_percentage_30d\",\"price_change_percentage_30d\",\"price_change_percentage_30d\",\"price_change_percentage_30d\",\"price_change_percentage_30d\"],\"coin_id\":[\"bitcoin\",\"ethereum\",\"tether\",\"ripple\",\"bitcoin-cash\",\"binancecoin\",\"chainlink\",\"cardano\",\"litecoin\",\"bitcoin-cash-sv\",\"crypto-com-chain\",\"usd-coin\",\"eos\",\"monero\",\"tron\",\"tezos\",\"okb\",\"stellar\",\"cosmos\",\"cdai\",\"neo\",\"wrapped-bitcoin\",\"leo-token\",\"huobi-token\",\"nem\",\"binance-usd\",\"iota\",\"vechain\",\"zcash\",\"theta-token\",\"dash\",\"ethereum-classic\",\"ethlend\",\"maker\",\"havven\",\"omisego\",\"celsius-degree-token\",\"ontology\",\"ftx-token\",\"true-usd\",\"digibyte\"],\"value\":{\"__ndarray__\":\"VMa/z7iwHkAl6ZrJN9vAP/28qUiFsaW/L26jAbwFzj8dcjPcgH8vQPMf0m9fB64/5bhTOlhvJsBnfjUHCDYkQGWNeohGd/M/sCDNWDQdB0Cmft5UpHIxwJgvL8A+OsW/t0WZDTKJEsDeVKTC2HpDQEzD8BExNSnAjWK5pdVALMDjjcwjf+AkwIrIsIo3QiDAjliLTwFQEkAWpBmLpnMBwE3WqIdo9DXAVG8NbJWAHUAnMQisHJoIQGA8g4b+CQrACcTr+gU7DcCPpQ9dUN+SP80Bgjl6nBDA9S1zuixWLMBC7Eyh83odQEku/yH9bj9AtTf4wmQqH8Am/FI/byoHQNjYJaq3/j3A9GxWfa62MECdRloqb9c0wF4R/G8lOyLArK3YX3aZYUC1/SsrTVpBwP/PYb68ICXAFR3J5T+knz+ndLD+z4EqQA==\",\"dtype\":\"float64\",\"order\":\"little\",\"shape\":[41]}},\"selected\":{\"id\":\"2780\"},\"selection_policy\":{\"id\":\"2800\"}},\"id\":\"2779\",\"type\":\"ColumnDataSource\"},{\"attributes\":{\"axis_label\":\"\",\"coordinates\":null,\"formatter\":{\"id\":\"2710\"},\"group\":null,\"major_label_policy\":{\"id\":\"2711\"},\"ticker\":{\"id\":\"2690\"}},\"id\":\"2689\",\"type\":\"LinearAxis\"},{\"attributes\":{\"line_color\":\"#8b8b8b\",\"line_width\":2,\"x\":{\"field\":\"coin_id\"},\"y\":{\"field\":\"value\"}},\"id\":\"2808\",\"type\":\"Line\"},{\"attributes\":{\"label\":{\"value\":\"price_change_percentage_60d\"},\"renderers\":[{\"id\":\"2811\"}]},\"id\":\"2831\",\"type\":\"LegendItem\"},{\"attributes\":{\"source\":{\"id\":\"2733\"}},\"id\":\"2740\",\"type\":\"CDSView\"},{\"attributes\":{\"line_color\":\"#e5ae38\",\"line_width\":2,\"x\":{\"field\":\"coin_id\"},\"y\":{\"field\":\"value\"}},\"id\":\"2778\",\"type\":\"Line\"},{\"attributes\":{\"axis\":{\"id\":\"2689\"},\"coordinates\":null,\"dimension\":1,\"grid_line_color\":null,\"group\":null,\"ticker\":null},\"id\":\"2692\",\"type\":\"Grid\"},{\"attributes\":{},\"id\":\"2774\",\"type\":\"UnionRenderers\"},{\"attributes\":{\"line_color\":\"#8b8b8b\",\"line_width\":2,\"x\":{\"field\":\"coin_id\"},\"y\":{\"field\":\"value\"}},\"id\":\"2832\",\"type\":\"Line\"},{\"attributes\":{\"line_color\":\"#9467bd\",\"line_width\":2,\"x\":{\"field\":\"coin_id\"},\"y\":{\"field\":\"value\"}},\"id\":\"2866\",\"type\":\"Line\"},{\"attributes\":{},\"id\":\"2750\",\"type\":\"UnionRenderers\"},{\"attributes\":{\"line_alpha\":0.1,\"line_color\":\"#17becf\",\"line_width\":2,\"x\":{\"field\":\"coin_id\"},\"y\":{\"field\":\"value\"}},\"id\":\"2837\",\"type\":\"Line\"},{\"attributes\":{\"coordinates\":null,\"data_source\":{\"id\":\"2863\"},\"glyph\":{\"id\":\"2866\"},\"group\":null,\"hover_glyph\":null,\"muted_glyph\":{\"id\":\"2868\"},\"nonselection_glyph\":{\"id\":\"2867\"},\"selection_glyph\":{\"id\":\"2894\"},\"view\":{\"id\":\"2870\"}},\"id\":\"2869\",\"type\":\"GlyphRenderer\"},{\"attributes\":{\"line_color\":\"#fc4f30\",\"line_width\":2,\"x\":{\"field\":\"coin_id\"},\"y\":{\"field\":\"value\"}},\"id\":\"2754\",\"type\":\"Line\"},{\"attributes\":{\"label\":{\"value\":\"price_change_percentage_7d\"},\"renderers\":[{\"id\":\"2739\"}]},\"id\":\"2753\",\"type\":\"LegendItem\"},{\"attributes\":{\"line_alpha\":0.1,\"line_color\":\"#9467bd\",\"line_width\":2,\"x\":{\"field\":\"coin_id\"},\"y\":{\"field\":\"value\"}},\"id\":\"2867\",\"type\":\"Line\"},{\"attributes\":{\"label\":{\"value\":\"price_change_percentage_14d\"},\"renderers\":[{\"id\":\"2761\"}]},\"id\":\"2777\",\"type\":\"LegendItem\"},{\"attributes\":{\"source\":{\"id\":\"2779\"}},\"id\":\"2786\",\"type\":\"CDSView\"},{\"attributes\":{\"line_color\":\"#6d904f\",\"line_width\":2,\"x\":{\"field\":\"coin_id\"},\"y\":{\"field\":\"value\"}},\"id\":\"2804\",\"type\":\"Line\"},{\"attributes\":{},\"id\":\"2800\",\"type\":\"UnionRenderers\"},{\"attributes\":{},\"id\":\"2890\",\"type\":\"UnionRenderers\"},{\"attributes\":{\"label\":{\"value\":\"price_change_percentage_30d\"},\"renderers\":[{\"id\":\"2785\"}]},\"id\":\"2803\",\"type\":\"LegendItem\"},{\"attributes\":{},\"id\":\"2727\",\"type\":\"UnionRenderers\"},{\"attributes\":{},\"id\":\"2734\",\"type\":\"Selection\"},{\"attributes\":{\"line_alpha\":0.2,\"line_color\":\"#e5ae38\",\"line_width\":2,\"x\":{\"field\":\"coin_id\"},\"y\":{\"field\":\"value\"}},\"id\":\"2760\",\"type\":\"Line\"},{\"attributes\":{\"line_color\":\"#30a2da\",\"line_width\":2,\"x\":{\"field\":\"coin_id\"},\"y\":{\"field\":\"value\"}},\"id\":\"2732\",\"type\":\"Line\"},{\"attributes\":{},\"id\":\"2693\",\"type\":\"SaveTool\"},{\"attributes\":{\"line_alpha\":0.2,\"line_color\":\"#fc4f30\",\"line_width\":2,\"x\":{\"field\":\"coin_id\"},\"y\":{\"field\":\"value\"}},\"id\":\"2738\",\"type\":\"Line\"},{\"attributes\":{\"source\":{\"id\":\"2755\"}},\"id\":\"2762\",\"type\":\"CDSView\"},{\"attributes\":{\"data\":{\"Variable\":[\"price_change_percentage_1y\",\"price_change_percentage_1y\",\"price_change_percentage_1y\",\"price_change_percentage_1y\",\"price_change_percentage_1y\",\"price_change_percentage_1y\",\"price_change_percentage_1y\",\"price_change_percentage_1y\",\"price_change_percentage_1y\",\"price_change_percentage_1y\",\"price_change_percentage_1y\",\"price_change_percentage_1y\",\"price_change_percentage_1y\",\"price_change_percentage_1y\",\"price_change_percentage_1y\",\"price_change_percentage_1y\",\"price_change_percentage_1y\",\"price_change_percentage_1y\",\"price_change_percentage_1y\",\"price_change_percentage_1y\",\"price_change_percentage_1y\",\"price_change_percentage_1y\",\"price_change_percentage_1y\",\"price_change_percentage_1y\",\"price_change_percentage_1y\",\"price_change_percentage_1y\",\"price_change_percentage_1y\",\"price_change_percentage_1y\",\"price_change_percentage_1y\",\"price_change_percentage_1y\",\"price_change_percentage_1y\",\"price_change_percentage_1y\",\"price_change_percentage_1y\",\"price_change_percentage_1y\",\"price_change_percentage_1y\",\"price_change_percentage_1y\",\"price_change_percentage_1y\",\"price_change_percentage_1y\",\"price_change_percentage_1y\",\"price_change_percentage_1y\",\"price_change_percentage_1y\"],\"coin_id\":[\"bitcoin\",\"ethereum\",\"tether\",\"ripple\",\"bitcoin-cash\",\"binancecoin\",\"chainlink\",\"cardano\",\"litecoin\",\"bitcoin-cash-sv\",\"crypto-com-chain\",\"usd-coin\",\"eos\",\"monero\",\"tron\",\"tezos\",\"okb\",\"stellar\",\"cosmos\",\"cdai\",\"neo\",\"wrapped-bitcoin\",\"leo-token\",\"huobi-token\",\"nem\",\"binance-usd\",\"iota\",\"vechain\",\"zcash\",\"theta-token\",\"dash\",\"ethereum-classic\",\"ethlend\",\"maker\",\"havven\",\"omisego\",\"celsius-degree-token\",\"ontology\",\"ftx-token\",\"true-usd\",\"digibyte\"],\"value\":{\"__ndarray__\":\"kQpjC0HCQkDWqIdodH1ZQN/42jNLApQ/NXugFRiaMMDN6bKY2PwsQOcdp+hIbFFAaTo7GRxSdEC6LCY2H4NjQPnaM0sCVCnA0NA/wcVuV0CQvd798RBzQL4wmSoYlci/t39lpUmRMcDovMYuUaFhQEPKT6p9nk1A6PaSxmiAYUBdUN8yp75hQMzuycNCnStAw7ZFmQ2cVEAHsTOFzmvSvx/0bFZ9aWBAhhvw+WHEQkAN/RNcrAA1QN8Vwf9WkjhAS7A4nPkWaUAVUn5S7dPBPzUk7rH04Q/AIsMq3shbaUBf0hito7hUQPyMCwcC64VAzsKedvirA8Dwoq8gzTgmQHRGlPYWrL5Ayk+qfTpOJUDfiVkvRjaFQEfJq3MMC3RAnFCIgONmn0CsVib8Uk8pwNttF5rrC2VAyXGndLD+2T/ZfFwbKgxnQA==\",\"dtype\":\"float64\",\"order\":\"little\",\"shape\":[41]}},\"selected\":{\"id\":\"2864\"},\"selection_policy\":{\"id\":\"2890\"}},\"id\":\"2863\",\"type\":\"ColumnDataSource\"},{\"attributes\":{\"line_color\":\"#e5ae38\",\"line_width\":2,\"x\":{\"field\":\"coin_id\"},\"y\":{\"field\":\"value\"}},\"id\":\"2758\",\"type\":\"Line\"},{\"attributes\":{\"data\":{\"Variable\":[\"price_change_percentage_200d\",\"price_change_percentage_200d\",\"price_change_percentage_200d\",\"price_change_percentage_200d\",\"price_change_percentage_200d\",\"price_change_percentage_200d\",\"price_change_percentage_200d\",\"price_change_percentage_200d\",\"price_change_percentage_200d\",\"price_change_percentage_200d\",\"price_change_percentage_200d\",\"price_change_percentage_200d\",\"price_change_percentage_200d\",\"price_change_percentage_200d\",\"price_change_percentage_200d\",\"price_change_percentage_200d\",\"price_change_percentage_200d\",\"price_change_percentage_200d\",\"price_change_percentage_200d\",\"price_change_percentage_200d\",\"price_change_percentage_200d\",\"price_change_percentage_200d\",\"price_change_percentage_200d\",\"price_change_percentage_200d\",\"price_change_percentage_200d\",\"price_change_percentage_200d\",\"price_change_percentage_200d\",\"price_change_percentage_200d\",\"price_change_percentage_200d\",\"price_change_percentage_200d\",\"price_change_percentage_200d\",\"price_change_percentage_200d\",\"price_change_percentage_200d\",\"price_change_percentage_200d\",\"price_change_percentage_200d\",\"price_change_percentage_200d\",\"price_change_percentage_200d\",\"price_change_percentage_200d\",\"price_change_percentage_200d\",\"price_change_percentage_200d\",\"price_change_percentage_200d\"],\"coin_id\":[\"bitcoin\",\"ethereum\",\"tether\",\"ripple\",\"bitcoin-cash\",\"binancecoin\",\"chainlink\",\"cardano\",\"litecoin\",\"bitcoin-cash-sv\",\"crypto-com-chain\",\"usd-coin\",\"eos\",\"monero\",\"tron\",\"tezos\",\"okb\",\"stellar\",\"cosmos\",\"cdai\",\"neo\",\"wrapped-bitcoin\",\"leo-token\",\"huobi-token\",\"nem\",\"binance-usd\",\"iota\",\"vechain\",\"zcash\",\"theta-token\",\"dash\",\"ethereum-classic\",\"ethlend\",\"maker\",\"havven\",\"omisego\",\"celsius-degree-token\",\"ontology\",\"ftx-token\",\"true-usd\",\"digibyte\"],\"value\":{\"__ndarray__\":\"xY8xdy3hVED0piIVxlhnQBe86CtIM3a/9zsUBfrEQ0DTn/1IEak1QPTDCOHRc2NAl3MprqozeUAexM4UOohwQIB9dOrKfztAFhiyutWzHUCN7iB2plZsQIQqNXugFcS/ZHWr56QPMkALe9rhrzBlQH+8V61MnGBA5nlwd9a2RUARHm0csfpDQC+Lic3HJ1VAkj8YeO4/Z0AOvjCZKhjZv2vUQzS61GNAtRX7y+75VEC5GW7A52cwQAPso1NXHkVAKa4q+64Fa0A7NgLxun65P+TaUDHOwVdAyM1wAz7bcEAFwHgGDaNeQH3Qs1k1lYtAOUVHcvnvGEANGvonuMgkQCYZOQvbZ6FAGD4ipkSiVED5MeauZXeDQHi0ccQaSoJAC170FcTYmEB1PGagMmJLQC2yne+nvkxAndfYJaq3tr9R9wFIbSl+QA==\",\"dtype\":\"float64\",\"order\":\"little\",\"shape\":[41]}},\"selected\":{\"id\":\"2834\"},\"selection_policy\":{\"id\":\"2858\"}},\"id\":\"2833\",\"type\":\"ColumnDataSource\"},{\"attributes\":{},\"id\":\"2694\",\"type\":\"PanTool\"},{\"attributes\":{},\"id\":\"2697\",\"type\":\"ResetTool\"},{\"attributes\":{\"label\":{\"value\":\"price_change_percentage_1y\"},\"renderers\":[{\"id\":\"2869\"}]},\"id\":\"2893\",\"type\":\"LegendItem\"},{\"attributes\":{\"line_alpha\":0.1,\"line_color\":\"#8b8b8b\",\"line_width\":2,\"x\":{\"field\":\"coin_id\"},\"y\":{\"field\":\"value\"}},\"id\":\"2809\",\"type\":\"Line\"},{\"attributes\":{},\"id\":\"2695\",\"type\":\"WheelZoomTool\"},{\"attributes\":{\"below\":[{\"id\":\"2686\"}],\"center\":[{\"id\":\"2688\"},{\"id\":\"2692\"}],\"height\":400,\"left\":[{\"id\":\"2689\"}],\"margin\":[5,5,5,5],\"min_border_bottom\":10,\"min_border_left\":10,\"min_border_right\":10,\"min_border_top\":10,\"renderers\":[{\"id\":\"2718\"},{\"id\":\"2739\"},{\"id\":\"2761\"},{\"id\":\"2785\"},{\"id\":\"2811\"},{\"id\":\"2839\"},{\"id\":\"2869\"}],\"right\":[{\"id\":\"2730\"}],\"sizing_mode\":\"fixed\",\"title\":{\"id\":\"2678\"},\"toolbar\":{\"id\":\"2699\"},\"width\":800,\"x_range\":{\"id\":\"2668\"},\"x_scale\":{\"id\":\"2682\"},\"y_range\":{\"id\":\"2669\"},\"y_scale\":{\"id\":\"2684\"}},\"id\":\"2677\",\"subtype\":\"Figure\",\"type\":\"Plot\"},{\"attributes\":{\"end\":8641.780918,\"reset_end\":8641.780918,\"reset_start\":-834.5136980000001,\"start\":-834.5136980000001,\"tags\":[[[\"value\",\"value\",null]]]},\"id\":\"2669\",\"type\":\"Range1d\"},{\"attributes\":{\"overlay\":{\"id\":\"2698\"}},\"id\":\"2696\",\"type\":\"BoxZoomTool\"},{\"attributes\":{},\"id\":\"2864\",\"type\":\"Selection\"},{\"attributes\":{\"coordinates\":null,\"data_source\":{\"id\":\"2833\"},\"glyph\":{\"id\":\"2836\"},\"group\":null,\"hover_glyph\":null,\"muted_glyph\":{\"id\":\"2838\"},\"nonselection_glyph\":{\"id\":\"2837\"},\"selection_glyph\":{\"id\":\"2862\"},\"view\":{\"id\":\"2840\"}},\"id\":\"2839\",\"type\":\"GlyphRenderer\"},{\"attributes\":{\"children\":[{\"id\":\"2677\"}],\"height\":400,\"margin\":[0,0,0,0],\"name\":\"Row02784\",\"sizing_mode\":\"fixed\",\"tags\":[\"embedded\"],\"width\":800},\"id\":\"2667\",\"type\":\"Row\"},{\"attributes\":{\"line_color\":\"#30a2da\",\"line_width\":2,\"x\":{\"field\":\"coin_id\"},\"y\":{\"field\":\"value\"}},\"id\":\"2715\",\"type\":\"Line\"},{\"attributes\":{\"coordinates\":null,\"data_source\":{\"id\":\"2805\"},\"glyph\":{\"id\":\"2808\"},\"group\":null,\"hover_glyph\":null,\"muted_glyph\":{\"id\":\"2810\"},\"nonselection_glyph\":{\"id\":\"2809\"},\"selection_glyph\":{\"id\":\"2832\"},\"view\":{\"id\":\"2812\"}},\"id\":\"2811\",\"type\":\"GlyphRenderer\"},{\"attributes\":{},\"id\":\"2834\",\"type\":\"Selection\"},{\"attributes\":{\"line_color\":\"#6d904f\",\"line_width\":2,\"x\":{\"field\":\"coin_id\"},\"y\":{\"field\":\"value\"}},\"id\":\"2782\",\"type\":\"Line\"},{\"attributes\":{},\"id\":\"2707\",\"type\":\"CategoricalTickFormatter\"},{\"attributes\":{\"source\":{\"id\":\"2863\"}},\"id\":\"2870\",\"type\":\"CDSView\"},{\"attributes\":{},\"id\":\"2713\",\"type\":\"Selection\"},{\"attributes\":{\"active_drag\":{\"id\":\"2694\"},\"active_scroll\":{\"id\":\"2695\"},\"tools\":[{\"id\":\"2670\"},{\"id\":\"2693\"},{\"id\":\"2694\"},{\"id\":\"2695\"},{\"id\":\"2696\"},{\"id\":\"2697\"}]},\"id\":\"2699\",\"type\":\"Toolbar\"},{\"attributes\":{},\"id\":\"2756\",\"type\":\"Selection\"},{\"attributes\":{\"label\":{\"value\":\"price_change_percentage_24h\"},\"renderers\":[{\"id\":\"2718\"}]},\"id\":\"2731\",\"type\":\"LegendItem\"},{\"attributes\":{\"coordinates\":null,\"data_source\":{\"id\":\"2733\"},\"glyph\":{\"id\":\"2736\"},\"group\":null,\"hover_glyph\":null,\"muted_glyph\":{\"id\":\"2738\"},\"nonselection_glyph\":{\"id\":\"2737\"},\"selection_glyph\":{\"id\":\"2754\"},\"view\":{\"id\":\"2740\"}},\"id\":\"2739\",\"type\":\"GlyphRenderer\"},{\"attributes\":{\"click_policy\":\"mute\",\"coordinates\":null,\"group\":null,\"items\":[{\"id\":\"2731\"},{\"id\":\"2753\"},{\"id\":\"2777\"},{\"id\":\"2803\"},{\"id\":\"2831\"},{\"id\":\"2861\"},{\"id\":\"2893\"}],\"location\":[0,0],\"title\":\"Variable\"},\"id\":\"2730\",\"type\":\"Legend\"},{\"attributes\":{},\"id\":\"2806\",\"type\":\"Selection\"},{\"attributes\":{\"line_alpha\":0.2,\"line_color\":\"#17becf\",\"line_width\":2,\"x\":{\"field\":\"coin_id\"},\"y\":{\"field\":\"value\"}},\"id\":\"2838\",\"type\":\"Line\"},{\"attributes\":{\"source\":{\"id\":\"2833\"}},\"id\":\"2840\",\"type\":\"CDSView\"},{\"attributes\":{\"line_alpha\":0.2,\"line_color\":\"#6d904f\",\"line_width\":2,\"x\":{\"field\":\"coin_id\"},\"y\":{\"field\":\"value\"}},\"id\":\"2784\",\"type\":\"Line\"},{\"attributes\":{\"bottom_units\":\"screen\",\"coordinates\":null,\"fill_alpha\":0.5,\"fill_color\":\"lightgrey\",\"group\":null,\"left_units\":\"screen\",\"level\":\"overlay\",\"line_alpha\":1.0,\"line_color\":\"black\",\"line_dash\":[4,4],\"line_width\":2,\"right_units\":\"screen\",\"syncable\":false,\"top_units\":\"screen\"},\"id\":\"2698\",\"type\":\"BoxAnnotation\"},{\"attributes\":{\"data\":{\"Variable\":[\"price_change_percentage_60d\",\"price_change_percentage_60d\",\"price_change_percentage_60d\",\"price_change_percentage_60d\",\"price_change_percentage_60d\",\"price_change_percentage_60d\",\"price_change_percentage_60d\",\"price_change_percentage_60d\",\"price_change_percentage_60d\",\"price_change_percentage_60d\",\"price_change_percentage_60d\",\"price_change_percentage_60d\",\"price_change_percentage_60d\",\"price_change_percentage_60d\",\"price_change_percentage_60d\",\"price_change_percentage_60d\",\"price_change_percentage_60d\",\"price_change_percentage_60d\",\"price_change_percentage_60d\",\"price_change_percentage_60d\",\"price_change_percentage_60d\",\"price_change_percentage_60d\",\"price_change_percentage_60d\",\"price_change_percentage_60d\",\"price_change_percentage_60d\",\"price_change_percentage_60d\",\"price_change_percentage_60d\",\"price_change_percentage_60d\",\"price_change_percentage_60d\",\"price_change_percentage_60d\",\"price_change_percentage_60d\",\"price_change_percentage_60d\",\"price_change_percentage_60d\",\"price_change_percentage_60d\",\"price_change_percentage_60d\",\"price_change_percentage_60d\",\"price_change_percentage_60d\",\"price_change_percentage_60d\",\"price_change_percentage_60d\",\"price_change_percentage_60d\",\"price_change_percentage_60d\"],\"coin_id\":[\"bitcoin\",\"ethereum\",\"tether\",\"ripple\",\"bitcoin-cash\",\"binancecoin\",\"chainlink\",\"cardano\",\"litecoin\",\"bitcoin-cash-sv\",\"crypto-com-chain\",\"usd-coin\",\"eos\",\"monero\",\"tron\",\"tezos\",\"okb\",\"stellar\",\"cosmos\",\"cdai\",\"neo\",\"wrapped-bitcoin\",\"leo-token\",\"huobi-token\",\"nem\",\"binance-usd\",\"iota\",\"vechain\",\"zcash\",\"theta-token\",\"dash\",\"ethereum-classic\",\"ethlend\",\"maker\",\"havven\",\"omisego\",\"celsius-degree-token\",\"ontology\",\"ftx-token\",\"true-usd\",\"digibyte\"],\"value\":{\"__ndarray__\":\"FvvL7skDCsAs1JrmHccpwKjjMQOV8dE/2qz6XG2NMcBzol2FlG8rwIleRrHcKkJAN8MN+PzYRcBi26LMBtk2wCEf9GxWPTHAq5UJv9TfOMBg5dAi23kwwDygbMoV3qU/l631RUIrPsDNzMzMzNxEQJm7lpAPGhZAms5OBkdpRsBKe4MvTKYGwEsfuqC+zT7APL1SliHOHMC4AZ8fRgjlP9L7xteeCStAFqQZi6azDMCvJeSDni0ewDeOWItPQQvAXvQVpBm3VEDaOGItPgW4PwpLPKBsQkHAaw4QzNHPRcAJM23/yoo0wBmQvd79AVRAfa62Yn85OsBVGFsIcug5wLCsNCkFHQFA529CIQKeMsA0uoPYmbZDwPKwUGua0VNA/pqsUQ/ia0Ao8iTpmllAwFuxv+yenBdAmrFoOjsZ0D8s1JrmHRc/wA==\",\"dtype\":\"float64\",\"order\":\"little\",\"shape\":[41]}},\"selected\":{\"id\":\"2806\"},\"selection_policy\":{\"id\":\"2828\"}},\"id\":\"2805\",\"type\":\"ColumnDataSource\"},{\"attributes\":{},\"id\":\"2780\",\"type\":\"Selection\"},{\"attributes\":{\"line_alpha\":0.1,\"line_color\":\"#fc4f30\",\"line_width\":2,\"x\":{\"field\":\"coin_id\"},\"y\":{\"field\":\"value\"}},\"id\":\"2737\",\"type\":\"Line\"},{\"attributes\":{\"coordinates\":null,\"data_source\":{\"id\":\"2712\"},\"glyph\":{\"id\":\"2715\"},\"group\":null,\"hover_glyph\":null,\"muted_glyph\":{\"id\":\"2717\"},\"nonselection_glyph\":{\"id\":\"2716\"},\"selection_glyph\":{\"id\":\"2732\"},\"view\":{\"id\":\"2719\"}},\"id\":\"2718\",\"type\":\"GlyphRenderer\"},{\"attributes\":{\"line_color\":\"#fc4f30\",\"line_width\":2,\"x\":{\"field\":\"coin_id\"},\"y\":{\"field\":\"value\"}},\"id\":\"2736\",\"type\":\"Line\"},{\"attributes\":{\"source\":{\"id\":\"2805\"}},\"id\":\"2812\",\"type\":\"CDSView\"},{\"attributes\":{\"line_alpha\":0.2,\"line_color\":\"#9467bd\",\"line_width\":2,\"x\":{\"field\":\"coin_id\"},\"y\":{\"field\":\"value\"}},\"id\":\"2868\",\"type\":\"Line\"},{\"attributes\":{},\"id\":\"2708\",\"type\":\"AllLabels\"},{\"attributes\":{\"data\":{\"Variable\":[\"price_change_percentage_7d\",\"price_change_percentage_7d\",\"price_change_percentage_7d\",\"price_change_percentage_7d\",\"price_change_percentage_7d\",\"price_change_percentage_7d\",\"price_change_percentage_7d\",\"price_change_percentage_7d\",\"price_change_percentage_7d\",\"price_change_percentage_7d\",\"price_change_percentage_7d\",\"price_change_percentage_7d\",\"price_change_percentage_7d\",\"price_change_percentage_7d\",\"price_change_percentage_7d\",\"price_change_percentage_7d\",\"price_change_percentage_7d\",\"price_change_percentage_7d\",\"price_change_percentage_7d\",\"price_change_percentage_7d\",\"price_change_percentage_7d\",\"price_change_percentage_7d\",\"price_change_percentage_7d\",\"price_change_percentage_7d\",\"price_change_percentage_7d\",\"price_change_percentage_7d\",\"price_change_percentage_7d\",\"price_change_percentage_7d\",\"price_change_percentage_7d\",\"price_change_percentage_7d\",\"price_change_percentage_7d\",\"price_change_percentage_7d\",\"price_change_percentage_7d\",\"price_change_percentage_7d\",\"price_change_percentage_7d\",\"price_change_percentage_7d\",\"price_change_percentage_7d\",\"price_change_percentage_7d\",\"price_change_percentage_7d\",\"price_change_percentage_7d\",\"price_change_percentage_7d\"],\"coin_id\":[\"bitcoin\",\"ethereum\",\"tether\",\"ripple\",\"bitcoin-cash\",\"binancecoin\",\"chainlink\",\"cardano\",\"litecoin\",\"bitcoin-cash-sv\",\"crypto-com-chain\",\"usd-coin\",\"eos\",\"monero\",\"tron\",\"tezos\",\"okb\",\"stellar\",\"cosmos\",\"cdai\",\"neo\",\"wrapped-bitcoin\",\"leo-token\",\"huobi-token\",\"nem\",\"binance-usd\",\"iota\",\"vechain\",\"zcash\",\"theta-token\",\"dash\",\"ethereum-classic\",\"ethlend\",\"maker\",\"havven\",\"omisego\",\"celsius-degree-token\",\"ontology\",\"ftx-token\",\"true-usd\",\"digibyte\"],\"value\":{\"__ndarray__\":\"RbsKKT9pHkAzUBn/PsMkQL99HThnRKk/yVnY0w5/47/+JhQi4BgxQBL3WPrQtSlA7yB2ptCxNEA/jBAebfwrQPFL/bypaBpArKjBNAxfCkByv0NRoK8WwPlJtU/HY76/lPsdigL99L+n6Egu/5EvQE1KQbeX9BBA0m9fB87pIUBlU67wLjcSwKbtX1lpkgBAZwqd19gVMEBcIEHxY8ytP3wnZr0YigNAOh4zUBmfHUD3Hi457pT1vzNQGf8+4/k/kQ96Nqs+6781Y9F0djKoP2dEaW/wRRhAgXhdv2A3/L/8GHPXErIkQP8JLlbUYBjAVU0QdR9gFEDRlnMprmoIQGCrBIvD2RBAAiuHFtlOIECbG9MTllgRQKhXyjLEURtAqn06HjNQ4z+UvDrHgGzzvwltOZfiahxAsD2zJEBNxT8yj/zBwHPlPw==\",\"dtype\":\"float64\",\"order\":\"little\",\"shape\":[41]}},\"selected\":{\"id\":\"2734\"},\"selection_policy\":{\"id\":\"2750\"}},\"id\":\"2733\",\"type\":\"ColumnDataSource\"},{\"attributes\":{\"data\":{\"Variable\":[\"price_change_percentage_24h\",\"price_change_percentage_24h\",\"price_change_percentage_24h\",\"price_change_percentage_24h\",\"price_change_percentage_24h\",\"price_change_percentage_24h\",\"price_change_percentage_24h\",\"price_change_percentage_24h\",\"price_change_percentage_24h\",\"price_change_percentage_24h\",\"price_change_percentage_24h\",\"price_change_percentage_24h\",\"price_change_percentage_24h\",\"price_change_percentage_24h\",\"price_change_percentage_24h\",\"price_change_percentage_24h\",\"price_change_percentage_24h\",\"price_change_percentage_24h\",\"price_change_percentage_24h\",\"price_change_percentage_24h\",\"price_change_percentage_24h\",\"price_change_percentage_24h\",\"price_change_percentage_24h\",\"price_change_percentage_24h\",\"price_change_percentage_24h\",\"price_change_percentage_24h\",\"price_change_percentage_24h\",\"price_change_percentage_24h\",\"price_change_percentage_24h\",\"price_change_percentage_24h\",\"price_change_percentage_24h\",\"price_change_percentage_24h\",\"price_change_percentage_24h\",\"price_change_percentage_24h\",\"price_change_percentage_24h\",\"price_change_percentage_24h\",\"price_change_percentage_24h\",\"price_change_percentage_24h\",\"price_change_percentage_24h\",\"price_change_percentage_24h\",\"price_change_percentage_24h\"],\"coin_id\":[\"bitcoin\",\"ethereum\",\"tether\",\"ripple\",\"bitcoin-cash\",\"binancecoin\",\"chainlink\",\"cardano\",\"litecoin\",\"bitcoin-cash-sv\",\"crypto-com-chain\",\"usd-coin\",\"eos\",\"monero\",\"tron\",\"tezos\",\"okb\",\"stellar\",\"cosmos\",\"cdai\",\"neo\",\"wrapped-bitcoin\",\"leo-token\",\"huobi-token\",\"nem\",\"binance-usd\",\"iota\",\"vechain\",\"zcash\",\"theta-token\",\"dash\",\"ethereum-classic\",\"ethlend\",\"maker\",\"havven\",\"omisego\",\"celsius-degree-token\",\"ontology\",\"ftx-token\",\"true-usd\",\"digibyte\"],\"value\":{\"__ndarray__\":\"nZ0MjpJX8T8MzXUaaanMP5mByvj3Gcu/wCZr1EM02L8ep+hILj8HQL0Yyol21QBAwhcmUwWjzr//CS5W1GBqP7JGPUSjO7C/QKTfvg6c7T8urYbEPZbjPzeJQWDl0Ma/1pC4x9KHwj87NgLxun7bP90HILWJk7M/JjYf14aK5b83iUFg5dAFwG3i5H6HIvC/5nlwd9Zu7r9i83FtqBjLP+iHEcKjjd8/M9yAzw+j8T/fGtgqweLAv+RmuAGfH9q/UdobfGEy678D7KNTVz67v8YzaOif4No/teBFX0Ga9D8G2Eenrnzjvx+duvJZPhLAoMN8eQH28L+cxCCwcmjdv667eapDDivAX5hMFYxK479EUaBP5EkQwAZkr3d/XBNA0JuKVBgbBEDqBDQRNrz1vxo09E9wseo/tI6qJoi6r79qMA3DR8QHQA==\",\"dtype\":\"float64\",\"order\":\"little\",\"shape\":[41]}},\"selected\":{\"id\":\"2713\"},\"selection_policy\":{\"id\":\"2727\"}},\"id\":\"2712\",\"type\":\"ColumnDataSource\"},{\"attributes\":{\"source\":{\"id\":\"2712\"}},\"id\":\"2719\",\"type\":\"CDSView\"},{\"attributes\":{\"line_alpha\":0.2,\"line_color\":\"#30a2da\",\"line_width\":2,\"x\":{\"field\":\"coin_id\"},\"y\":{\"field\":\"value\"}},\"id\":\"2717\",\"type\":\"Line\"},{\"attributes\":{\"line_alpha\":0.2,\"line_color\":\"#8b8b8b\",\"line_width\":2,\"x\":{\"field\":\"coin_id\"},\"y\":{\"field\":\"value\"}},\"id\":\"2810\",\"type\":\"Line\"},{\"attributes\":{\"line_alpha\":0.1,\"line_color\":\"#e5ae38\",\"line_width\":2,\"x\":{\"field\":\"coin_id\"},\"y\":{\"field\":\"value\"}},\"id\":\"2759\",\"type\":\"Line\"}],\"root_ids\":[\"2667\"]},\"title\":\"Bokeh Application\",\"version\":\"2.4.3\"}};\n",
       "    var render_items = [{\"docid\":\"0d0ab44b-0e25-4876-991f-89b2adf9fc30\",\"root_ids\":[\"2667\"],\"roots\":{\"2667\":\"425ed65e-33e8-434a-b606-5f2823ba7220\"}}];\n",
       "    root.Bokeh.embed.embed_items_notebook(docs_json, render_items);\n",
       "    for (const render_item of render_items) {\n",
       "      for (const root_id of render_item.root_ids) {\n",
       "\tconst id_el = document.getElementById(root_id)\n",
       "\tif (id_el.children.length && (id_el.children[0].className === 'bk-root')) {\n",
       "\t  const root_el = id_el.children[0]\n",
       "\t  root_el.id = root_el.id + '-rendered'\n",
       "\t}\n",
       "      }\n",
       "    }\n",
       "  }\n",
       "  if (root.Bokeh !== undefined && root.Bokeh.Panel !== undefined) {\n",
       "    embed_document(root);\n",
       "  } else {\n",
       "    var attempts = 0;\n",
       "    var timer = setInterval(function(root) {\n",
       "      if (root.Bokeh !== undefined && root.Bokeh.Panel !== undefined) {\n",
       "        clearInterval(timer);\n",
       "        embed_document(root);\n",
       "      } else if (document.readyState == \"complete\") {\n",
       "        attempts++;\n",
       "        if (attempts > 200) {\n",
       "          clearInterval(timer);\n",
       "          console.log(\"Bokeh: ERROR: Unable to run BokehJS code because BokehJS library is missing\");\n",
       "        }\n",
       "      }\n",
       "    }, 25, root)\n",
       "  }\n",
       "})(window);</script>"
      ],
      "text/plain": [
       ":NdOverlay   [Variable]\n",
       "   :Curve   [coin_id]   (value)"
      ]
     },
     "execution_count": 84,
     "metadata": {
      "application/vnd.holoviews_exec.v0+json": {
       "id": "2667"
      }
     },
     "output_type": "execute_result"
    }
   ],
   "source": [
    "# Plot your data to see what's in your DataFrame\n",
    "df_market_data.hvplot.line(\n",
    "    width=800,\n",
    "    height=400,\n",
    "    rot=90\n",
    ")"
   ]
  },
  {
   "cell_type": "markdown",
   "metadata": {},
   "source": [
    "---"
   ]
  },
  {
   "cell_type": "markdown",
   "metadata": {},
   "source": [
    "### Prepare the Data\n",
    "\n",
    "This section prepares the data before running the K-Means algorithm. It follows these steps:\n",
    "\n",
    "1. Use the `StandardScaler` module from scikit-learn to normalize the CSV file data. This will require you to utilize the `fit_transform` function.\n",
    "\n",
    "2. Create a DataFrame that contains the scaled data. Be sure to set the `coin_id` index from the original DataFrame as the index for the new DataFrame. Review the resulting DataFrame.\n"
   ]
  },
  {
   "cell_type": "code",
   "execution_count": 85,
   "metadata": {},
   "outputs": [],
   "source": [
    "# Use the `StandardScaler()` module from scikit-learn to normalize the data from the CSV file\n",
    "scaled_data = StandardScaler().fit_transform(df_market_data)"
   ]
  },
  {
   "cell_type": "code",
   "execution_count": 86,
   "metadata": {},
   "outputs": [
    {
     "data": {
      "text/html": [
       "<div>\n",
       "<style scoped>\n",
       "    .dataframe tbody tr th:only-of-type {\n",
       "        vertical-align: middle;\n",
       "    }\n",
       "\n",
       "    .dataframe tbody tr th {\n",
       "        vertical-align: top;\n",
       "    }\n",
       "\n",
       "    .dataframe thead th {\n",
       "        text-align: right;\n",
       "    }\n",
       "</style>\n",
       "<table border=\"1\" class=\"dataframe\">\n",
       "  <thead>\n",
       "    <tr style=\"text-align: right;\">\n",
       "      <th></th>\n",
       "      <th>price_change_percentage_24h</th>\n",
       "      <th>price_change_percentage_7d</th>\n",
       "      <th>price_change_percentage_14d</th>\n",
       "      <th>price_change_percentage_30d</th>\n",
       "      <th>price_change_percentage_60d</th>\n",
       "      <th>price_change_percentage_200d</th>\n",
       "      <th>price_change_percentage_1y</th>\n",
       "    </tr>\n",
       "    <tr>\n",
       "      <th>coin_id</th>\n",
       "      <th></th>\n",
       "      <th></th>\n",
       "      <th></th>\n",
       "      <th></th>\n",
       "      <th></th>\n",
       "      <th></th>\n",
       "      <th></th>\n",
       "    </tr>\n",
       "  </thead>\n",
       "  <tbody>\n",
       "    <tr>\n",
       "      <th>bitcoin</th>\n",
       "      <td>0.508529</td>\n",
       "      <td>0.493193</td>\n",
       "      <td>0.772200</td>\n",
       "      <td>0.235460</td>\n",
       "      <td>-0.067495</td>\n",
       "      <td>-0.355953</td>\n",
       "      <td>-0.251637</td>\n",
       "    </tr>\n",
       "    <tr>\n",
       "      <th>ethereum</th>\n",
       "      <td>0.185446</td>\n",
       "      <td>0.934445</td>\n",
       "      <td>0.558692</td>\n",
       "      <td>-0.054341</td>\n",
       "      <td>-0.273483</td>\n",
       "      <td>-0.115759</td>\n",
       "      <td>-0.199352</td>\n",
       "    </tr>\n",
       "    <tr>\n",
       "      <th>tether</th>\n",
       "      <td>0.021774</td>\n",
       "      <td>-0.706337</td>\n",
       "      <td>-0.021680</td>\n",
       "      <td>-0.061030</td>\n",
       "      <td>0.008005</td>\n",
       "      <td>-0.550247</td>\n",
       "      <td>-0.282061</td>\n",
       "    </tr>\n",
       "    <tr>\n",
       "      <th>ripple</th>\n",
       "      <td>-0.040764</td>\n",
       "      <td>-0.810928</td>\n",
       "      <td>0.249458</td>\n",
       "      <td>-0.050388</td>\n",
       "      <td>-0.373164</td>\n",
       "      <td>-0.458259</td>\n",
       "      <td>-0.295546</td>\n",
       "    </tr>\n",
       "    <tr>\n",
       "      <th>bitcoin-cash</th>\n",
       "      <td>1.193036</td>\n",
       "      <td>2.000959</td>\n",
       "      <td>1.760610</td>\n",
       "      <td>0.545842</td>\n",
       "      <td>-0.291203</td>\n",
       "      <td>-0.499848</td>\n",
       "      <td>-0.270317</td>\n",
       "    </tr>\n",
       "  </tbody>\n",
       "</table>\n",
       "</div>"
      ],
      "text/plain": [
       "              price_change_percentage_24h  price_change_percentage_7d  \\\n",
       "coin_id                                                                 \n",
       "bitcoin                          0.508529                    0.493193   \n",
       "ethereum                         0.185446                    0.934445   \n",
       "tether                           0.021774                   -0.706337   \n",
       "ripple                          -0.040764                   -0.810928   \n",
       "bitcoin-cash                     1.193036                    2.000959   \n",
       "\n",
       "              price_change_percentage_14d  price_change_percentage_30d  \\\n",
       "coin_id                                                                  \n",
       "bitcoin                          0.772200                     0.235460   \n",
       "ethereum                         0.558692                    -0.054341   \n",
       "tether                          -0.021680                    -0.061030   \n",
       "ripple                           0.249458                    -0.050388   \n",
       "bitcoin-cash                     1.760610                     0.545842   \n",
       "\n",
       "              price_change_percentage_60d  price_change_percentage_200d  \\\n",
       "coin_id                                                                   \n",
       "bitcoin                         -0.067495                     -0.355953   \n",
       "ethereum                        -0.273483                     -0.115759   \n",
       "tether                           0.008005                     -0.550247   \n",
       "ripple                          -0.373164                     -0.458259   \n",
       "bitcoin-cash                    -0.291203                     -0.499848   \n",
       "\n",
       "              price_change_percentage_1y  \n",
       "coin_id                                   \n",
       "bitcoin                        -0.251637  \n",
       "ethereum                       -0.199352  \n",
       "tether                         -0.282061  \n",
       "ripple                         -0.295546  \n",
       "bitcoin-cash                   -0.270317  "
      ]
     },
     "execution_count": 86,
     "metadata": {},
     "output_type": "execute_result"
    }
   ],
   "source": [
    "# Create a DataFrame with the scaled data\n",
    "df_market_data_scaled = pd.DataFrame(\n",
    "    scaled_data,\n",
    "    columns=df_market_data.columns\n",
    ")\n",
    "\n",
    "# Copy the crypto names from the original data\n",
    "df_market_data_scaled[\"coin_id\"] = df_market_data.index\n",
    "\n",
    "# Set the coinid column as index\n",
    "df_market_data_scaled = df_market_data_scaled.set_index(\"coin_id\")\n",
    "\n",
    "# Display sample data\n",
    "df_market_data_scaled.head()"
   ]
  },
  {
   "cell_type": "markdown",
   "metadata": {},
   "source": [
    "---"
   ]
  },
  {
   "cell_type": "markdown",
   "metadata": {},
   "source": [
    "### Find the Best Value for k Using the Original Data\n",
    "\n",
    "In this section, you will use the elbow method to find the best value for `k`.\n",
    "\n",
    "1. Code the elbow method algorithm to find the best value for `k`. Use a range from 1 to 11. \n",
    "\n",
    "2. Plot a line chart with all the inertia values computed with the different values of `k` to visually identify the optimal value for `k`.\n",
    "\n",
    "3. Answer the following question: What is the best value for `k`?"
   ]
  },
  {
   "cell_type": "code",
   "execution_count": 87,
   "metadata": {},
   "outputs": [],
   "source": [
    "# Create a list with the number of k-values to try\n",
    "# Use a range from 1 to 11\n",
    "# Code the elbow method algorithm to find the best value for k. Use a range from 1 to 11.\n",
    "# Create an empy list to store the inertia values\n",
    "k = list(range(1,11))\n",
    "\n",
    "inertia = []"
   ]
  },
  {
   "cell_type": "code",
   "execution_count": 88,
   "metadata": {},
   "outputs": [
    {
     "name": "stderr",
     "output_type": "stream",
     "text": [
      "C:\\Users\\hsiao\\anaconda3\\envs\\dev\\lib\\site-packages\\sklearn\\cluster\\_kmeans.py:1037: UserWarning: KMeans is known to have a memory leak on Windows with MKL, when there are less chunks than available threads. You can avoid it by setting the environment variable OMP_NUM_THREADS=1.\n",
      "  \"KMeans is known to have a memory leak on Windows \"\n"
     ]
    }
   ],
   "source": [
    "# Create a for loop to compute the inertia with each possible value of k\n",
    "# Inside the loop:\n",
    "# 1. Create a KMeans model using the loop counter for the n_clusters\n",
    "# 2. Fit the model to the data using `df_market_data_scaled`\n",
    "# 3. Append the model.inertia_ to the inertia list\n",
    "\n",
    "for i in k:\n",
    "    model = KMeans(n_clusters = i, random_state = 0)\n",
    "    model.fit(df_market_data_scaled)\n",
    "    inertia.append(model.inertia_)\n"
   ]
  },
  {
   "cell_type": "code",
   "execution_count": 89,
   "metadata": {},
   "outputs": [],
   "source": [
    "# Create a dictionary with the data to plot the Elbow curve\n",
    "elbow_data = {\n",
    "    \"k\": k,\n",
    "    \"inertia\": inertia\n",
    "}\n",
    "\n",
    "# Create a DataFrame with the data to plot the Elbow curve\n",
    "df_elbow = pd.DataFrame(elbow_data)"
   ]
  },
  {
   "cell_type": "code",
   "execution_count": 90,
   "metadata": {},
   "outputs": [
    {
     "data": {},
     "metadata": {},
     "output_type": "display_data"
    },
    {
     "data": {
      "application/vnd.holoviews_exec.v0+json": "",
      "text/html": [
       "<div id='3032'>\n",
       "  <div class=\"bk-root\" id=\"5f50d2de-6fb6-4a61-afa6-9fb93d1da586\" data-root-id=\"3032\"></div>\n",
       "</div>\n",
       "<script type=\"application/javascript\">(function(root) {\n",
       "  function embed_document(root) {\n",
       "    var docs_json = {\"bfb6203c-cd1e-4d45-931b-6c4b8fa4dd58\":{\"defs\":[{\"extends\":null,\"module\":null,\"name\":\"ReactiveHTML1\",\"overrides\":[],\"properties\":[]},{\"extends\":null,\"module\":null,\"name\":\"FlexBox1\",\"overrides\":[],\"properties\":[{\"default\":\"flex-start\",\"kind\":null,\"name\":\"align_content\"},{\"default\":\"flex-start\",\"kind\":null,\"name\":\"align_items\"},{\"default\":\"row\",\"kind\":null,\"name\":\"flex_direction\"},{\"default\":\"wrap\",\"kind\":null,\"name\":\"flex_wrap\"},{\"default\":\"flex-start\",\"kind\":null,\"name\":\"justify_content\"}]},{\"extends\":null,\"module\":null,\"name\":\"GridStack1\",\"overrides\":[],\"properties\":[{\"default\":\"warn\",\"kind\":null,\"name\":\"mode\"},{\"default\":null,\"kind\":null,\"name\":\"ncols\"},{\"default\":null,\"kind\":null,\"name\":\"nrows\"},{\"default\":true,\"kind\":null,\"name\":\"allow_resize\"},{\"default\":true,\"kind\":null,\"name\":\"allow_drag\"},{\"default\":[],\"kind\":null,\"name\":\"state\"}]},{\"extends\":null,\"module\":null,\"name\":\"click1\",\"overrides\":[],\"properties\":[{\"default\":\"\",\"kind\":null,\"name\":\"terminal_output\"},{\"default\":\"\",\"kind\":null,\"name\":\"debug_name\"},{\"default\":0,\"kind\":null,\"name\":\"clears\"}]},{\"extends\":null,\"module\":null,\"name\":\"NotificationAreaBase1\",\"overrides\":[],\"properties\":[{\"default\":\"bottom-right\",\"kind\":null,\"name\":\"position\"},{\"default\":0,\"kind\":null,\"name\":\"_clear\"}]},{\"extends\":null,\"module\":null,\"name\":\"NotificationArea1\",\"overrides\":[],\"properties\":[{\"default\":[],\"kind\":null,\"name\":\"notifications\"},{\"default\":\"bottom-right\",\"kind\":null,\"name\":\"position\"},{\"default\":0,\"kind\":null,\"name\":\"_clear\"},{\"default\":[{\"background\":\"#ffc107\",\"icon\":{\"className\":\"fas fa-exclamation-triangle\",\"color\":\"white\",\"tagName\":\"i\"},\"type\":\"warning\"},{\"background\":\"#007bff\",\"icon\":{\"className\":\"fas fa-info-circle\",\"color\":\"white\",\"tagName\":\"i\"},\"type\":\"info\"}],\"kind\":null,\"name\":\"types\"}]},{\"extends\":null,\"module\":null,\"name\":\"Notification\",\"overrides\":[],\"properties\":[{\"default\":null,\"kind\":null,\"name\":\"background\"},{\"default\":3000,\"kind\":null,\"name\":\"duration\"},{\"default\":null,\"kind\":null,\"name\":\"icon\"},{\"default\":\"\",\"kind\":null,\"name\":\"message\"},{\"default\":null,\"kind\":null,\"name\":\"notification_type\"},{\"default\":false,\"kind\":null,\"name\":\"_destroyed\"}]},{\"extends\":null,\"module\":null,\"name\":\"TemplateActions1\",\"overrides\":[],\"properties\":[{\"default\":0,\"kind\":null,\"name\":\"open_modal\"},{\"default\":0,\"kind\":null,\"name\":\"close_modal\"}]},{\"extends\":null,\"module\":null,\"name\":\"MaterialTemplateActions1\",\"overrides\":[],\"properties\":[{\"default\":0,\"kind\":null,\"name\":\"open_modal\"},{\"default\":0,\"kind\":null,\"name\":\"close_modal\"}]}],\"roots\":{\"references\":[{\"attributes\":{\"line_alpha\":0.1,\"line_color\":\"#30a2da\",\"line_width\":2,\"x\":{\"field\":\"k\"},\"y\":{\"field\":\"inertia\"}},\"id\":\"3070\",\"type\":\"Line\"},{\"attributes\":{\"line_color\":\"#30a2da\",\"line_width\":2,\"x\":{\"field\":\"k\"},\"y\":{\"field\":\"inertia\"}},\"id\":\"3074\",\"type\":\"Line\"},{\"attributes\":{},\"id\":\"3083\",\"type\":\"AllLabels\"},{\"attributes\":{},\"id\":\"3053\",\"type\":\"SaveTool\"},{\"attributes\":{},\"id\":\"3067\",\"type\":\"Selection\"},{\"attributes\":{},\"id\":\"3054\",\"type\":\"PanTool\"},{\"attributes\":{},\"id\":\"3057\",\"type\":\"ResetTool\"},{\"attributes\":{},\"id\":\"3055\",\"type\":\"WheelZoomTool\"},{\"attributes\":{},\"id\":\"3078\",\"type\":\"AllLabels\"},{\"attributes\":{\"overlay\":{\"id\":\"3058\"}},\"id\":\"3056\",\"type\":\"BoxZoomTool\"},{\"attributes\":{\"data\":{\"inertia\":{\"__ndarray__\":\"AAAAAADwcUByhzI6P3poQOGRvNowzF5AF+6ulG/BU0BnEQsuWlNQQOXqC/e6cUpAiCebkxT1RUBu++EeLsJCQMB0IF8cPkBAineL7Q85PEA=\",\"dtype\":\"float64\",\"order\":\"little\",\"shape\":[10]},\"k\":[1,2,3,4,5,6,7,8,9,10]},\"selected\":{\"id\":\"3067\"},\"selection_policy\":{\"id\":\"3094\"}},\"id\":\"3066\",\"type\":\"ColumnDataSource\"},{\"attributes\":{},\"id\":\"3050\",\"type\":\"BasicTicker\"},{\"attributes\":{},\"id\":\"3041\",\"type\":\"LinearScale\"},{\"attributes\":{\"coordinates\":null,\"group\":null,\"text\":\"Elbow Curve\",\"text_color\":\"black\",\"text_font_size\":\"12pt\"},\"id\":\"3037\",\"type\":\"Title\"},{\"attributes\":{},\"id\":\"3094\",\"type\":\"UnionRenderers\"},{\"attributes\":{\"children\":[{\"id\":\"3036\"}],\"height\":300,\"margin\":[0,0,0,0],\"name\":\"Row02989\",\"sizing_mode\":\"fixed\",\"tags\":[\"embedded\"],\"width\":700},\"id\":\"3032\",\"type\":\"Row\"},{\"attributes\":{\"axis\":{\"id\":\"3045\"},\"coordinates\":null,\"grid_line_color\":null,\"group\":null,\"ticker\":null},\"id\":\"3048\",\"type\":\"Grid\"},{\"attributes\":{\"active_drag\":{\"id\":\"3054\"},\"active_scroll\":{\"id\":\"3055\"},\"tools\":[{\"id\":\"3035\"},{\"id\":\"3053\"},{\"id\":\"3054\"},{\"id\":\"3055\"},{\"id\":\"3056\"},{\"id\":\"3057\"}]},\"id\":\"3059\",\"type\":\"Toolbar\"},{\"attributes\":{\"callback\":null,\"renderers\":[{\"id\":\"3072\"}],\"tags\":[\"hv_created\"],\"tooltips\":[[\"k\",\"@{k}\"],[\"inertia\",\"@{inertia}\"]]},\"id\":\"3035\",\"type\":\"HoverTool\"},{\"attributes\":{},\"id\":\"3043\",\"type\":\"LinearScale\"},{\"attributes\":{\"bottom_units\":\"screen\",\"coordinates\":null,\"fill_alpha\":0.5,\"fill_color\":\"lightgrey\",\"group\":null,\"left_units\":\"screen\",\"level\":\"overlay\",\"line_alpha\":1.0,\"line_color\":\"black\",\"line_dash\":[4,4],\"line_width\":2,\"right_units\":\"screen\",\"syncable\":false,\"top_units\":\"screen\"},\"id\":\"3058\",\"type\":\"BoxAnnotation\"},{\"attributes\":{\"axis_label\":\"inertia\",\"coordinates\":null,\"formatter\":{\"id\":\"3082\"},\"group\":null,\"major_label_policy\":{\"id\":\"3083\"},\"ticker\":{\"id\":\"3050\"}},\"id\":\"3049\",\"type\":\"LinearAxis\"},{\"attributes\":{\"axis_label\":\"k\",\"coordinates\":null,\"formatter\":{\"id\":\"3077\"},\"group\":null,\"major_label_policy\":{\"id\":\"3078\"},\"ticker\":{\"id\":\"3075\"}},\"id\":\"3045\",\"type\":\"LinearAxis\"},{\"attributes\":{},\"id\":\"3082\",\"type\":\"BasicTickFormatter\"},{\"attributes\":{},\"id\":\"3077\",\"type\":\"BasicTickFormatter\"},{\"attributes\":{\"source\":{\"id\":\"3066\"}},\"id\":\"3073\",\"type\":\"CDSView\"},{\"attributes\":{\"line_alpha\":0.2,\"line_color\":\"#30a2da\",\"line_width\":2,\"x\":{\"field\":\"k\"},\"y\":{\"field\":\"inertia\"}},\"id\":\"3071\",\"type\":\"Line\"},{\"attributes\":{\"axis\":{\"id\":\"3049\"},\"coordinates\":null,\"dimension\":1,\"grid_line_color\":null,\"group\":null,\"ticker\":null},\"id\":\"3052\",\"type\":\"Grid\"},{\"attributes\":{\"end\":312.8777100709391,\"reset_end\":312.8777100709391,\"reset_start\":2.345189219669823,\"start\":2.345189219669823,\"tags\":[[[\"inertia\",\"inertia\",null]]]},\"id\":\"3034\",\"type\":\"Range1d\"},{\"attributes\":{\"end\":10.0,\"reset_end\":10.0,\"reset_start\":1.0,\"start\":1.0,\"tags\":[[[\"k\",\"k\",null]]]},\"id\":\"3033\",\"type\":\"Range1d\"},{\"attributes\":{\"ticks\":[1,2,3,4,5,6,7,8,9,10]},\"id\":\"3075\",\"type\":\"FixedTicker\"},{\"attributes\":{\"coordinates\":null,\"data_source\":{\"id\":\"3066\"},\"glyph\":{\"id\":\"3069\"},\"group\":null,\"hover_glyph\":null,\"muted_glyph\":{\"id\":\"3071\"},\"nonselection_glyph\":{\"id\":\"3070\"},\"selection_glyph\":{\"id\":\"3074\"},\"view\":{\"id\":\"3073\"}},\"id\":\"3072\",\"type\":\"GlyphRenderer\"},{\"attributes\":{\"line_color\":\"#30a2da\",\"line_width\":2,\"x\":{\"field\":\"k\"},\"y\":{\"field\":\"inertia\"}},\"id\":\"3069\",\"type\":\"Line\"},{\"attributes\":{\"below\":[{\"id\":\"3045\"}],\"center\":[{\"id\":\"3048\"},{\"id\":\"3052\"}],\"height\":300,\"left\":[{\"id\":\"3049\"}],\"margin\":[5,5,5,5],\"min_border_bottom\":10,\"min_border_left\":10,\"min_border_right\":10,\"min_border_top\":10,\"renderers\":[{\"id\":\"3072\"}],\"sizing_mode\":\"fixed\",\"title\":{\"id\":\"3037\"},\"toolbar\":{\"id\":\"3059\"},\"width\":700,\"x_range\":{\"id\":\"3033\"},\"x_scale\":{\"id\":\"3041\"},\"y_range\":{\"id\":\"3034\"},\"y_scale\":{\"id\":\"3043\"}},\"id\":\"3036\",\"subtype\":\"Figure\",\"type\":\"Plot\"}],\"root_ids\":[\"3032\"]},\"title\":\"Bokeh Application\",\"version\":\"2.4.3\"}};\n",
       "    var render_items = [{\"docid\":\"bfb6203c-cd1e-4d45-931b-6c4b8fa4dd58\",\"root_ids\":[\"3032\"],\"roots\":{\"3032\":\"5f50d2de-6fb6-4a61-afa6-9fb93d1da586\"}}];\n",
       "    root.Bokeh.embed.embed_items_notebook(docs_json, render_items);\n",
       "    for (const render_item of render_items) {\n",
       "      for (const root_id of render_item.root_ids) {\n",
       "\tconst id_el = document.getElementById(root_id)\n",
       "\tif (id_el.children.length && (id_el.children[0].className === 'bk-root')) {\n",
       "\t  const root_el = id_el.children[0]\n",
       "\t  root_el.id = root_el.id + '-rendered'\n",
       "\t}\n",
       "      }\n",
       "    }\n",
       "  }\n",
       "  if (root.Bokeh !== undefined && root.Bokeh.Panel !== undefined) {\n",
       "    embed_document(root);\n",
       "  } else {\n",
       "    var attempts = 0;\n",
       "    var timer = setInterval(function(root) {\n",
       "      if (root.Bokeh !== undefined && root.Bokeh.Panel !== undefined) {\n",
       "        clearInterval(timer);\n",
       "        embed_document(root);\n",
       "      } else if (document.readyState == \"complete\") {\n",
       "        attempts++;\n",
       "        if (attempts > 200) {\n",
       "          clearInterval(timer);\n",
       "          console.log(\"Bokeh: ERROR: Unable to run BokehJS code because BokehJS library is missing\");\n",
       "        }\n",
       "      }\n",
       "    }, 25, root)\n",
       "  }\n",
       "})(window);</script>"
      ],
      "text/plain": [
       ":Curve   [k]   (inertia)"
      ]
     },
     "execution_count": 90,
     "metadata": {
      "application/vnd.holoviews_exec.v0+json": {
       "id": "3032"
      }
     },
     "output_type": "execute_result"
    }
   ],
   "source": [
    "# Plot a line chart with all the inertia values computed with \n",
    "# the different values of k to visually identify the optimal value for k.\n",
    "elbow_plot = df_elbow.hvplot.line(x=\"k\", y=\"inertia\", title=\"Elbow Curve\", xticks=k)\n",
    "elbow_plot"
   ]
  },
  {
   "cell_type": "markdown",
   "metadata": {},
   "source": [
    "#### Answer the following question: What is the best value for k?\n",
    "**Question:** What is the best value for `k`?\n",
    "\n",
    "**Answer:** # YOUR ANSWER HERE! <<<<<<4>>>>>>>"
   ]
  },
  {
   "cell_type": "markdown",
   "metadata": {},
   "source": [
    "---"
   ]
  },
  {
   "cell_type": "markdown",
   "metadata": {},
   "source": [
    "### Cluster Cryptocurrencies with K-means Using the Original Data\n",
    "\n",
    "In this section, you will use the K-Means algorithm with the best value for `k` found in the previous section to cluster the cryptocurrencies according to the price changes of cryptocurrencies provided.\n",
    "\n",
    "1. Initialize the K-Means model with four clusters using the best value for `k`. \n",
    "\n",
    "2. Fit the K-Means model using the original data.\n",
    "\n",
    "3. Predict the clusters to group the cryptocurrencies using the original data. View the resulting array of cluster values.\n",
    "\n",
    "4. Create a copy of the original data and add a new column with the predicted clusters.\n",
    "\n",
    "5. Create a scatter plot using hvPlot by setting `x=\"price_change_percentage_24h\"` and `y=\"price_change_percentage_7d\"`. Color the graph points with the labels found using K-Means and add the crypto name in the `hover_cols` parameter to identify the cryptocurrency represented by each data point."
   ]
  },
  {
   "cell_type": "code",
   "execution_count": 91,
   "metadata": {},
   "outputs": [],
   "source": [
    "# Initialize the K-Means model using the best value for k\n",
    "model = KMeans(n_clusters=4)"
   ]
  },
  {
   "cell_type": "code",
   "execution_count": 92,
   "metadata": {},
   "outputs": [
    {
     "data": {
      "text/plain": [
       "KMeans(n_clusters=4)"
      ]
     },
     "execution_count": 92,
     "metadata": {},
     "output_type": "execute_result"
    }
   ],
   "source": [
    "# Fit the K-Means model using the scaled data\n",
    "model.fit(df_market_data_scaled)"
   ]
  },
  {
   "cell_type": "code",
   "execution_count": 93,
   "metadata": {},
   "outputs": [
    {
     "name": "stdout",
     "output_type": "stream",
     "text": [
      "[3 3 0 0 3 3 3 3 3 0 0 0 0 3 0 3 0 0 3 0 0 3 0 0 0 0 0 0 3 0 0 0 1 3 0 0 2\n",
      " 0 0 0 0]\n"
     ]
    }
   ],
   "source": [
    "# Predict the clusters to group the cryptocurrencies using the scaled data\n",
    "crypto_clusters = model.predict(df_market_data_scaled)\n",
    "\n",
    "# View the resulting array of cluster values.\n",
    "print(crypto_clusters)"
   ]
  },
  {
   "cell_type": "code",
   "execution_count": 94,
   "metadata": {},
   "outputs": [],
   "source": [
    "# Create a copy of the DataFrame\n",
    "df_market_data_scaled_predictions = df_market_data_scaled.copy()"
   ]
  },
  {
   "cell_type": "code",
   "execution_count": 95,
   "metadata": {},
   "outputs": [
    {
     "data": {
      "text/html": [
       "<div>\n",
       "<style scoped>\n",
       "    .dataframe tbody tr th:only-of-type {\n",
       "        vertical-align: middle;\n",
       "    }\n",
       "\n",
       "    .dataframe tbody tr th {\n",
       "        vertical-align: top;\n",
       "    }\n",
       "\n",
       "    .dataframe thead th {\n",
       "        text-align: right;\n",
       "    }\n",
       "</style>\n",
       "<table border=\"1\" class=\"dataframe\">\n",
       "  <thead>\n",
       "    <tr style=\"text-align: right;\">\n",
       "      <th></th>\n",
       "      <th>price_change_percentage_24h</th>\n",
       "      <th>price_change_percentage_7d</th>\n",
       "      <th>price_change_percentage_14d</th>\n",
       "      <th>price_change_percentage_30d</th>\n",
       "      <th>price_change_percentage_60d</th>\n",
       "      <th>price_change_percentage_200d</th>\n",
       "      <th>price_change_percentage_1y</th>\n",
       "      <th>crypto_cluster</th>\n",
       "    </tr>\n",
       "    <tr>\n",
       "      <th>coin_id</th>\n",
       "      <th></th>\n",
       "      <th></th>\n",
       "      <th></th>\n",
       "      <th></th>\n",
       "      <th></th>\n",
       "      <th></th>\n",
       "      <th></th>\n",
       "      <th></th>\n",
       "    </tr>\n",
       "  </thead>\n",
       "  <tbody>\n",
       "    <tr>\n",
       "      <th>bitcoin</th>\n",
       "      <td>0.508529</td>\n",
       "      <td>0.493193</td>\n",
       "      <td>0.772200</td>\n",
       "      <td>0.235460</td>\n",
       "      <td>-0.067495</td>\n",
       "      <td>-0.355953</td>\n",
       "      <td>-0.251637</td>\n",
       "      <td>3</td>\n",
       "    </tr>\n",
       "    <tr>\n",
       "      <th>ethereum</th>\n",
       "      <td>0.185446</td>\n",
       "      <td>0.934445</td>\n",
       "      <td>0.558692</td>\n",
       "      <td>-0.054341</td>\n",
       "      <td>-0.273483</td>\n",
       "      <td>-0.115759</td>\n",
       "      <td>-0.199352</td>\n",
       "      <td>3</td>\n",
       "    </tr>\n",
       "    <tr>\n",
       "      <th>tether</th>\n",
       "      <td>0.021774</td>\n",
       "      <td>-0.706337</td>\n",
       "      <td>-0.021680</td>\n",
       "      <td>-0.061030</td>\n",
       "      <td>0.008005</td>\n",
       "      <td>-0.550247</td>\n",
       "      <td>-0.282061</td>\n",
       "      <td>0</td>\n",
       "    </tr>\n",
       "    <tr>\n",
       "      <th>ripple</th>\n",
       "      <td>-0.040764</td>\n",
       "      <td>-0.810928</td>\n",
       "      <td>0.249458</td>\n",
       "      <td>-0.050388</td>\n",
       "      <td>-0.373164</td>\n",
       "      <td>-0.458259</td>\n",
       "      <td>-0.295546</td>\n",
       "      <td>0</td>\n",
       "    </tr>\n",
       "    <tr>\n",
       "      <th>bitcoin-cash</th>\n",
       "      <td>1.193036</td>\n",
       "      <td>2.000959</td>\n",
       "      <td>1.760610</td>\n",
       "      <td>0.545842</td>\n",
       "      <td>-0.291203</td>\n",
       "      <td>-0.499848</td>\n",
       "      <td>-0.270317</td>\n",
       "      <td>3</td>\n",
       "    </tr>\n",
       "  </tbody>\n",
       "</table>\n",
       "</div>"
      ],
      "text/plain": [
       "              price_change_percentage_24h  price_change_percentage_7d  \\\n",
       "coin_id                                                                 \n",
       "bitcoin                          0.508529                    0.493193   \n",
       "ethereum                         0.185446                    0.934445   \n",
       "tether                           0.021774                   -0.706337   \n",
       "ripple                          -0.040764                   -0.810928   \n",
       "bitcoin-cash                     1.193036                    2.000959   \n",
       "\n",
       "              price_change_percentage_14d  price_change_percentage_30d  \\\n",
       "coin_id                                                                  \n",
       "bitcoin                          0.772200                     0.235460   \n",
       "ethereum                         0.558692                    -0.054341   \n",
       "tether                          -0.021680                    -0.061030   \n",
       "ripple                           0.249458                    -0.050388   \n",
       "bitcoin-cash                     1.760610                     0.545842   \n",
       "\n",
       "              price_change_percentage_60d  price_change_percentage_200d  \\\n",
       "coin_id                                                                   \n",
       "bitcoin                         -0.067495                     -0.355953   \n",
       "ethereum                        -0.273483                     -0.115759   \n",
       "tether                           0.008005                     -0.550247   \n",
       "ripple                          -0.373164                     -0.458259   \n",
       "bitcoin-cash                    -0.291203                     -0.499848   \n",
       "\n",
       "              price_change_percentage_1y  crypto_cluster  \n",
       "coin_id                                                   \n",
       "bitcoin                        -0.251637               3  \n",
       "ethereum                       -0.199352               3  \n",
       "tether                         -0.282061               0  \n",
       "ripple                         -0.295546               0  \n",
       "bitcoin-cash                   -0.270317               3  "
      ]
     },
     "execution_count": 95,
     "metadata": {},
     "output_type": "execute_result"
    }
   ],
   "source": [
    "# Add a new column to the DataFrame with the predicted clusters\n",
    "df_market_data_scaled_predictions[\"crypto_cluster\"] = crypto_clusters\n",
    "\n",
    "# Display sample data\n",
    "df_market_data_scaled_predictions.head()"
   ]
  },
  {
   "cell_type": "code",
   "execution_count": 96,
   "metadata": {},
   "outputs": [
    {
     "data": {},
     "metadata": {},
     "output_type": "display_data"
    },
    {
     "data": {
      "application/vnd.holoviews_exec.v0+json": "",
      "text/html": [
       "<div id='3143'>\n",
       "  <div class=\"bk-root\" id=\"63acc930-3390-4753-9c01-7efe2dd2c183\" data-root-id=\"3143\"></div>\n",
       "</div>\n",
       "<script type=\"application/javascript\">(function(root) {\n",
       "  function embed_document(root) {\n",
       "    var docs_json = {\"f83317ea-ea27-46fe-a3d0-869b3eb68cfb\":{\"defs\":[{\"extends\":null,\"module\":null,\"name\":\"ReactiveHTML1\",\"overrides\":[],\"properties\":[]},{\"extends\":null,\"module\":null,\"name\":\"FlexBox1\",\"overrides\":[],\"properties\":[{\"default\":\"flex-start\",\"kind\":null,\"name\":\"align_content\"},{\"default\":\"flex-start\",\"kind\":null,\"name\":\"align_items\"},{\"default\":\"row\",\"kind\":null,\"name\":\"flex_direction\"},{\"default\":\"wrap\",\"kind\":null,\"name\":\"flex_wrap\"},{\"default\":\"flex-start\",\"kind\":null,\"name\":\"justify_content\"}]},{\"extends\":null,\"module\":null,\"name\":\"GridStack1\",\"overrides\":[],\"properties\":[{\"default\":\"warn\",\"kind\":null,\"name\":\"mode\"},{\"default\":null,\"kind\":null,\"name\":\"ncols\"},{\"default\":null,\"kind\":null,\"name\":\"nrows\"},{\"default\":true,\"kind\":null,\"name\":\"allow_resize\"},{\"default\":true,\"kind\":null,\"name\":\"allow_drag\"},{\"default\":[],\"kind\":null,\"name\":\"state\"}]},{\"extends\":null,\"module\":null,\"name\":\"click1\",\"overrides\":[],\"properties\":[{\"default\":\"\",\"kind\":null,\"name\":\"terminal_output\"},{\"default\":\"\",\"kind\":null,\"name\":\"debug_name\"},{\"default\":0,\"kind\":null,\"name\":\"clears\"}]},{\"extends\":null,\"module\":null,\"name\":\"NotificationAreaBase1\",\"overrides\":[],\"properties\":[{\"default\":\"bottom-right\",\"kind\":null,\"name\":\"position\"},{\"default\":0,\"kind\":null,\"name\":\"_clear\"}]},{\"extends\":null,\"module\":null,\"name\":\"NotificationArea1\",\"overrides\":[],\"properties\":[{\"default\":[],\"kind\":null,\"name\":\"notifications\"},{\"default\":\"bottom-right\",\"kind\":null,\"name\":\"position\"},{\"default\":0,\"kind\":null,\"name\":\"_clear\"},{\"default\":[{\"background\":\"#ffc107\",\"icon\":{\"className\":\"fas fa-exclamation-triangle\",\"color\":\"white\",\"tagName\":\"i\"},\"type\":\"warning\"},{\"background\":\"#007bff\",\"icon\":{\"className\":\"fas fa-info-circle\",\"color\":\"white\",\"tagName\":\"i\"},\"type\":\"info\"}],\"kind\":null,\"name\":\"types\"}]},{\"extends\":null,\"module\":null,\"name\":\"Notification\",\"overrides\":[],\"properties\":[{\"default\":null,\"kind\":null,\"name\":\"background\"},{\"default\":3000,\"kind\":null,\"name\":\"duration\"},{\"default\":null,\"kind\":null,\"name\":\"icon\"},{\"default\":\"\",\"kind\":null,\"name\":\"message\"},{\"default\":null,\"kind\":null,\"name\":\"notification_type\"},{\"default\":false,\"kind\":null,\"name\":\"_destroyed\"}]},{\"extends\":null,\"module\":null,\"name\":\"TemplateActions1\",\"overrides\":[],\"properties\":[{\"default\":0,\"kind\":null,\"name\":\"open_modal\"},{\"default\":0,\"kind\":null,\"name\":\"close_modal\"}]},{\"extends\":null,\"module\":null,\"name\":\"MaterialTemplateActions1\",\"overrides\":[],\"properties\":[{\"default\":0,\"kind\":null,\"name\":\"open_modal\"},{\"default\":0,\"kind\":null,\"name\":\"close_modal\"}]}],\"roots\":{\"references\":[{\"attributes\":{\"coordinates\":null,\"group\":null,\"text\":\"Cryptocurrencies Clusters\",\"text_color\":\"black\",\"text_font_size\":\"12pt\"},\"id\":\"3151\",\"type\":\"Title\"},{\"attributes\":{},\"id\":\"3164\",\"type\":\"BasicTicker\"},{\"attributes\":{\"axis\":{\"id\":\"3159\"},\"coordinates\":null,\"grid_line_color\":null,\"group\":null,\"ticker\":null},\"id\":\"3162\",\"type\":\"Grid\"},{\"attributes\":{},\"id\":\"3160\",\"type\":\"BasicTicker\"},{\"attributes\":{\"axis_label\":\"price_change_percentage_7d\",\"coordinates\":null,\"formatter\":{\"id\":\"3184\"},\"group\":null,\"major_label_policy\":{\"id\":\"3185\"},\"ticker\":{\"id\":\"3164\"}},\"id\":\"3163\",\"type\":\"LinearAxis\"},{\"attributes\":{\"end\":2.997678656273595,\"reset_end\":2.997678656273595,\"reset_start\":-2.107454305728652,\"start\":-2.107454305728652,\"tags\":[[[\"price_change_percentage_7d\",\"price_change_percentage_7d\",null]]]},\"id\":\"3145\",\"type\":\"Range1d\"},{\"attributes\":{\"axis_label\":\"price_change_percentage_24h\",\"coordinates\":null,\"formatter\":{\"id\":\"3181\"},\"group\":null,\"major_label_policy\":{\"id\":\"3182\"},\"ticker\":{\"id\":\"3160\"}},\"id\":\"3159\",\"type\":\"LinearAxis\"},{\"attributes\":{\"fill_alpha\":{\"value\":0.2},\"fill_color\":{\"value\":\"#e5ae38\"},\"hatch_alpha\":{\"value\":0.2},\"hatch_color\":{\"value\":\"#e5ae38\"},\"line_alpha\":{\"value\":0.2},\"line_color\":{\"value\":\"#e5ae38\"},\"marker\":{\"value\":\"cross\"},\"size\":{\"value\":5.477225575051661},\"x\":{\"field\":\"price_change_percentage_24h\"},\"y\":{\"field\":\"price_change_percentage_7d\"}},\"id\":\"3234\",\"type\":\"Scatter\"},{\"attributes\":{},\"id\":\"3157\",\"type\":\"LinearScale\"},{\"attributes\":{\"callback\":null,\"renderers\":[{\"id\":\"3192\"},{\"id\":\"3213\"},{\"id\":\"3235\"},{\"id\":\"3259\"}],\"tags\":[\"hv_created\"],\"tooltips\":[[\"crypto_cluster\",\"@{crypto_cluster}\"],[\"price_change_percentage_24h\",\"@{price_change_percentage_24h}\"],[\"price_change_percentage_7d\",\"@{price_change_percentage_7d}\"],[\"coin_id\",\"@{coin_id}\"]]},\"id\":\"3146\",\"type\":\"HoverTool\"},{\"attributes\":{\"axis\":{\"id\":\"3163\"},\"coordinates\":null,\"dimension\":1,\"grid_line_color\":null,\"group\":null,\"ticker\":null},\"id\":\"3166\",\"type\":\"Grid\"},{\"attributes\":{},\"id\":\"3224\",\"type\":\"UnionRenderers\"},{\"attributes\":{\"angle\":{\"value\":0.0},\"fill_alpha\":{\"value\":1.0},\"fill_color\":{\"value\":\"#fc4f30\"},\"hatch_alpha\":{\"value\":1.0},\"hatch_color\":{\"value\":\"#fc4f30\"},\"hatch_scale\":{\"value\":12.0},\"hatch_weight\":{\"value\":1.0},\"line_alpha\":{\"value\":1.0},\"line_cap\":{\"value\":\"butt\"},\"line_color\":{\"value\":\"#fc4f30\"},\"line_dash\":{\"value\":[]},\"line_dash_offset\":{\"value\":0},\"line_join\":{\"value\":\"bevel\"},\"line_width\":{\"value\":1},\"marker\":{\"value\":\"square\"},\"size\":{\"value\":5.477225575051661},\"x\":{\"field\":\"price_change_percentage_24h\"},\"y\":{\"field\":\"price_change_percentage_7d\"}},\"id\":\"3228\",\"type\":\"Scatter\"},{\"attributes\":{\"label\":{\"value\":\"1\"},\"renderers\":[{\"id\":\"3213\"}]},\"id\":\"3227\",\"type\":\"LegendItem\"},{\"attributes\":{\"fill_alpha\":{\"value\":0.1},\"fill_color\":{\"value\":\"#e5ae38\"},\"hatch_alpha\":{\"value\":0.1},\"hatch_color\":{\"value\":\"#e5ae38\"},\"line_alpha\":{\"value\":0.1},\"line_color\":{\"value\":\"#e5ae38\"},\"marker\":{\"value\":\"cross\"},\"size\":{\"value\":5.477225575051661},\"x\":{\"field\":\"price_change_percentage_24h\"},\"y\":{\"field\":\"price_change_percentage_7d\"}},\"id\":\"3233\",\"type\":\"Scatter\"},{\"attributes\":{\"coordinates\":null,\"data_source\":{\"id\":\"3229\"},\"glyph\":{\"id\":\"3232\"},\"group\":null,\"hover_glyph\":null,\"muted_glyph\":{\"id\":\"3234\"},\"nonselection_glyph\":{\"id\":\"3233\"},\"selection_glyph\":{\"id\":\"3252\"},\"view\":{\"id\":\"3236\"}},\"id\":\"3235\",\"type\":\"GlyphRenderer\"},{\"attributes\":{},\"id\":\"3167\",\"type\":\"SaveTool\"},{\"attributes\":{},\"id\":\"3168\",\"type\":\"PanTool\"},{\"attributes\":{},\"id\":\"3171\",\"type\":\"ResetTool\"},{\"attributes\":{},\"id\":\"3169\",\"type\":\"WheelZoomTool\"},{\"attributes\":{},\"id\":\"3248\",\"type\":\"UnionRenderers\"},{\"attributes\":{\"source\":{\"id\":\"3253\"}},\"id\":\"3260\",\"type\":\"CDSView\"},{\"attributes\":{},\"id\":\"3181\",\"type\":\"BasicTickFormatter\"},{\"attributes\":{\"overlay\":{\"id\":\"3172\"}},\"id\":\"3170\",\"type\":\"BoxZoomTool\"},{\"attributes\":{},\"id\":\"3182\",\"type\":\"AllLabels\"},{\"attributes\":{},\"id\":\"3185\",\"type\":\"AllLabels\"},{\"attributes\":{\"label\":{\"value\":\"2\"},\"renderers\":[{\"id\":\"3235\"}]},\"id\":\"3251\",\"type\":\"LegendItem\"},{\"attributes\":{},\"id\":\"3187\",\"type\":\"Selection\"},{\"attributes\":{\"source\":{\"id\":\"3207\"}},\"id\":\"3214\",\"type\":\"CDSView\"},{\"attributes\":{\"data\":{\"coin_id\":[\"celsius-degree-token\"],\"crypto_cluster\":[2],\"price_change_percentage_24h\":{\"__ndarray__\":\"VLqXBn668D8=\",\"dtype\":\"float64\",\"order\":\"little\",\"shape\":[1]},\"price_change_percentage_7d\":{\"__ndarray__\":\"Nv03JFjJ478=\",\"dtype\":\"float64\",\"order\":\"little\",\"shape\":[1]}},\"selected\":{\"id\":\"3230\"},\"selection_policy\":{\"id\":\"3248\"}},\"id\":\"3229\",\"type\":\"ColumnDataSource\"},{\"attributes\":{\"fill_alpha\":{\"value\":0.2},\"fill_color\":{\"value\":\"#6d904f\"},\"hatch_alpha\":{\"value\":0.2},\"hatch_color\":{\"value\":\"#6d904f\"},\"line_alpha\":{\"value\":0.2},\"line_color\":{\"value\":\"#6d904f\"},\"marker\":{\"value\":\"inverted_triangle\"},\"size\":{\"value\":5.477225575051661},\"x\":{\"field\":\"price_change_percentage_24h\"},\"y\":{\"field\":\"price_change_percentage_7d\"}},\"id\":\"3258\",\"type\":\"Scatter\"},{\"attributes\":{\"coordinates\":null,\"data_source\":{\"id\":\"3186\"},\"glyph\":{\"id\":\"3189\"},\"group\":null,\"hover_glyph\":null,\"muted_glyph\":{\"id\":\"3191\"},\"nonselection_glyph\":{\"id\":\"3190\"},\"selection_glyph\":{\"id\":\"3206\"},\"view\":{\"id\":\"3193\"}},\"id\":\"3192\",\"type\":\"GlyphRenderer\"},{\"attributes\":{\"active_drag\":{\"id\":\"3168\"},\"active_scroll\":{\"id\":\"3169\"},\"tools\":[{\"id\":\"3146\"},{\"id\":\"3167\"},{\"id\":\"3168\"},{\"id\":\"3169\"},{\"id\":\"3170\"},{\"id\":\"3171\"}]},\"id\":\"3173\",\"type\":\"Toolbar\"},{\"attributes\":{\"label\":{\"value\":\"0\"},\"renderers\":[{\"id\":\"3192\"}]},\"id\":\"3205\",\"type\":\"LegendItem\"},{\"attributes\":{},\"id\":\"3230\",\"type\":\"Selection\"},{\"attributes\":{},\"id\":\"3254\",\"type\":\"Selection\"},{\"attributes\":{\"angle\":{\"value\":0.0},\"fill_alpha\":{\"value\":1.0},\"fill_color\":{\"value\":\"#6d904f\"},\"hatch_alpha\":{\"value\":1.0},\"hatch_color\":{\"value\":\"#6d904f\"},\"hatch_scale\":{\"value\":12.0},\"hatch_weight\":{\"value\":1.0},\"line_alpha\":{\"value\":1.0},\"line_cap\":{\"value\":\"butt\"},\"line_color\":{\"value\":\"#6d904f\"},\"line_dash\":{\"value\":[]},\"line_dash_offset\":{\"value\":0},\"line_join\":{\"value\":\"bevel\"},\"line_width\":{\"value\":1},\"marker\":{\"value\":\"inverted_triangle\"},\"size\":{\"value\":5.477225575051661},\"x\":{\"field\":\"price_change_percentage_24h\"},\"y\":{\"field\":\"price_change_percentage_7d\"}},\"id\":\"3278\",\"type\":\"Scatter\"},{\"attributes\":{\"bottom_units\":\"screen\",\"coordinates\":null,\"fill_alpha\":0.5,\"fill_color\":\"lightgrey\",\"group\":null,\"left_units\":\"screen\",\"level\":\"overlay\",\"line_alpha\":1.0,\"line_color\":\"black\",\"line_dash\":[4,4],\"line_width\":2,\"right_units\":\"screen\",\"syncable\":false,\"top_units\":\"screen\"},\"id\":\"3172\",\"type\":\"BoxAnnotation\"},{\"attributes\":{},\"id\":\"3208\",\"type\":\"Selection\"},{\"attributes\":{},\"id\":\"3274\",\"type\":\"UnionRenderers\"},{\"attributes\":{},\"id\":\"3201\",\"type\":\"UnionRenderers\"},{\"attributes\":{\"source\":{\"id\":\"3229\"}},\"id\":\"3236\",\"type\":\"CDSView\"},{\"attributes\":{\"label\":{\"value\":\"3\"},\"renderers\":[{\"id\":\"3259\"}]},\"id\":\"3277\",\"type\":\"LegendItem\"},{\"attributes\":{\"data\":{\"coin_id\":[\"bitcoin\",\"ethereum\",\"bitcoin-cash\",\"binancecoin\",\"chainlink\",\"cardano\",\"litecoin\",\"monero\",\"tezos\",\"cosmos\",\"wrapped-bitcoin\",\"zcash\",\"maker\"],\"crypto_cluster\":[3,3,3,3,3,3,3,3,3,3,3,3,3],\"price_change_percentage_24h\":{\"__ndarray__\":\"DdlqYN9F4D86azDosLzHPzALIwCtFvM/9w6McDSK7D/VDHOpb1eHPzMEvaFkP7o/Sds39trWsz9Epj8/c9DQP4xAeNEVZ8O/qq8st/Fh0L8FWWk3mH7gP6wo083aUMC//ACFOIMFwL8=\",\"dtype\":\"float64\",\"order\":\"little\",\"shape\":[13]},\"price_change_percentage_7d\":{\"__ndarray__\":\"U1k8q3mQ3z9yoPpI+ebtPzAB2dP2AQBAgmkOMZk89T8FNulI+JMEQCZRaSLGIPg/84wjaB1l1T8rMp3jf678P2VmURqKqeY/XK6ZksNx/T9DfMqy1o7dPyTPDB1Xu+0/srW7TleV4j8=\",\"dtype\":\"float64\",\"order\":\"little\",\"shape\":[13]}},\"selected\":{\"id\":\"3254\"},\"selection_policy\":{\"id\":\"3274\"}},\"id\":\"3253\",\"type\":\"ColumnDataSource\"},{\"attributes\":{\"below\":[{\"id\":\"3159\"}],\"center\":[{\"id\":\"3162\"},{\"id\":\"3166\"}],\"height\":300,\"left\":[{\"id\":\"3163\"}],\"margin\":[5,5,5,5],\"min_border_bottom\":10,\"min_border_left\":10,\"min_border_right\":10,\"min_border_top\":10,\"renderers\":[{\"id\":\"3192\"},{\"id\":\"3213\"},{\"id\":\"3235\"},{\"id\":\"3259\"}],\"right\":[{\"id\":\"3204\"}],\"sizing_mode\":\"fixed\",\"title\":{\"id\":\"3151\"},\"toolbar\":{\"id\":\"3173\"},\"width\":700,\"x_range\":{\"id\":\"3144\"},\"x_scale\":{\"id\":\"3155\"},\"y_range\":{\"id\":\"3145\"},\"y_scale\":{\"id\":\"3157\"}},\"id\":\"3150\",\"subtype\":\"Figure\",\"type\":\"Plot\"},{\"attributes\":{\"children\":[{\"id\":\"3150\"}],\"height\":300,\"margin\":[0,0,0,0],\"name\":\"Row03167\",\"sizing_mode\":\"fixed\",\"tags\":[\"embedded\"],\"width\":700},\"id\":\"3143\",\"type\":\"Row\"},{\"attributes\":{\"data\":{\"coin_id\":[\"tether\",\"ripple\",\"bitcoin-cash-sv\",\"crypto-com-chain\",\"usd-coin\",\"eos\",\"tron\",\"okb\",\"stellar\",\"cdai\",\"neo\",\"leo-token\",\"huobi-token\",\"nem\",\"binance-usd\",\"iota\",\"vechain\",\"theta-token\",\"dash\",\"ethereum-classic\",\"havven\",\"omisego\",\"ontology\",\"ftx-token\",\"true-usd\",\"digibyte\"],\"crypto_cluster\":[0,0,0,0,0,0,0,0,0,0,0,0,0,0,0,0,0,0,0,0,0,0,0,0,0,0],\"price_change_percentage_24h\":{\"__ndarray__\":\"mCJF1OlLlj/mJRG3Ed+kv1qZGRifu9w//rJXHrAz1T/yMTqenpahPx9kk3dK7sM/GTRehHalwD90fnl54Irtv9XPDahDw9G/+VOWQSEmxz+kpbukw1bSP6eM4M4OgKo/BcMOj9+jqr/Chq6S5ebLv2h3TIfCZ68/weEQ8QyV0D/KmZTmC7niP1YH9WGFy/m/N7JuVBEB07/EU4GAhEGyv8Ocf0hw2/a/lrPBJY23/j/IKcQzxy3av5WrmDyeito/Bf22eE/6sz9Y362Ir3rzPw==\",\"dtype\":\"float64\",\"order\":\"little\",\"shape\":[26]},\"price_change_percentage_7d\":{\"__ndarray__\":\"bZSIvk+a5r9RujxqH/Ppvw2U7adXaMi/d+r7VGbW+b9EGSx/8nTnv4rfBo4Lhe2/BEBwXEEApb8Udj8VbP/2vySelkVDp9i/7SZvVsyO5r8uu+JVH+LUvziN+gRMte2/o2qlez1D3b/CtPLKIS7rvyYjaswHnea/US6joeTvzz/dRmuCvtDvv/9TV66U6fq/ZWX+mWVCuD8GJ0pHuV/Nv8nIE2ZWH5q/TTxj/me11z+Htdvf1gXtv2Avihmzf9o/e31xtwIC5r/STlu6Y3Ljvw==\",\"dtype\":\"float64\",\"order\":\"little\",\"shape\":[26]}},\"selected\":{\"id\":\"3187\"},\"selection_policy\":{\"id\":\"3201\"}},\"id\":\"3186\",\"type\":\"ColumnDataSource\"},{\"attributes\":{\"click_policy\":\"mute\",\"coordinates\":null,\"group\":null,\"items\":[{\"id\":\"3205\"},{\"id\":\"3227\"},{\"id\":\"3251\"},{\"id\":\"3277\"}],\"location\":[0,0],\"title\":\"crypto_cluster\"},\"id\":\"3204\",\"type\":\"Legend\"},{\"attributes\":{\"coordinates\":null,\"data_source\":{\"id\":\"3253\"},\"glyph\":{\"id\":\"3256\"},\"group\":null,\"hover_glyph\":null,\"muted_glyph\":{\"id\":\"3258\"},\"nonselection_glyph\":{\"id\":\"3257\"},\"selection_glyph\":{\"id\":\"3278\"},\"view\":{\"id\":\"3260\"}},\"id\":\"3259\",\"type\":\"GlyphRenderer\"},{\"attributes\":{\"fill_alpha\":{\"value\":0.2},\"fill_color\":{\"value\":\"#30a2da\"},\"hatch_alpha\":{\"value\":0.2},\"hatch_color\":{\"value\":\"#30a2da\"},\"line_alpha\":{\"value\":0.2},\"line_color\":{\"value\":\"#30a2da\"},\"marker\":{\"value\":\"hex\"},\"size\":{\"value\":5.477225575051661},\"x\":{\"field\":\"price_change_percentage_24h\"},\"y\":{\"field\":\"price_change_percentage_7d\"}},\"id\":\"3191\",\"type\":\"Scatter\"},{\"attributes\":{\"fill_color\":{\"value\":\"#6d904f\"},\"hatch_color\":{\"value\":\"#6d904f\"},\"line_color\":{\"value\":\"#6d904f\"},\"marker\":{\"value\":\"inverted_triangle\"},\"size\":{\"value\":5.477225575051661},\"x\":{\"field\":\"price_change_percentage_24h\"},\"y\":{\"field\":\"price_change_percentage_7d\"}},\"id\":\"3256\",\"type\":\"Scatter\"},{\"attributes\":{\"coordinates\":null,\"data_source\":{\"id\":\"3207\"},\"glyph\":{\"id\":\"3210\"},\"group\":null,\"hover_glyph\":null,\"muted_glyph\":{\"id\":\"3212\"},\"nonselection_glyph\":{\"id\":\"3211\"},\"selection_glyph\":{\"id\":\"3228\"},\"view\":{\"id\":\"3214\"}},\"id\":\"3213\",\"type\":\"GlyphRenderer\"},{\"attributes\":{\"fill_color\":{\"value\":\"#fc4f30\"},\"hatch_color\":{\"value\":\"#fc4f30\"},\"line_color\":{\"value\":\"#fc4f30\"},\"marker\":{\"value\":\"square\"},\"size\":{\"value\":5.477225575051661},\"x\":{\"field\":\"price_change_percentage_24h\"},\"y\":{\"field\":\"price_change_percentage_7d\"}},\"id\":\"3210\",\"type\":\"Scatter\"},{\"attributes\":{\"fill_alpha\":{\"value\":0.2},\"fill_color\":{\"value\":\"#fc4f30\"},\"hatch_alpha\":{\"value\":0.2},\"hatch_color\":{\"value\":\"#fc4f30\"},\"line_alpha\":{\"value\":0.2},\"line_color\":{\"value\":\"#fc4f30\"},\"marker\":{\"value\":\"square\"},\"size\":{\"value\":5.477225575051661},\"x\":{\"field\":\"price_change_percentage_24h\"},\"y\":{\"field\":\"price_change_percentage_7d\"}},\"id\":\"3212\",\"type\":\"Scatter\"},{\"attributes\":{\"fill_alpha\":{\"value\":0.1},\"fill_color\":{\"value\":\"#6d904f\"},\"hatch_alpha\":{\"value\":0.1},\"hatch_color\":{\"value\":\"#6d904f\"},\"line_alpha\":{\"value\":0.1},\"line_color\":{\"value\":\"#6d904f\"},\"marker\":{\"value\":\"inverted_triangle\"},\"size\":{\"value\":5.477225575051661},\"x\":{\"field\":\"price_change_percentage_24h\"},\"y\":{\"field\":\"price_change_percentage_7d\"}},\"id\":\"3257\",\"type\":\"Scatter\"},{\"attributes\":{\"angle\":{\"value\":0.0},\"fill_alpha\":{\"value\":1.0},\"fill_color\":{\"value\":\"#30a2da\"},\"hatch_alpha\":{\"value\":1.0},\"hatch_color\":{\"value\":\"#30a2da\"},\"hatch_scale\":{\"value\":12.0},\"hatch_weight\":{\"value\":1.0},\"line_alpha\":{\"value\":1.0},\"line_cap\":{\"value\":\"butt\"},\"line_color\":{\"value\":\"#30a2da\"},\"line_dash\":{\"value\":[]},\"line_dash_offset\":{\"value\":0},\"line_join\":{\"value\":\"bevel\"},\"line_width\":{\"value\":1},\"marker\":{\"value\":\"hex\"},\"size\":{\"value\":5.477225575051661},\"x\":{\"field\":\"price_change_percentage_24h\"},\"y\":{\"field\":\"price_change_percentage_7d\"}},\"id\":\"3206\",\"type\":\"Scatter\"},{\"attributes\":{},\"id\":\"3184\",\"type\":\"BasicTickFormatter\"},{\"attributes\":{\"fill_color\":{\"value\":\"#e5ae38\"},\"hatch_color\":{\"value\":\"#e5ae38\"},\"line_color\":{\"value\":\"#e5ae38\"},\"marker\":{\"value\":\"cross\"},\"size\":{\"value\":5.477225575051661},\"x\":{\"field\":\"price_change_percentage_24h\"},\"y\":{\"field\":\"price_change_percentage_7d\"}},\"id\":\"3232\",\"type\":\"Scatter\"},{\"attributes\":{\"angle\":{\"value\":0.0},\"fill_alpha\":{\"value\":1.0},\"fill_color\":{\"value\":\"#e5ae38\"},\"hatch_alpha\":{\"value\":1.0},\"hatch_color\":{\"value\":\"#e5ae38\"},\"hatch_scale\":{\"value\":12.0},\"hatch_weight\":{\"value\":1.0},\"line_alpha\":{\"value\":1.0},\"line_cap\":{\"value\":\"butt\"},\"line_color\":{\"value\":\"#e5ae38\"},\"line_dash\":{\"value\":[]},\"line_dash_offset\":{\"value\":0},\"line_join\":{\"value\":\"bevel\"},\"line_width\":{\"value\":1},\"marker\":{\"value\":\"cross\"},\"size\":{\"value\":5.477225575051661},\"x\":{\"field\":\"price_change_percentage_24h\"},\"y\":{\"field\":\"price_change_percentage_7d\"}},\"id\":\"3252\",\"type\":\"Scatter\"},{\"attributes\":{\"source\":{\"id\":\"3186\"}},\"id\":\"3193\",\"type\":\"CDSView\"},{\"attributes\":{\"fill_color\":{\"value\":\"#30a2da\"},\"hatch_color\":{\"value\":\"#30a2da\"},\"line_color\":{\"value\":\"#30a2da\"},\"marker\":{\"value\":\"hex\"},\"size\":{\"value\":5.477225575051661},\"x\":{\"field\":\"price_change_percentage_24h\"},\"y\":{\"field\":\"price_change_percentage_7d\"}},\"id\":\"3189\",\"type\":\"Scatter\"},{\"attributes\":{\"end\":2.2155632386560065,\"reset_end\":2.2155632386560065,\"reset_start\":-5.276792781891412,\"start\":-5.276792781891412,\"tags\":[[[\"price_change_percentage_24h\",\"price_change_percentage_24h\",null]]]},\"id\":\"3144\",\"type\":\"Range1d\"},{\"attributes\":{\"fill_alpha\":{\"value\":0.1},\"fill_color\":{\"value\":\"#30a2da\"},\"hatch_alpha\":{\"value\":0.1},\"hatch_color\":{\"value\":\"#30a2da\"},\"line_alpha\":{\"value\":0.1},\"line_color\":{\"value\":\"#30a2da\"},\"marker\":{\"value\":\"hex\"},\"size\":{\"value\":5.477225575051661},\"x\":{\"field\":\"price_change_percentage_24h\"},\"y\":{\"field\":\"price_change_percentage_7d\"}},\"id\":\"3190\",\"type\":\"Scatter\"},{\"attributes\":{\"data\":{\"coin_id\":[\"ethlend\"],\"crypto_cluster\":[1],\"price_change_percentage_24h\":{\"__ndarray__\":\"3WeHPpbsE8A=\",\"dtype\":\"float64\",\"order\":\"little\",\"shape\":[1]},\"price_change_percentage_7d\":{\"__ndarray__\":\"dIWi2pshp78=\",\"dtype\":\"float64\",\"order\":\"little\",\"shape\":[1]}},\"selected\":{\"id\":\"3208\"},\"selection_policy\":{\"id\":\"3224\"}},\"id\":\"3207\",\"type\":\"ColumnDataSource\"},{\"attributes\":{\"fill_alpha\":{\"value\":0.1},\"fill_color\":{\"value\":\"#fc4f30\"},\"hatch_alpha\":{\"value\":0.1},\"hatch_color\":{\"value\":\"#fc4f30\"},\"line_alpha\":{\"value\":0.1},\"line_color\":{\"value\":\"#fc4f30\"},\"marker\":{\"value\":\"square\"},\"size\":{\"value\":5.477225575051661},\"x\":{\"field\":\"price_change_percentage_24h\"},\"y\":{\"field\":\"price_change_percentage_7d\"}},\"id\":\"3211\",\"type\":\"Scatter\"},{\"attributes\":{},\"id\":\"3155\",\"type\":\"LinearScale\"}],\"root_ids\":[\"3143\"]},\"title\":\"Bokeh Application\",\"version\":\"2.4.3\"}};\n",
       "    var render_items = [{\"docid\":\"f83317ea-ea27-46fe-a3d0-869b3eb68cfb\",\"root_ids\":[\"3143\"],\"roots\":{\"3143\":\"63acc930-3390-4753-9c01-7efe2dd2c183\"}}];\n",
       "    root.Bokeh.embed.embed_items_notebook(docs_json, render_items);\n",
       "    for (const render_item of render_items) {\n",
       "      for (const root_id of render_item.root_ids) {\n",
       "\tconst id_el = document.getElementById(root_id)\n",
       "\tif (id_el.children.length && (id_el.children[0].className === 'bk-root')) {\n",
       "\t  const root_el = id_el.children[0]\n",
       "\t  root_el.id = root_el.id + '-rendered'\n",
       "\t}\n",
       "      }\n",
       "    }\n",
       "  }\n",
       "  if (root.Bokeh !== undefined && root.Bokeh.Panel !== undefined) {\n",
       "    embed_document(root);\n",
       "  } else {\n",
       "    var attempts = 0;\n",
       "    var timer = setInterval(function(root) {\n",
       "      if (root.Bokeh !== undefined && root.Bokeh.Panel !== undefined) {\n",
       "        clearInterval(timer);\n",
       "        embed_document(root);\n",
       "      } else if (document.readyState == \"complete\") {\n",
       "        attempts++;\n",
       "        if (attempts > 200) {\n",
       "          clearInterval(timer);\n",
       "          console.log(\"Bokeh: ERROR: Unable to run BokehJS code because BokehJS library is missing\");\n",
       "        }\n",
       "      }\n",
       "    }, 25, root)\n",
       "  }\n",
       "})(window);</script>"
      ],
      "text/plain": [
       ":NdOverlay   [crypto_cluster]\n",
       "   :Scatter   [price_change_percentage_24h]   (price_change_percentage_7d,coin_id)"
      ]
     },
     "execution_count": 96,
     "metadata": {
      "application/vnd.holoviews_exec.v0+json": {
       "id": "3143"
      }
     },
     "output_type": "execute_result"
    }
   ],
   "source": [
    "# Create a scatter plot using hvPlot by setting \n",
    "# `x=\"price_change_percentage_24h\"` and `y=\"price_change_percentage_7d\"`. \n",
    "# Color the graph points with the labels found using K-Means and \n",
    "# add the crypto name in the `hover_cols` parameter to identify \n",
    "# the cryptocurrency represented by each data point.\n",
    "clusters_plot = df_market_data_scaled_predictions.hvplot.scatter(\n",
    "    x=\"price_change_percentage_24h\",\n",
    "    y=\"price_change_percentage_7d\",\n",
    "    by=\"crypto_cluster\",\n",
    "    hover_cols=[\"coin_id\"],\n",
    "    marker=[\"hex\", \"square\", \"cross\", \"inverted_triangle\"],\n",
    "    title=\"Cryptocurrencies Clusters\",\n",
    ")\n",
    "clusters_plot"
   ]
  },
  {
   "cell_type": "markdown",
   "metadata": {},
   "source": [
    "---"
   ]
  },
  {
   "cell_type": "markdown",
   "metadata": {},
   "source": [
    "### Optimize Clusters with Principal Component Analysis\n",
    "\n",
    "In this section, you will perform a principal component analysis (PCA) and reduce the features to three principal components.\n",
    "\n",
    "1. Create a PCA model instance and set `n_components=3`.\n",
    "\n",
    "2. Use the PCA model to reduce to three principal components. View the first five rows of the DataFrame. \n",
    "\n",
    "3. Retrieve the explained variance to determine how much information can be attributed to each principal component.\n",
    "\n",
    "4. Answer the following question: What is the total explained variance of the three principal components?\n",
    "\n",
    "5. Create a new DataFrame with the PCA data. Be sure to set the `coin_id` index from the original DataFrame as the index for the new DataFrame. Review the resulting DataFrame."
   ]
  },
  {
   "cell_type": "code",
   "execution_count": 97,
   "metadata": {},
   "outputs": [],
   "source": [
    "# Create a PCA model instance and set `n_components=3`.\n",
    "pca = PCA(n_components=3)"
   ]
  },
  {
   "cell_type": "code",
   "execution_count": 98,
   "metadata": {},
   "outputs": [
    {
     "data": {
      "text/plain": [
       "array([[-0.60066733,  0.84276006,  0.46159457],\n",
       "       [-0.45826071,  0.45846566,  0.95287678],\n",
       "       [-0.43306981, -0.16812638, -0.64175193],\n",
       "       [-0.47183495, -0.22266008, -0.47905316],\n",
       "       [-1.15779997,  2.04120919,  1.85971527]])"
      ]
     },
     "execution_count": 98,
     "metadata": {},
     "output_type": "execute_result"
    }
   ],
   "source": [
    "# Use the PCA model with `fit_transform` to reduce to \n",
    "# three principal components.\n",
    "# YOUR CODE HERE!\n",
    "market_pca_data = pca.fit_transform(df_market_data_scaled)\n",
    "# View the first five rows of the DataFrame. \n",
    "market_pca_data[:5]"
   ]
  },
  {
   "cell_type": "code",
   "execution_count": 99,
   "metadata": {},
   "outputs": [
    {
     "data": {
      "text/plain": [
       "array([0.3719856 , 0.34700813, 0.17603793])"
      ]
     },
     "execution_count": 99,
     "metadata": {},
     "output_type": "execute_result"
    }
   ],
   "source": [
    "# Retrieve the explained variance to determine how much information \n",
    "# can be attributed to each principal component.\n",
    "# YOUR CODE HERE!\n",
    "pca.explained_variance_ratio_"
   ]
  },
  {
   "cell_type": "markdown",
   "metadata": {},
   "source": [
    "#### Answer the following question: What is the total explained variance of the three principal components?\n",
    "\n",
    "**Question:** What is the total explained variance of the three principal components?\n",
    "\n",
    "**Answer:**\n",
    "array([0.3719856 , 0.34700813, 0.17603793]) =\n",
    "summation = **0.89503166**"
   ]
  },
  {
   "cell_type": "code",
   "execution_count": 100,
   "metadata": {},
   "outputs": [
    {
     "data": {
      "text/html": [
       "<div>\n",
       "<style scoped>\n",
       "    .dataframe tbody tr th:only-of-type {\n",
       "        vertical-align: middle;\n",
       "    }\n",
       "\n",
       "    .dataframe tbody tr th {\n",
       "        vertical-align: top;\n",
       "    }\n",
       "\n",
       "    .dataframe thead th {\n",
       "        text-align: right;\n",
       "    }\n",
       "</style>\n",
       "<table border=\"1\" class=\"dataframe\">\n",
       "  <thead>\n",
       "    <tr style=\"text-align: right;\">\n",
       "      <th></th>\n",
       "      <th>PC1</th>\n",
       "      <th>PC2</th>\n",
       "      <th>PC3</th>\n",
       "    </tr>\n",
       "    <tr>\n",
       "      <th>coin_id</th>\n",
       "      <th></th>\n",
       "      <th></th>\n",
       "      <th></th>\n",
       "    </tr>\n",
       "  </thead>\n",
       "  <tbody>\n",
       "    <tr>\n",
       "      <th>bitcoin</th>\n",
       "      <td>-0.600667</td>\n",
       "      <td>0.842760</td>\n",
       "      <td>0.461595</td>\n",
       "    </tr>\n",
       "    <tr>\n",
       "      <th>ethereum</th>\n",
       "      <td>-0.458261</td>\n",
       "      <td>0.458466</td>\n",
       "      <td>0.952877</td>\n",
       "    </tr>\n",
       "    <tr>\n",
       "      <th>tether</th>\n",
       "      <td>-0.433070</td>\n",
       "      <td>-0.168126</td>\n",
       "      <td>-0.641752</td>\n",
       "    </tr>\n",
       "    <tr>\n",
       "      <th>ripple</th>\n",
       "      <td>-0.471835</td>\n",
       "      <td>-0.222660</td>\n",
       "      <td>-0.479053</td>\n",
       "    </tr>\n",
       "    <tr>\n",
       "      <th>bitcoin-cash</th>\n",
       "      <td>-1.157800</td>\n",
       "      <td>2.041209</td>\n",
       "      <td>1.859715</td>\n",
       "    </tr>\n",
       "  </tbody>\n",
       "</table>\n",
       "</div>"
      ],
      "text/plain": [
       "                   PC1       PC2       PC3\n",
       "coin_id                                   \n",
       "bitcoin      -0.600667  0.842760  0.461595\n",
       "ethereum     -0.458261  0.458466  0.952877\n",
       "tether       -0.433070 -0.168126 -0.641752\n",
       "ripple       -0.471835 -0.222660 -0.479053\n",
       "bitcoin-cash -1.157800  2.041209  1.859715"
      ]
     },
     "execution_count": 100,
     "metadata": {},
     "output_type": "execute_result"
    }
   ],
   "source": [
    "# Create a new DataFrame with the PCA data.\n",
    "# Note: The code for this step is provided for you\n",
    "\n",
    "# Creating a DataFrame with the PCA data\n",
    "df_market_data_pca = pd.DataFrame(\n",
    "    market_pca_data, \n",
    "    columns=[\"PC1\", \"PC2\", \"PC3\"]\n",
    ")\n",
    "\n",
    "# Copy the crypto names from the original data\n",
    "df_market_data_pca[\"coin_id\"] = df_market_data.index\n",
    "\n",
    "# Set the coinid column as index\n",
    "df_market_data_pca = df_market_data_pca.set_index(\"coin_id\")\n",
    "\n",
    "# Display sample data\n",
    "df_market_data_pca.head()"
   ]
  },
  {
   "cell_type": "markdown",
   "metadata": {},
   "source": [
    "---"
   ]
  },
  {
   "cell_type": "markdown",
   "metadata": {},
   "source": [
    "### Find the Best Value for k Using the PCA Data\n",
    "\n",
    "In this section, you will use the elbow method to find the best value for `k` using the PCA data.\n",
    "\n",
    "1. Code the elbow method algorithm and use the PCA data to find the best value for `k`. Use a range from 1 to 11. \n",
    "\n",
    "2. Plot a line chart with all the inertia values computed with the different values of `k` to visually identify the optimal value for `k`.\n",
    "\n",
    "3. Answer the following questions: What is the best value for k when using the PCA data? Does it differ from the best k value found using the original data?"
   ]
  },
  {
   "cell_type": "code",
   "execution_count": 101,
   "metadata": {},
   "outputs": [],
   "source": [
    "# Create a list with the number of k-values to try\n",
    "# Use a range from 1 to 11\n",
    "k = list(range(1, 11))"
   ]
  },
  {
   "cell_type": "code",
   "execution_count": 102,
   "metadata": {},
   "outputs": [],
   "source": [
    "# Create an empy list to store the inertia values\n",
    "inertia = []"
   ]
  },
  {
   "cell_type": "code",
   "execution_count": 103,
   "metadata": {},
   "outputs": [
    {
     "name": "stderr",
     "output_type": "stream",
     "text": [
      "C:\\Users\\hsiao\\anaconda3\\envs\\dev\\lib\\site-packages\\sklearn\\cluster\\_kmeans.py:1037: UserWarning: KMeans is known to have a memory leak on Windows with MKL, when there are less chunks than available threads. You can avoid it by setting the environment variable OMP_NUM_THREADS=1.\n",
      "  \"KMeans is known to have a memory leak on Windows \"\n"
     ]
    }
   ],
   "source": [
    "# Create a for loop to compute the inertia with each possible value of k\n",
    "# Inside the loop:\n",
    "# 1. Create a KMeans model using the loop counter for the n_clusters\n",
    "# 2. Fit the model to the data using `df_market_data_pca`\n",
    "# 3. Append the model.inertia_ to the inertia list\n",
    "for i in k:\n",
    "    model = KMeans(n_clusters=i, random_state=0)\n",
    "    model.fit(df_market_data_pca)\n",
    "    inertia.append(model.inertia_)"
   ]
  },
  {
   "cell_type": "code",
   "execution_count": 104,
   "metadata": {},
   "outputs": [],
   "source": [
    "# Create a dictionary with the data to plot the Elbow curve\n",
    "elbow_data_pca = {\n",
    "    \"k\": k,\n",
    "    \"inertia\": inertia\n",
    "}\n",
    "\n",
    "# Create a DataFrame with the data to plot the Elbow curve\n",
    "df_elbow_pca = pd.DataFrame(elbow_data_pca)"
   ]
  },
  {
   "cell_type": "code",
   "execution_count": 120,
   "metadata": {},
   "outputs": [
    {
     "data": {},
     "metadata": {},
     "output_type": "display_data"
    },
    {
     "data": {
      "application/vnd.holoviews_exec.v0+json": "",
      "text/html": [
       "<div id='3491'>\n",
       "  <div class=\"bk-root\" id=\"7d53b329-dacc-4d41-bddc-bb65d0c344d4\" data-root-id=\"3491\"></div>\n",
       "</div>\n",
       "<script type=\"application/javascript\">(function(root) {\n",
       "  function embed_document(root) {\n",
       "    var docs_json = {\"d8898fe4-5700-444c-8221-32a8468989f6\":{\"defs\":[{\"extends\":null,\"module\":null,\"name\":\"ReactiveHTML1\",\"overrides\":[],\"properties\":[]},{\"extends\":null,\"module\":null,\"name\":\"FlexBox1\",\"overrides\":[],\"properties\":[{\"default\":\"flex-start\",\"kind\":null,\"name\":\"align_content\"},{\"default\":\"flex-start\",\"kind\":null,\"name\":\"align_items\"},{\"default\":\"row\",\"kind\":null,\"name\":\"flex_direction\"},{\"default\":\"wrap\",\"kind\":null,\"name\":\"flex_wrap\"},{\"default\":\"flex-start\",\"kind\":null,\"name\":\"justify_content\"}]},{\"extends\":null,\"module\":null,\"name\":\"GridStack1\",\"overrides\":[],\"properties\":[{\"default\":\"warn\",\"kind\":null,\"name\":\"mode\"},{\"default\":null,\"kind\":null,\"name\":\"ncols\"},{\"default\":null,\"kind\":null,\"name\":\"nrows\"},{\"default\":true,\"kind\":null,\"name\":\"allow_resize\"},{\"default\":true,\"kind\":null,\"name\":\"allow_drag\"},{\"default\":[],\"kind\":null,\"name\":\"state\"}]},{\"extends\":null,\"module\":null,\"name\":\"click1\",\"overrides\":[],\"properties\":[{\"default\":\"\",\"kind\":null,\"name\":\"terminal_output\"},{\"default\":\"\",\"kind\":null,\"name\":\"debug_name\"},{\"default\":0,\"kind\":null,\"name\":\"clears\"}]},{\"extends\":null,\"module\":null,\"name\":\"NotificationAreaBase1\",\"overrides\":[],\"properties\":[{\"default\":\"bottom-right\",\"kind\":null,\"name\":\"position\"},{\"default\":0,\"kind\":null,\"name\":\"_clear\"}]},{\"extends\":null,\"module\":null,\"name\":\"NotificationArea1\",\"overrides\":[],\"properties\":[{\"default\":[],\"kind\":null,\"name\":\"notifications\"},{\"default\":\"bottom-right\",\"kind\":null,\"name\":\"position\"},{\"default\":0,\"kind\":null,\"name\":\"_clear\"},{\"default\":[{\"background\":\"#ffc107\",\"icon\":{\"className\":\"fas fa-exclamation-triangle\",\"color\":\"white\",\"tagName\":\"i\"},\"type\":\"warning\"},{\"background\":\"#007bff\",\"icon\":{\"className\":\"fas fa-info-circle\",\"color\":\"white\",\"tagName\":\"i\"},\"type\":\"info\"}],\"kind\":null,\"name\":\"types\"}]},{\"extends\":null,\"module\":null,\"name\":\"Notification\",\"overrides\":[],\"properties\":[{\"default\":null,\"kind\":null,\"name\":\"background\"},{\"default\":3000,\"kind\":null,\"name\":\"duration\"},{\"default\":null,\"kind\":null,\"name\":\"icon\"},{\"default\":\"\",\"kind\":null,\"name\":\"message\"},{\"default\":null,\"kind\":null,\"name\":\"notification_type\"},{\"default\":false,\"kind\":null,\"name\":\"_destroyed\"}]},{\"extends\":null,\"module\":null,\"name\":\"TemplateActions1\",\"overrides\":[],\"properties\":[{\"default\":0,\"kind\":null,\"name\":\"open_modal\"},{\"default\":0,\"kind\":null,\"name\":\"close_modal\"}]},{\"extends\":null,\"module\":null,\"name\":\"MaterialTemplateActions1\",\"overrides\":[],\"properties\":[{\"default\":0,\"kind\":null,\"name\":\"open_modal\"},{\"default\":0,\"kind\":null,\"name\":\"close_modal\"}]}],\"roots\":{\"references\":[{\"attributes\":{\"active_drag\":{\"id\":\"3513\"},\"active_scroll\":{\"id\":\"3514\"},\"tools\":[{\"id\":\"3494\"},{\"id\":\"3512\"},{\"id\":\"3513\"},{\"id\":\"3514\"},{\"id\":\"3515\"},{\"id\":\"3516\"}]},\"id\":\"3518\",\"type\":\"Toolbar\"},{\"attributes\":{\"end\":10.0,\"reset_end\":10.0,\"reset_start\":1.0,\"start\":1.0,\"tags\":[[[\"k\",\"k\",null]]]},\"id\":\"3492\",\"type\":\"Range1d\"},{\"attributes\":{\"end\":281.50555836840255,\"reset_end\":281.50555836840255,\"reset_start\":-14.072115237716485,\"start\":-14.072115237716485,\"tags\":[[[\"inertia\",\"inertia\",null]]]},\"id\":\"3493\",\"type\":\"Range1d\"},{\"attributes\":{},\"id\":\"3516\",\"type\":\"ResetTool\"},{\"attributes\":{\"ticks\":[1,2,3,4,5,6,7,8,9,10]},\"id\":\"3534\",\"type\":\"FixedTicker\"},{\"attributes\":{\"line_color\":\"#30a2da\",\"line_width\":2,\"x\":{\"field\":\"k\"},\"y\":{\"field\":\"inertia\"}},\"id\":\"3533\",\"type\":\"Line\"},{\"attributes\":{\"axis_label\":\"inertia\",\"coordinates\":null,\"formatter\":{\"id\":\"3541\"},\"group\":null,\"major_label_policy\":{\"id\":\"3542\"},\"ticker\":{\"id\":\"3509\"}},\"id\":\"3508\",\"type\":\"LinearAxis\"},{\"attributes\":{},\"id\":\"3526\",\"type\":\"Selection\"},{\"attributes\":{},\"id\":\"3500\",\"type\":\"LinearScale\"},{\"attributes\":{\"below\":[{\"id\":\"3504\"}],\"center\":[{\"id\":\"3507\"},{\"id\":\"3511\"}],\"height\":300,\"left\":[{\"id\":\"3508\"}],\"margin\":[5,5,5,5],\"min_border_bottom\":10,\"min_border_left\":10,\"min_border_right\":10,\"min_border_top\":10,\"renderers\":[{\"id\":\"3531\"}],\"sizing_mode\":\"fixed\",\"title\":{\"id\":\"3496\"},\"toolbar\":{\"id\":\"3518\"},\"width\":700,\"x_range\":{\"id\":\"3492\"},\"x_scale\":{\"id\":\"3500\"},\"y_range\":{\"id\":\"3493\"},\"y_scale\":{\"id\":\"3502\"}},\"id\":\"3495\",\"subtype\":\"Figure\",\"type\":\"Plot\"},{\"attributes\":{},\"id\":\"3509\",\"type\":\"BasicTicker\"},{\"attributes\":{},\"id\":\"3537\",\"type\":\"AllLabels\"},{\"attributes\":{\"source\":{\"id\":\"3525\"}},\"id\":\"3532\",\"type\":\"CDSView\"},{\"attributes\":{\"axis_label\":\"k\",\"coordinates\":null,\"formatter\":{\"id\":\"3536\"},\"group\":null,\"major_label_policy\":{\"id\":\"3537\"},\"ticker\":{\"id\":\"3534\"}},\"id\":\"3504\",\"type\":\"LinearAxis\"},{\"attributes\":{\"overlay\":{\"id\":\"3517\"}},\"id\":\"3515\",\"type\":\"BoxZoomTool\"},{\"attributes\":{},\"id\":\"3542\",\"type\":\"AllLabels\"},{\"attributes\":{\"callback\":null,\"renderers\":[{\"id\":\"3531\"}],\"tags\":[\"hv_created\"],\"tooltips\":[[\"k\",\"@{k}\"],[\"inertia\",\"@{inertia}\"]]},\"id\":\"3494\",\"type\":\"HoverTool\"},{\"attributes\":{\"children\":[{\"id\":\"3495\"}],\"height\":300,\"margin\":[0,0,0,0],\"name\":\"Row03446\",\"sizing_mode\":\"fixed\",\"tags\":[\"embedded\"],\"width\":700},\"id\":\"3491\",\"type\":\"Row\"},{\"attributes\":{\"coordinates\":null,\"data_source\":{\"id\":\"3525\"},\"glyph\":{\"id\":\"3528\"},\"group\":null,\"hover_glyph\":null,\"muted_glyph\":{\"id\":\"3530\"},\"nonselection_glyph\":{\"id\":\"3529\"},\"selection_glyph\":{\"id\":\"3533\"},\"view\":{\"id\":\"3532\"}},\"id\":\"3531\",\"type\":\"GlyphRenderer\"},{\"attributes\":{\"axis\":{\"id\":\"3508\"},\"coordinates\":null,\"dimension\":1,\"grid_line_color\":null,\"group\":null,\"ticker\":null},\"id\":\"3511\",\"type\":\"Grid\"},{\"attributes\":{},\"id\":\"3512\",\"type\":\"SaveTool\"},{\"attributes\":{\"coordinates\":null,\"group\":null,\"text\":\"Elbow Curve Using PCA Data\",\"text_color\":\"black\",\"text_font_size\":\"12pt\"},\"id\":\"3496\",\"type\":\"Title\"},{\"attributes\":{},\"id\":\"3514\",\"type\":\"WheelZoomTool\"},{\"attributes\":{},\"id\":\"3536\",\"type\":\"BasicTickFormatter\"},{\"attributes\":{},\"id\":\"3502\",\"type\":\"LinearScale\"},{\"attributes\":{},\"id\":\"3541\",\"type\":\"BasicTickFormatter\"},{\"attributes\":{\"line_alpha\":0.2,\"line_color\":\"#30a2da\",\"line_width\":2,\"x\":{\"field\":\"k\"},\"y\":{\"field\":\"inertia\"}},\"id\":\"3530\",\"type\":\"Line\"},{\"attributes\":{\"data\":{\"inertia\":{\"__ndarray__\":\"EgAmQfwNcEBOVJAi3bxkQP0sl3eTcVdAnoiJ/i7VSEDZFmXIevBCQIRsYu90njtAZOYhZsouNUBStBt0y2MxQDyoTfHyLytAqO9NHWQeJUA=\",\"dtype\":\"float64\",\"order\":\"little\",\"shape\":[10]},\"k\":[1,2,3,4,5,6,7,8,9,10]},\"selected\":{\"id\":\"3526\"},\"selection_policy\":{\"id\":\"3553\"}},\"id\":\"3525\",\"type\":\"ColumnDataSource\"},{\"attributes\":{\"line_color\":\"#30a2da\",\"line_width\":2,\"x\":{\"field\":\"k\"},\"y\":{\"field\":\"inertia\"}},\"id\":\"3528\",\"type\":\"Line\"},{\"attributes\":{\"bottom_units\":\"screen\",\"coordinates\":null,\"fill_alpha\":0.5,\"fill_color\":\"lightgrey\",\"group\":null,\"left_units\":\"screen\",\"level\":\"overlay\",\"line_alpha\":1.0,\"line_color\":\"black\",\"line_dash\":[4,4],\"line_width\":2,\"right_units\":\"screen\",\"syncable\":false,\"top_units\":\"screen\"},\"id\":\"3517\",\"type\":\"BoxAnnotation\"},{\"attributes\":{\"axis\":{\"id\":\"3504\"},\"coordinates\":null,\"grid_line_color\":null,\"group\":null,\"ticker\":null},\"id\":\"3507\",\"type\":\"Grid\"},{\"attributes\":{\"line_alpha\":0.1,\"line_color\":\"#30a2da\",\"line_width\":2,\"x\":{\"field\":\"k\"},\"y\":{\"field\":\"inertia\"}},\"id\":\"3529\",\"type\":\"Line\"},{\"attributes\":{},\"id\":\"3513\",\"type\":\"PanTool\"},{\"attributes\":{},\"id\":\"3553\",\"type\":\"UnionRenderers\"}],\"root_ids\":[\"3491\"]},\"title\":\"Bokeh Application\",\"version\":\"2.4.3\"}};\n",
       "    var render_items = [{\"docid\":\"d8898fe4-5700-444c-8221-32a8468989f6\",\"root_ids\":[\"3491\"],\"roots\":{\"3491\":\"7d53b329-dacc-4d41-bddc-bb65d0c344d4\"}}];\n",
       "    root.Bokeh.embed.embed_items_notebook(docs_json, render_items);\n",
       "    for (const render_item of render_items) {\n",
       "      for (const root_id of render_item.root_ids) {\n",
       "\tconst id_el = document.getElementById(root_id)\n",
       "\tif (id_el.children.length && (id_el.children[0].className === 'bk-root')) {\n",
       "\t  const root_el = id_el.children[0]\n",
       "\t  root_el.id = root_el.id + '-rendered'\n",
       "\t}\n",
       "      }\n",
       "    }\n",
       "  }\n",
       "  if (root.Bokeh !== undefined && root.Bokeh.Panel !== undefined) {\n",
       "    embed_document(root);\n",
       "  } else {\n",
       "    var attempts = 0;\n",
       "    var timer = setInterval(function(root) {\n",
       "      if (root.Bokeh !== undefined && root.Bokeh.Panel !== undefined) {\n",
       "        clearInterval(timer);\n",
       "        embed_document(root);\n",
       "      } else if (document.readyState == \"complete\") {\n",
       "        attempts++;\n",
       "        if (attempts > 200) {\n",
       "          clearInterval(timer);\n",
       "          console.log(\"Bokeh: ERROR: Unable to run BokehJS code because BokehJS library is missing\");\n",
       "        }\n",
       "      }\n",
       "    }, 25, root)\n",
       "  }\n",
       "})(window);</script>"
      ],
      "text/plain": [
       ":Curve   [k]   (inertia)"
      ]
     },
     "execution_count": 120,
     "metadata": {
      "application/vnd.holoviews_exec.v0+json": {
       "id": "3491"
      }
     },
     "output_type": "execute_result"
    }
   ],
   "source": [
    "# Plot a line chart with all the inertia values computed with \n",
    "# the different values of k to visually identify the optimal value for k.\n",
    "# YOUR CODE HERE!\n",
    "elbow_plot_pca = df_elbow_pca.hvplot.line(x=\"k\", y=\"inertia\", title=\"Elbow Curve Using PCA Data\", xticks=k)\n",
    "elbow_plot_pca"
   ]
  },
  {
   "cell_type": "markdown",
   "metadata": {},
   "source": [
    "#### Answer the following questions: What is the best value for k when using the PCA data? Does it differ from the best k value found using the original data?\n",
    "* **Question:** What is the best value for `k` when using the PCA data?\n",
    "\n",
    "  * **Answer:** # YOUR ANSWER HERE! 4\n",
    "\n",
    "\n",
    "* **Question:** Does it differ from the best k value found using the original data?\n",
    "\n",
    "  * **Answer:** # YOUR ANSWER HERE! nope same"
   ]
  },
  {
   "cell_type": "markdown",
   "metadata": {},
   "source": [
    "---"
   ]
  },
  {
   "cell_type": "markdown",
   "metadata": {},
   "source": [
    "### Cluster Cryptocurrencies with K-means Using the PCA Data\n",
    "\n",
    "In this section, you will use the PCA data and the K-Means algorithm with the best value for `k` found in the previous section to cluster the cryptocurrencies according to the principal components.\n",
    "\n",
    "1. Initialize the K-Means model with four clusters using the best value for `k`. \n",
    "\n",
    "2. Fit the K-Means model using the PCA data.\n",
    "\n",
    "3. Predict the clusters to group the cryptocurrencies using the PCA data. View the resulting array of cluster values.\n",
    "\n",
    "4. Add a new column to the DataFrame with the PCA data to store the predicted clusters.\n",
    "\n",
    "5. Create a scatter plot using hvPlot by setting `x=\"PC1\"` and `y=\"PC2\"`. Color the graph points with the labels found using K-Means and add the crypto name in the `hover_cols` parameter to identify the cryptocurrency represented by each data point."
   ]
  },
  {
   "cell_type": "code",
   "execution_count": 121,
   "metadata": {},
   "outputs": [],
   "source": [
    "# Initialize the K-Means model using the best value for k\n",
    "model_pca = KMeans(n_clusters=4)"
   ]
  },
  {
   "cell_type": "code",
   "execution_count": 122,
   "metadata": {},
   "outputs": [],
   "source": [
    "# Fit the K-Means model using the PCA data\n",
    "model_pca = KMeans(n_clusters=4)"
   ]
  },
  {
   "cell_type": "code",
   "execution_count": 125,
   "metadata": {},
   "outputs": [
    {
     "name": "stdout",
     "output_type": "stream",
     "text": [
      "[0 0 1 1 0 0 0 0 0 1 1 1 1 0 1 0 1 1 0 1 1 0 1 1 1 1 1 1 0 1 1 1 2 0 1 1 3\n",
      " 1 1 1 1]\n"
     ]
    }
   ],
   "source": [
    "# Predict the clusters to group the cryptocurrencies using the PCA data\n",
    "# YOUR CODE HERE!\n",
    "model_pca.fit(df_market_data_pca)\n",
    "\n",
    "crypto_clusters_pca = model_pca.predict(df_market_data_pca)\n",
    "# View the resulting array of cluster values.\n",
    "# YOUR CODE HERE!\n",
    "print(crypto_clusters_pca)"
   ]
  },
  {
   "cell_type": "code",
   "execution_count": 126,
   "metadata": {},
   "outputs": [
    {
     "data": {
      "text/html": [
       "<div>\n",
       "<style scoped>\n",
       "    .dataframe tbody tr th:only-of-type {\n",
       "        vertical-align: middle;\n",
       "    }\n",
       "\n",
       "    .dataframe tbody tr th {\n",
       "        vertical-align: top;\n",
       "    }\n",
       "\n",
       "    .dataframe thead th {\n",
       "        text-align: right;\n",
       "    }\n",
       "</style>\n",
       "<table border=\"1\" class=\"dataframe\">\n",
       "  <thead>\n",
       "    <tr style=\"text-align: right;\">\n",
       "      <th></th>\n",
       "      <th>PC1</th>\n",
       "      <th>PC2</th>\n",
       "      <th>PC3</th>\n",
       "      <th>crypto_cluster</th>\n",
       "    </tr>\n",
       "    <tr>\n",
       "      <th>coin_id</th>\n",
       "      <th></th>\n",
       "      <th></th>\n",
       "      <th></th>\n",
       "      <th></th>\n",
       "    </tr>\n",
       "  </thead>\n",
       "  <tbody>\n",
       "    <tr>\n",
       "      <th>bitcoin</th>\n",
       "      <td>-0.600667</td>\n",
       "      <td>0.842760</td>\n",
       "      <td>0.461595</td>\n",
       "      <td>0</td>\n",
       "    </tr>\n",
       "    <tr>\n",
       "      <th>ethereum</th>\n",
       "      <td>-0.458261</td>\n",
       "      <td>0.458466</td>\n",
       "      <td>0.952877</td>\n",
       "      <td>0</td>\n",
       "    </tr>\n",
       "    <tr>\n",
       "      <th>tether</th>\n",
       "      <td>-0.433070</td>\n",
       "      <td>-0.168126</td>\n",
       "      <td>-0.641752</td>\n",
       "      <td>1</td>\n",
       "    </tr>\n",
       "    <tr>\n",
       "      <th>ripple</th>\n",
       "      <td>-0.471835</td>\n",
       "      <td>-0.222660</td>\n",
       "      <td>-0.479053</td>\n",
       "      <td>1</td>\n",
       "    </tr>\n",
       "    <tr>\n",
       "      <th>bitcoin-cash</th>\n",
       "      <td>-1.157800</td>\n",
       "      <td>2.041209</td>\n",
       "      <td>1.859715</td>\n",
       "      <td>0</td>\n",
       "    </tr>\n",
       "  </tbody>\n",
       "</table>\n",
       "</div>"
      ],
      "text/plain": [
       "                   PC1       PC2       PC3  crypto_cluster\n",
       "coin_id                                                   \n",
       "bitcoin      -0.600667  0.842760  0.461595               0\n",
       "ethereum     -0.458261  0.458466  0.952877               0\n",
       "tether       -0.433070 -0.168126 -0.641752               1\n",
       "ripple       -0.471835 -0.222660 -0.479053               1\n",
       "bitcoin-cash -1.157800  2.041209  1.859715               0"
      ]
     },
     "execution_count": 126,
     "metadata": {},
     "output_type": "execute_result"
    }
   ],
   "source": [
    "# Create a copy of the DataFrame with the PCA data\n",
    "# YOUR CODE HERE!\n",
    "df_market_data_pca_predictions = df_market_data_pca.copy()\n",
    "# Add a new column to the DataFrame with the predicted clusters\n",
    "# YOUR CODE HERE!\n",
    "df_market_data_pca_predictions[\"crypto_cluster\"] = crypto_clusters_pca\n",
    "# Display sample data\n",
    "# YOUR CODE HERE!\n",
    "df_market_data_pca_predictions.head()"
   ]
  },
  {
   "cell_type": "code",
   "execution_count": 127,
   "metadata": {},
   "outputs": [
    {
     "data": {},
     "metadata": {},
     "output_type": "display_data"
    },
    {
     "data": {
      "application/vnd.holoviews_exec.v0+json": "",
      "text/html": [
       "<div id='3602'>\n",
       "  <div class=\"bk-root\" id=\"858c0742-717d-45b4-af91-90b84566cf58\" data-root-id=\"3602\"></div>\n",
       "</div>\n",
       "<script type=\"application/javascript\">(function(root) {\n",
       "  function embed_document(root) {\n",
       "    var docs_json = {\"fd075366-b5e8-42d0-99df-e8bac7c626a6\":{\"defs\":[{\"extends\":null,\"module\":null,\"name\":\"ReactiveHTML1\",\"overrides\":[],\"properties\":[]},{\"extends\":null,\"module\":null,\"name\":\"FlexBox1\",\"overrides\":[],\"properties\":[{\"default\":\"flex-start\",\"kind\":null,\"name\":\"align_content\"},{\"default\":\"flex-start\",\"kind\":null,\"name\":\"align_items\"},{\"default\":\"row\",\"kind\":null,\"name\":\"flex_direction\"},{\"default\":\"wrap\",\"kind\":null,\"name\":\"flex_wrap\"},{\"default\":\"flex-start\",\"kind\":null,\"name\":\"justify_content\"}]},{\"extends\":null,\"module\":null,\"name\":\"GridStack1\",\"overrides\":[],\"properties\":[{\"default\":\"warn\",\"kind\":null,\"name\":\"mode\"},{\"default\":null,\"kind\":null,\"name\":\"ncols\"},{\"default\":null,\"kind\":null,\"name\":\"nrows\"},{\"default\":true,\"kind\":null,\"name\":\"allow_resize\"},{\"default\":true,\"kind\":null,\"name\":\"allow_drag\"},{\"default\":[],\"kind\":null,\"name\":\"state\"}]},{\"extends\":null,\"module\":null,\"name\":\"click1\",\"overrides\":[],\"properties\":[{\"default\":\"\",\"kind\":null,\"name\":\"terminal_output\"},{\"default\":\"\",\"kind\":null,\"name\":\"debug_name\"},{\"default\":0,\"kind\":null,\"name\":\"clears\"}]},{\"extends\":null,\"module\":null,\"name\":\"NotificationAreaBase1\",\"overrides\":[],\"properties\":[{\"default\":\"bottom-right\",\"kind\":null,\"name\":\"position\"},{\"default\":0,\"kind\":null,\"name\":\"_clear\"}]},{\"extends\":null,\"module\":null,\"name\":\"NotificationArea1\",\"overrides\":[],\"properties\":[{\"default\":[],\"kind\":null,\"name\":\"notifications\"},{\"default\":\"bottom-right\",\"kind\":null,\"name\":\"position\"},{\"default\":0,\"kind\":null,\"name\":\"_clear\"},{\"default\":[{\"background\":\"#ffc107\",\"icon\":{\"className\":\"fas fa-exclamation-triangle\",\"color\":\"white\",\"tagName\":\"i\"},\"type\":\"warning\"},{\"background\":\"#007bff\",\"icon\":{\"className\":\"fas fa-info-circle\",\"color\":\"white\",\"tagName\":\"i\"},\"type\":\"info\"}],\"kind\":null,\"name\":\"types\"}]},{\"extends\":null,\"module\":null,\"name\":\"Notification\",\"overrides\":[],\"properties\":[{\"default\":null,\"kind\":null,\"name\":\"background\"},{\"default\":3000,\"kind\":null,\"name\":\"duration\"},{\"default\":null,\"kind\":null,\"name\":\"icon\"},{\"default\":\"\",\"kind\":null,\"name\":\"message\"},{\"default\":null,\"kind\":null,\"name\":\"notification_type\"},{\"default\":false,\"kind\":null,\"name\":\"_destroyed\"}]},{\"extends\":null,\"module\":null,\"name\":\"TemplateActions1\",\"overrides\":[],\"properties\":[{\"default\":0,\"kind\":null,\"name\":\"open_modal\"},{\"default\":0,\"kind\":null,\"name\":\"close_modal\"}]},{\"extends\":null,\"module\":null,\"name\":\"MaterialTemplateActions1\",\"overrides\":[],\"properties\":[{\"default\":0,\"kind\":null,\"name\":\"open_modal\"},{\"default\":0,\"kind\":null,\"name\":\"close_modal\"}]}],\"roots\":{\"references\":[{\"attributes\":{\"click_policy\":\"mute\",\"coordinates\":null,\"group\":null,\"items\":[{\"id\":\"3664\"},{\"id\":\"3686\"},{\"id\":\"3710\"},{\"id\":\"3736\"}],\"location\":[0,0],\"title\":\"crypto_cluster\"},\"id\":\"3663\",\"type\":\"Legend\"},{\"attributes\":{},\"id\":\"3630\",\"type\":\"ResetTool\"},{\"attributes\":{},\"id\":\"3619\",\"type\":\"BasicTicker\"},{\"attributes\":{\"active_drag\":{\"id\":\"3627\"},\"active_scroll\":{\"id\":\"3628\"},\"tools\":[{\"id\":\"3605\"},{\"id\":\"3626\"},{\"id\":\"3627\"},{\"id\":\"3628\"},{\"id\":\"3629\"},{\"id\":\"3630\"}]},\"id\":\"3632\",\"type\":\"Toolbar\"},{\"attributes\":{\"bottom_units\":\"screen\",\"coordinates\":null,\"fill_alpha\":0.5,\"fill_color\":\"lightgrey\",\"group\":null,\"left_units\":\"screen\",\"level\":\"overlay\",\"line_alpha\":1.0,\"line_color\":\"black\",\"line_dash\":[4,4],\"line_width\":2,\"right_units\":\"screen\",\"syncable\":false,\"top_units\":\"screen\"},\"id\":\"3631\",\"type\":\"BoxAnnotation\"},{\"attributes\":{\"end\":8.485310422788737,\"reset_end\":8.485310422788737,\"reset_start\":-1.5540921804637602,\"start\":-1.5540921804637602,\"tags\":[[[\"PC1\",\"PC1\",null]]]},\"id\":\"3603\",\"type\":\"Range1d\"},{\"attributes\":{},\"id\":\"3641\",\"type\":\"AllLabels\"},{\"attributes\":{\"source\":{\"id\":\"3688\"}},\"id\":\"3695\",\"type\":\"CDSView\"},{\"attributes\":{},\"id\":\"3643\",\"type\":\"BasicTickFormatter\"},{\"attributes\":{},\"id\":\"3640\",\"type\":\"BasicTickFormatter\"},{\"attributes\":{\"fill_alpha\":{\"value\":0.2},\"fill_color\":{\"value\":\"#e5ae38\"},\"hatch_alpha\":{\"value\":0.2},\"hatch_color\":{\"value\":\"#e5ae38\"},\"line_alpha\":{\"value\":0.2},\"line_color\":{\"value\":\"#e5ae38\"},\"marker\":{\"value\":\"cross\"},\"size\":{\"value\":5.477225575051661},\"x\":{\"field\":\"PC1\"},\"y\":{\"field\":\"PC2\"}},\"id\":\"3693\",\"type\":\"Scatter\"},{\"attributes\":{},\"id\":\"3683\",\"type\":\"UnionRenderers\"},{\"attributes\":{\"data\":{\"PC1\":{\"__ndarray__\":\"S/XQrqo447/f0e2+JFTdv2ATj0NZhvK/ItMJ1HGH4L/0WkdgdNjcvwn+x3tOHta/lm1M83DI5L/osk+KvvmuP5kxxVNFeum/186LH/eZ07/b3W/HIlbjv2Hz5tCaNdu/vEmjFh7m2L8=\",\"dtype\":\"float64\",\"order\":\"little\",\"shape\":[13]},\"PC2\":{\"__ndarray__\":\"tQJY8+P36j9hP81egFfdP6JEN3tlVABAbaRxTss29j+zZPC8/ZDgP3/E/UiRV+c/WS0795eo2z+X9tOGdUYHQHCknptkpN+/aENue2CC5j9WCxibCnrqP9N0su7rjN8/T0ntLg0gxT8=\",\"dtype\":\"float64\",\"order\":\"little\",\"shape\":[13]},\"coin_id\":[\"bitcoin\",\"ethereum\",\"bitcoin-cash\",\"binancecoin\",\"chainlink\",\"cardano\",\"litecoin\",\"monero\",\"tezos\",\"cosmos\",\"wrapped-bitcoin\",\"zcash\",\"maker\"],\"crypto_cluster\":[0,0,0,0,0,0,0,0,0,0,0,0,0]},\"selected\":{\"id\":\"3646\"},\"selection_policy\":{\"id\":\"3660\"}},\"id\":\"3645\",\"type\":\"ColumnDataSource\"},{\"attributes\":{},\"id\":\"3660\",\"type\":\"UnionRenderers\"},{\"attributes\":{\"angle\":{\"value\":0.0},\"fill_alpha\":{\"value\":1.0},\"fill_color\":{\"value\":\"#30a2da\"},\"hatch_alpha\":{\"value\":1.0},\"hatch_color\":{\"value\":\"#30a2da\"},\"hatch_scale\":{\"value\":12.0},\"hatch_weight\":{\"value\":1.0},\"line_alpha\":{\"value\":1.0},\"line_cap\":{\"value\":\"butt\"},\"line_color\":{\"value\":\"#30a2da\"},\"line_dash\":{\"value\":[]},\"line_dash_offset\":{\"value\":0},\"line_join\":{\"value\":\"bevel\"},\"line_width\":{\"value\":1},\"marker\":{\"value\":\"hex\"},\"size\":{\"value\":5.477225575051661},\"x\":{\"field\":\"PC1\"},\"y\":{\"field\":\"PC2\"}},\"id\":\"3665\",\"type\":\"Scatter\"},{\"attributes\":{\"fill_color\":{\"value\":\"#6d904f\"},\"hatch_color\":{\"value\":\"#6d904f\"},\"line_color\":{\"value\":\"#6d904f\"},\"marker\":{\"value\":\"inverted_triangle\"},\"size\":{\"value\":5.477225575051661},\"x\":{\"field\":\"PC1\"},\"y\":{\"field\":\"PC2\"}},\"id\":\"3715\",\"type\":\"Scatter\"},{\"attributes\":{\"coordinates\":null,\"data_source\":{\"id\":\"3712\"},\"glyph\":{\"id\":\"3715\"},\"group\":null,\"hover_glyph\":null,\"muted_glyph\":{\"id\":\"3717\"},\"nonselection_glyph\":{\"id\":\"3716\"},\"selection_glyph\":{\"id\":\"3737\"},\"view\":{\"id\":\"3719\"}},\"id\":\"3718\",\"type\":\"GlyphRenderer\"},{\"attributes\":{\"source\":{\"id\":\"3645\"}},\"id\":\"3652\",\"type\":\"CDSView\"},{\"attributes\":{\"fill_alpha\":{\"value\":0.2},\"fill_color\":{\"value\":\"#30a2da\"},\"hatch_alpha\":{\"value\":0.2},\"hatch_color\":{\"value\":\"#30a2da\"},\"line_alpha\":{\"value\":0.2},\"line_color\":{\"value\":\"#30a2da\"},\"marker\":{\"value\":\"hex\"},\"size\":{\"value\":5.477225575051661},\"x\":{\"field\":\"PC1\"},\"y\":{\"field\":\"PC2\"}},\"id\":\"3650\",\"type\":\"Scatter\"},{\"attributes\":{\"coordinates\":null,\"data_source\":{\"id\":\"3645\"},\"glyph\":{\"id\":\"3648\"},\"group\":null,\"hover_glyph\":null,\"muted_glyph\":{\"id\":\"3650\"},\"nonselection_glyph\":{\"id\":\"3649\"},\"selection_glyph\":{\"id\":\"3665\"},\"view\":{\"id\":\"3652\"}},\"id\":\"3651\",\"type\":\"GlyphRenderer\"},{\"attributes\":{\"fill_alpha\":{\"value\":0.1},\"fill_color\":{\"value\":\"#e5ae38\"},\"hatch_alpha\":{\"value\":0.1},\"hatch_color\":{\"value\":\"#e5ae38\"},\"line_alpha\":{\"value\":0.1},\"line_color\":{\"value\":\"#e5ae38\"},\"marker\":{\"value\":\"cross\"},\"size\":{\"value\":5.477225575051661},\"x\":{\"field\":\"PC1\"},\"y\":{\"field\":\"PC2\"}},\"id\":\"3692\",\"type\":\"Scatter\"},{\"attributes\":{\"fill_alpha\":{\"value\":0.1},\"fill_color\":{\"value\":\"#30a2da\"},\"hatch_alpha\":{\"value\":0.1},\"hatch_color\":{\"value\":\"#30a2da\"},\"line_alpha\":{\"value\":0.1},\"line_color\":{\"value\":\"#30a2da\"},\"marker\":{\"value\":\"hex\"},\"size\":{\"value\":5.477225575051661},\"x\":{\"field\":\"PC1\"},\"y\":{\"field\":\"PC2\"}},\"id\":\"3649\",\"type\":\"Scatter\"},{\"attributes\":{\"angle\":{\"value\":0.0},\"fill_alpha\":{\"value\":1.0},\"fill_color\":{\"value\":\"#fc4f30\"},\"hatch_alpha\":{\"value\":1.0},\"hatch_color\":{\"value\":\"#fc4f30\"},\"hatch_scale\":{\"value\":12.0},\"hatch_weight\":{\"value\":1.0},\"line_alpha\":{\"value\":1.0},\"line_cap\":{\"value\":\"butt\"},\"line_color\":{\"value\":\"#fc4f30\"},\"line_dash\":{\"value\":[]},\"line_dash_offset\":{\"value\":0},\"line_join\":{\"value\":\"bevel\"},\"line_width\":{\"value\":1},\"marker\":{\"value\":\"square\"},\"size\":{\"value\":5.477225575051661},\"x\":{\"field\":\"PC1\"},\"y\":{\"field\":\"PC2\"}},\"id\":\"3687\",\"type\":\"Scatter\"},{\"attributes\":{\"fill_alpha\":{\"value\":0.2},\"fill_color\":{\"value\":\"#fc4f30\"},\"hatch_alpha\":{\"value\":0.2},\"hatch_color\":{\"value\":\"#fc4f30\"},\"line_alpha\":{\"value\":0.2},\"line_color\":{\"value\":\"#fc4f30\"},\"marker\":{\"value\":\"square\"},\"size\":{\"value\":5.477225575051661},\"x\":{\"field\":\"PC1\"},\"y\":{\"field\":\"PC2\"}},\"id\":\"3671\",\"type\":\"Scatter\"},{\"attributes\":{},\"id\":\"3646\",\"type\":\"Selection\"},{\"attributes\":{\"fill_color\":{\"value\":\"#30a2da\"},\"hatch_color\":{\"value\":\"#30a2da\"},\"line_color\":{\"value\":\"#30a2da\"},\"marker\":{\"value\":\"hex\"},\"size\":{\"value\":5.477225575051661},\"x\":{\"field\":\"PC1\"},\"y\":{\"field\":\"PC2\"}},\"id\":\"3648\",\"type\":\"Scatter\"},{\"attributes\":{\"data\":{\"PC1\":{\"__ndarray__\":\"RxQ7s2krE0A=\",\"dtype\":\"float64\",\"order\":\"little\",\"shape\":[1]},\"PC2\":{\"__ndarray__\":\"JVrQWxoSG0A=\",\"dtype\":\"float64\",\"order\":\"little\",\"shape\":[1]},\"coin_id\":[\"celsius-degree-token\"],\"crypto_cluster\":[3]},\"selected\":{\"id\":\"3713\"},\"selection_policy\":{\"id\":\"3733\"}},\"id\":\"3712\",\"type\":\"ColumnDataSource\"},{\"attributes\":{},\"id\":\"3644\",\"type\":\"AllLabels\"},{\"attributes\":{\"data\":{\"PC1\":{\"__ndarray__\":\"TlWiy5MtIEA=\",\"dtype\":\"float64\",\"order\":\"little\",\"shape\":[1]},\"PC2\":{\"__ndarray__\":\"IQ3w8dQsD8A=\",\"dtype\":\"float64\",\"order\":\"little\",\"shape\":[1]},\"coin_id\":[\"ethlend\"],\"crypto_cluster\":[2]},\"selected\":{\"id\":\"3689\"},\"selection_policy\":{\"id\":\"3707\"}},\"id\":\"3688\",\"type\":\"ColumnDataSource\"},{\"attributes\":{\"source\":{\"id\":\"3666\"}},\"id\":\"3673\",\"type\":\"CDSView\"},{\"attributes\":{},\"id\":\"3623\",\"type\":\"BasicTicker\"},{\"attributes\":{},\"id\":\"3667\",\"type\":\"Selection\"},{\"attributes\":{\"end\":7.83413559633714,\"reset_end\":7.83413559633714,\"reset_start\":-4.963347456561368,\"start\":-4.963347456561368,\"tags\":[[[\"PC2\",\"PC2\",null]]]},\"id\":\"3604\",\"type\":\"Range1d\"},{\"attributes\":{},\"id\":\"3614\",\"type\":\"LinearScale\"},{\"attributes\":{\"label\":{\"value\":\"0\"},\"renderers\":[{\"id\":\"3651\"}]},\"id\":\"3664\",\"type\":\"LegendItem\"},{\"attributes\":{\"coordinates\":null,\"group\":null,\"text\":\"Cryptocurrencies Clusters Using PCA Data\",\"text_color\":\"black\",\"text_font_size\":\"12pt\"},\"id\":\"3610\",\"type\":\"Title\"},{\"attributes\":{\"axis\":{\"id\":\"3618\"},\"coordinates\":null,\"grid_line_color\":null,\"group\":null,\"ticker\":null},\"id\":\"3621\",\"type\":\"Grid\"},{\"attributes\":{\"angle\":{\"value\":0.0},\"fill_alpha\":{\"value\":1.0},\"fill_color\":{\"value\":\"#e5ae38\"},\"hatch_alpha\":{\"value\":1.0},\"hatch_color\":{\"value\":\"#e5ae38\"},\"hatch_scale\":{\"value\":12.0},\"hatch_weight\":{\"value\":1.0},\"line_alpha\":{\"value\":1.0},\"line_cap\":{\"value\":\"butt\"},\"line_color\":{\"value\":\"#e5ae38\"},\"line_dash\":{\"value\":[]},\"line_dash_offset\":{\"value\":0},\"line_join\":{\"value\":\"bevel\"},\"line_width\":{\"value\":1},\"marker\":{\"value\":\"cross\"},\"size\":{\"value\":5.477225575051661},\"x\":{\"field\":\"PC1\"},\"y\":{\"field\":\"PC2\"}},\"id\":\"3711\",\"type\":\"Scatter\"},{\"attributes\":{},\"id\":\"3707\",\"type\":\"UnionRenderers\"},{\"attributes\":{},\"id\":\"3689\",\"type\":\"Selection\"},{\"attributes\":{},\"id\":\"3616\",\"type\":\"LinearScale\"},{\"attributes\":{\"axis_label\":\"PC2\",\"coordinates\":null,\"formatter\":{\"id\":\"3643\"},\"group\":null,\"major_label_policy\":{\"id\":\"3644\"},\"ticker\":{\"id\":\"3623\"}},\"id\":\"3622\",\"type\":\"LinearAxis\"},{\"attributes\":{\"data\":{\"PC1\":{\"__ndarray__\":\"TJZ8amq3278UYXw2izLev9jya5vXSei/S/tzoPfEz7+Bh/TX3g7cv4oZGVOKMOa/gkwjp68s2b/0BLsJMGewP7SyldMFTN+/DekqwdFu4L/bFokx+yzXv5MSO2dvc9q/xxEoujMU2r94ZdmqtnzjP+hN1mNC0Ny/iti9MiN46L/kse9uVM3hv+hGFZE5agVAmSC8UEGl47+1vuS6vI7iv3QKKydStOs/cJK6/7yWvD9vXMBgQDzkv5YbmkYF++K/Dr1JmQJS3b/84a/49hDTvw==\",\"dtype\":\"float64\",\"order\":\"little\",\"shape\":[26]},\"PC2\":{\"__ndarray__\":\"lNF7TyqFxb+vj1UaIIDMv6PhzCbqwMm/yzoUYyAF9r+8ZsaEbXHGv0fJIJL6Ut6/fyu0IHiyu79tgFApNFH0vwWhJl5vcue/1JKaSllHwr+6iEuGzZTvv2r5wy5akuW/tN3jHmozy7+sF2SFdAjiP2kuIf2aVMO/NOuFsYSS4L9ZbbiA5wL/vxN2Joz3k4y/jY8PRXSt3r8M37YoLM7Wv2X+1spVGALA5CEohoZp2z9DqFKDbN0AwPUO7msnAJY/VfWtmbtfwb9ISPDBzXbIvw==\",\"dtype\":\"float64\",\"order\":\"little\",\"shape\":[26]},\"coin_id\":[\"tether\",\"ripple\",\"bitcoin-cash-sv\",\"crypto-com-chain\",\"usd-coin\",\"eos\",\"tron\",\"okb\",\"stellar\",\"cdai\",\"neo\",\"leo-token\",\"huobi-token\",\"nem\",\"binance-usd\",\"iota\",\"vechain\",\"theta-token\",\"dash\",\"ethereum-classic\",\"havven\",\"omisego\",\"ontology\",\"ftx-token\",\"true-usd\",\"digibyte\"],\"crypto_cluster\":[1,1,1,1,1,1,1,1,1,1,1,1,1,1,1,1,1,1,1,1,1,1,1,1,1,1]},\"selected\":{\"id\":\"3667\"},\"selection_policy\":{\"id\":\"3683\"}},\"id\":\"3666\",\"type\":\"ColumnDataSource\"},{\"attributes\":{\"axis_label\":\"PC1\",\"coordinates\":null,\"formatter\":{\"id\":\"3640\"},\"group\":null,\"major_label_policy\":{\"id\":\"3641\"},\"ticker\":{\"id\":\"3619\"}},\"id\":\"3618\",\"type\":\"LinearAxis\"},{\"attributes\":{\"fill_color\":{\"value\":\"#fc4f30\"},\"hatch_color\":{\"value\":\"#fc4f30\"},\"line_color\":{\"value\":\"#fc4f30\"},\"marker\":{\"value\":\"square\"},\"size\":{\"value\":5.477225575051661},\"x\":{\"field\":\"PC1\"},\"y\":{\"field\":\"PC2\"}},\"id\":\"3669\",\"type\":\"Scatter\"},{\"attributes\":{\"fill_alpha\":{\"value\":0.1},\"fill_color\":{\"value\":\"#6d904f\"},\"hatch_alpha\":{\"value\":0.1},\"hatch_color\":{\"value\":\"#6d904f\"},\"line_alpha\":{\"value\":0.1},\"line_color\":{\"value\":\"#6d904f\"},\"marker\":{\"value\":\"inverted_triangle\"},\"size\":{\"value\":5.477225575051661},\"x\":{\"field\":\"PC1\"},\"y\":{\"field\":\"PC2\"}},\"id\":\"3716\",\"type\":\"Scatter\"},{\"attributes\":{\"coordinates\":null,\"data_source\":{\"id\":\"3666\"},\"glyph\":{\"id\":\"3669\"},\"group\":null,\"hover_glyph\":null,\"muted_glyph\":{\"id\":\"3671\"},\"nonselection_glyph\":{\"id\":\"3670\"},\"selection_glyph\":{\"id\":\"3687\"},\"view\":{\"id\":\"3673\"}},\"id\":\"3672\",\"type\":\"GlyphRenderer\"},{\"attributes\":{\"source\":{\"id\":\"3712\"}},\"id\":\"3719\",\"type\":\"CDSView\"},{\"attributes\":{\"label\":{\"value\":\"2\"},\"renderers\":[{\"id\":\"3694\"}]},\"id\":\"3710\",\"type\":\"LegendItem\"},{\"attributes\":{\"axis\":{\"id\":\"3622\"},\"coordinates\":null,\"dimension\":1,\"grid_line_color\":null,\"group\":null,\"ticker\":null},\"id\":\"3625\",\"type\":\"Grid\"},{\"attributes\":{\"fill_alpha\":{\"value\":0.2},\"fill_color\":{\"value\":\"#6d904f\"},\"hatch_alpha\":{\"value\":0.2},\"hatch_color\":{\"value\":\"#6d904f\"},\"line_alpha\":{\"value\":0.2},\"line_color\":{\"value\":\"#6d904f\"},\"marker\":{\"value\":\"inverted_triangle\"},\"size\":{\"value\":5.477225575051661},\"x\":{\"field\":\"PC1\"},\"y\":{\"field\":\"PC2\"}},\"id\":\"3717\",\"type\":\"Scatter\"},{\"attributes\":{\"children\":[{\"id\":\"3609\"}],\"height\":300,\"margin\":[0,0,0,0],\"name\":\"Row03620\",\"sizing_mode\":\"fixed\",\"tags\":[\"embedded\"],\"width\":700},\"id\":\"3602\",\"type\":\"Row\"},{\"attributes\":{\"callback\":null,\"renderers\":[{\"id\":\"3651\"},{\"id\":\"3672\"},{\"id\":\"3694\"},{\"id\":\"3718\"}],\"tags\":[\"hv_created\"],\"tooltips\":[[\"crypto_cluster\",\"@{crypto_cluster}\"],[\"PC1\",\"@{PC1}\"],[\"PC2\",\"@{PC2}\"],[\"coin_id\",\"@{coin_id}\"]]},\"id\":\"3605\",\"type\":\"HoverTool\"},{\"attributes\":{},\"id\":\"3713\",\"type\":\"Selection\"},{\"attributes\":{\"fill_alpha\":{\"value\":0.1},\"fill_color\":{\"value\":\"#fc4f30\"},\"hatch_alpha\":{\"value\":0.1},\"hatch_color\":{\"value\":\"#fc4f30\"},\"line_alpha\":{\"value\":0.1},\"line_color\":{\"value\":\"#fc4f30\"},\"marker\":{\"value\":\"square\"},\"size\":{\"value\":5.477225575051661},\"x\":{\"field\":\"PC1\"},\"y\":{\"field\":\"PC2\"}},\"id\":\"3670\",\"type\":\"Scatter\"},{\"attributes\":{\"below\":[{\"id\":\"3618\"}],\"center\":[{\"id\":\"3621\"},{\"id\":\"3625\"}],\"height\":300,\"left\":[{\"id\":\"3622\"}],\"margin\":[5,5,5,5],\"min_border_bottom\":10,\"min_border_left\":10,\"min_border_right\":10,\"min_border_top\":10,\"renderers\":[{\"id\":\"3651\"},{\"id\":\"3672\"},{\"id\":\"3694\"},{\"id\":\"3718\"}],\"right\":[{\"id\":\"3663\"}],\"sizing_mode\":\"fixed\",\"title\":{\"id\":\"3610\"},\"toolbar\":{\"id\":\"3632\"},\"width\":700,\"x_range\":{\"id\":\"3603\"},\"x_scale\":{\"id\":\"3614\"},\"y_range\":{\"id\":\"3604\"},\"y_scale\":{\"id\":\"3616\"}},\"id\":\"3609\",\"subtype\":\"Figure\",\"type\":\"Plot\"},{\"attributes\":{\"angle\":{\"value\":0.0},\"fill_alpha\":{\"value\":1.0},\"fill_color\":{\"value\":\"#6d904f\"},\"hatch_alpha\":{\"value\":1.0},\"hatch_color\":{\"value\":\"#6d904f\"},\"hatch_scale\":{\"value\":12.0},\"hatch_weight\":{\"value\":1.0},\"line_alpha\":{\"value\":1.0},\"line_cap\":{\"value\":\"butt\"},\"line_color\":{\"value\":\"#6d904f\"},\"line_dash\":{\"value\":[]},\"line_dash_offset\":{\"value\":0},\"line_join\":{\"value\":\"bevel\"},\"line_width\":{\"value\":1},\"marker\":{\"value\":\"inverted_triangle\"},\"size\":{\"value\":5.477225575051661},\"x\":{\"field\":\"PC1\"},\"y\":{\"field\":\"PC2\"}},\"id\":\"3737\",\"type\":\"Scatter\"},{\"attributes\":{},\"id\":\"3733\",\"type\":\"UnionRenderers\"},{\"attributes\":{},\"id\":\"3626\",\"type\":\"SaveTool\"},{\"attributes\":{\"label\":{\"value\":\"3\"},\"renderers\":[{\"id\":\"3718\"}]},\"id\":\"3736\",\"type\":\"LegendItem\"},{\"attributes\":{},\"id\":\"3627\",\"type\":\"PanTool\"},{\"attributes\":{},\"id\":\"3628\",\"type\":\"WheelZoomTool\"},{\"attributes\":{\"overlay\":{\"id\":\"3631\"}},\"id\":\"3629\",\"type\":\"BoxZoomTool\"},{\"attributes\":{\"label\":{\"value\":\"1\"},\"renderers\":[{\"id\":\"3672\"}]},\"id\":\"3686\",\"type\":\"LegendItem\"},{\"attributes\":{\"coordinates\":null,\"data_source\":{\"id\":\"3688\"},\"glyph\":{\"id\":\"3691\"},\"group\":null,\"hover_glyph\":null,\"muted_glyph\":{\"id\":\"3693\"},\"nonselection_glyph\":{\"id\":\"3692\"},\"selection_glyph\":{\"id\":\"3711\"},\"view\":{\"id\":\"3695\"}},\"id\":\"3694\",\"type\":\"GlyphRenderer\"},{\"attributes\":{\"fill_color\":{\"value\":\"#e5ae38\"},\"hatch_color\":{\"value\":\"#e5ae38\"},\"line_color\":{\"value\":\"#e5ae38\"},\"marker\":{\"value\":\"cross\"},\"size\":{\"value\":5.477225575051661},\"x\":{\"field\":\"PC1\"},\"y\":{\"field\":\"PC2\"}},\"id\":\"3691\",\"type\":\"Scatter\"}],\"root_ids\":[\"3602\"]},\"title\":\"Bokeh Application\",\"version\":\"2.4.3\"}};\n",
       "    var render_items = [{\"docid\":\"fd075366-b5e8-42d0-99df-e8bac7c626a6\",\"root_ids\":[\"3602\"],\"roots\":{\"3602\":\"858c0742-717d-45b4-af91-90b84566cf58\"}}];\n",
       "    root.Bokeh.embed.embed_items_notebook(docs_json, render_items);\n",
       "    for (const render_item of render_items) {\n",
       "      for (const root_id of render_item.root_ids) {\n",
       "\tconst id_el = document.getElementById(root_id)\n",
       "\tif (id_el.children.length && (id_el.children[0].className === 'bk-root')) {\n",
       "\t  const root_el = id_el.children[0]\n",
       "\t  root_el.id = root_el.id + '-rendered'\n",
       "\t}\n",
       "      }\n",
       "    }\n",
       "  }\n",
       "  if (root.Bokeh !== undefined && root.Bokeh.Panel !== undefined) {\n",
       "    embed_document(root);\n",
       "  } else {\n",
       "    var attempts = 0;\n",
       "    var timer = setInterval(function(root) {\n",
       "      if (root.Bokeh !== undefined && root.Bokeh.Panel !== undefined) {\n",
       "        clearInterval(timer);\n",
       "        embed_document(root);\n",
       "      } else if (document.readyState == \"complete\") {\n",
       "        attempts++;\n",
       "        if (attempts > 200) {\n",
       "          clearInterval(timer);\n",
       "          console.log(\"Bokeh: ERROR: Unable to run BokehJS code because BokehJS library is missing\");\n",
       "        }\n",
       "      }\n",
       "    }, 25, root)\n",
       "  }\n",
       "})(window);</script>"
      ],
      "text/plain": [
       ":NdOverlay   [crypto_cluster]\n",
       "   :Scatter   [PC1]   (PC2,coin_id)"
      ]
     },
     "execution_count": 127,
     "metadata": {
      "application/vnd.holoviews_exec.v0+json": {
       "id": "3602"
      }
     },
     "output_type": "execute_result"
    }
   ],
   "source": [
    "# Create a scatter plot using hvPlot by setting \n",
    "# `x=\"PC1\"` and `y=\"PC2\"`. \n",
    "# Color the graph points with the labels found using K-Means and \n",
    "# add the crypto name in the `hover_cols` parameter to identify \n",
    "# the cryptocurrency represented by each data point.\n",
    "# YOUR CODE HERE!\n",
    "clusters_plot_pca = df_market_data_pca_predictions.hvplot.scatter(\n",
    "    x=\"PC1\",\n",
    "    y=\"PC2\",\n",
    "    by=\"crypto_cluster\",\n",
    "    hover_cols=[\"coin_id\"],\n",
    "    marker=[\"hex\", \"square\", \"cross\", \"inverted_triangle\"],\n",
    "    title = \"Cryptocurrencies Clusters Using PCA Data\",\n",
    ")\n",
    "clusters_plot_pca"
   ]
  },
  {
   "cell_type": "markdown",
   "metadata": {},
   "source": [
    "---"
   ]
  },
  {
   "cell_type": "markdown",
   "metadata": {},
   "source": [
    "### Visualize and Compare the Results\n",
    "\n",
    "In this section, you will visually analyze the cluster analysis results by contrasting the outcome with and without using the optimization techniques.\n",
    "\n",
    "1. Create a composite plot using hvPlot and the plus (`+`) operator to contrast the Elbow Curve that you created to find the best value for `k` with the original and the PCA data.\n",
    "\n",
    "2. Create a composite plot using hvPlot and the plus (`+`) operator to contrast the cryptocurrencies clusters using the original and the PCA data.\n",
    "\n",
    "3. Answer the following question: After visually analyzing the cluster analysis results, what is the impact of using fewer features to cluster the data using K-Means?\n",
    "\n",
    "> **Rewind:** Back in Lesson 3 of Module 6, you learned how to create composite plots. You can look at that lesson to review how to make these plots; also, you can check [the hvPlot documentation](https://holoviz.org/tutorial/Composing_Plots.html)."
   ]
  },
  {
   "cell_type": "code",
   "execution_count": 128,
   "metadata": {},
   "outputs": [
    {
     "data": {},
     "metadata": {},
     "output_type": "display_data"
    },
    {
     "data": {
      "application/vnd.holoviews_exec.v0+json": "",
      "text/html": [
       "<div id='3839'>\n",
       "  <div class=\"bk-root\" id=\"dac455de-454b-4a4a-9dd8-5ca6695fb239\" data-root-id=\"3839\"></div>\n",
       "</div>\n",
       "<script type=\"application/javascript\">(function(root) {\n",
       "  function embed_document(root) {\n",
       "    var docs_json = {\"10305345-7649-4776-a4e5-9392f6a85a8c\":{\"defs\":[{\"extends\":null,\"module\":null,\"name\":\"ReactiveHTML1\",\"overrides\":[],\"properties\":[]},{\"extends\":null,\"module\":null,\"name\":\"FlexBox1\",\"overrides\":[],\"properties\":[{\"default\":\"flex-start\",\"kind\":null,\"name\":\"align_content\"},{\"default\":\"flex-start\",\"kind\":null,\"name\":\"align_items\"},{\"default\":\"row\",\"kind\":null,\"name\":\"flex_direction\"},{\"default\":\"wrap\",\"kind\":null,\"name\":\"flex_wrap\"},{\"default\":\"flex-start\",\"kind\":null,\"name\":\"justify_content\"}]},{\"extends\":null,\"module\":null,\"name\":\"GridStack1\",\"overrides\":[],\"properties\":[{\"default\":\"warn\",\"kind\":null,\"name\":\"mode\"},{\"default\":null,\"kind\":null,\"name\":\"ncols\"},{\"default\":null,\"kind\":null,\"name\":\"nrows\"},{\"default\":true,\"kind\":null,\"name\":\"allow_resize\"},{\"default\":true,\"kind\":null,\"name\":\"allow_drag\"},{\"default\":[],\"kind\":null,\"name\":\"state\"}]},{\"extends\":null,\"module\":null,\"name\":\"click1\",\"overrides\":[],\"properties\":[{\"default\":\"\",\"kind\":null,\"name\":\"terminal_output\"},{\"default\":\"\",\"kind\":null,\"name\":\"debug_name\"},{\"default\":0,\"kind\":null,\"name\":\"clears\"}]},{\"extends\":null,\"module\":null,\"name\":\"NotificationAreaBase1\",\"overrides\":[],\"properties\":[{\"default\":\"bottom-right\",\"kind\":null,\"name\":\"position\"},{\"default\":0,\"kind\":null,\"name\":\"_clear\"}]},{\"extends\":null,\"module\":null,\"name\":\"NotificationArea1\",\"overrides\":[],\"properties\":[{\"default\":[],\"kind\":null,\"name\":\"notifications\"},{\"default\":\"bottom-right\",\"kind\":null,\"name\":\"position\"},{\"default\":0,\"kind\":null,\"name\":\"_clear\"},{\"default\":[{\"background\":\"#ffc107\",\"icon\":{\"className\":\"fas fa-exclamation-triangle\",\"color\":\"white\",\"tagName\":\"i\"},\"type\":\"warning\"},{\"background\":\"#007bff\",\"icon\":{\"className\":\"fas fa-info-circle\",\"color\":\"white\",\"tagName\":\"i\"},\"type\":\"info\"}],\"kind\":null,\"name\":\"types\"}]},{\"extends\":null,\"module\":null,\"name\":\"Notification\",\"overrides\":[],\"properties\":[{\"default\":null,\"kind\":null,\"name\":\"background\"},{\"default\":3000,\"kind\":null,\"name\":\"duration\"},{\"default\":null,\"kind\":null,\"name\":\"icon\"},{\"default\":\"\",\"kind\":null,\"name\":\"message\"},{\"default\":null,\"kind\":null,\"name\":\"notification_type\"},{\"default\":false,\"kind\":null,\"name\":\"_destroyed\"}]},{\"extends\":null,\"module\":null,\"name\":\"TemplateActions1\",\"overrides\":[],\"properties\":[{\"default\":0,\"kind\":null,\"name\":\"open_modal\"},{\"default\":0,\"kind\":null,\"name\":\"close_modal\"}]},{\"extends\":null,\"module\":null,\"name\":\"MaterialTemplateActions1\",\"overrides\":[],\"properties\":[{\"default\":0,\"kind\":null,\"name\":\"open_modal\"},{\"default\":0,\"kind\":null,\"name\":\"close_modal\"}]}],\"roots\":{\"references\":[{\"attributes\":{\"ticks\":[1,2,3,4,5,6,7,8,9,10]},\"id\":\"3882\",\"type\":\"FixedTicker\"},{\"attributes\":{},\"id\":\"3938\",\"type\":\"AllLabels\"},{\"attributes\":{\"active_drag\":{\"id\":\"3914\"},\"active_scroll\":{\"id\":\"3915\"},\"tools\":[{\"id\":\"3895\"},{\"id\":\"3913\"},{\"id\":\"3914\"},{\"id\":\"3915\"},{\"id\":\"3916\"},{\"id\":\"3917\"}]},\"id\":\"3919\",\"type\":\"Toolbar\"},{\"attributes\":{\"bottom_units\":\"screen\",\"coordinates\":null,\"fill_alpha\":0.5,\"fill_color\":\"lightgrey\",\"group\":null,\"left_units\":\"screen\",\"level\":\"overlay\",\"line_alpha\":1.0,\"line_color\":\"black\",\"line_dash\":[4,4],\"line_width\":2,\"right_units\":\"screen\",\"syncable\":false,\"top_units\":\"screen\"},\"id\":\"3918\",\"type\":\"BoxAnnotation\"},{\"attributes\":{},\"id\":\"3954\",\"type\":\"UnionRenderers\"},{\"attributes\":{},\"id\":\"3913\",\"type\":\"SaveTool\"},{\"attributes\":{},\"id\":\"3914\",\"type\":\"PanTool\"},{\"attributes\":{},\"id\":\"3917\",\"type\":\"ResetTool\"},{\"attributes\":{\"end\":314.64406424372066,\"reset_end\":314.64406424372066,\"reset_start\":-17.084706680927223,\"start\":-17.084706680927223,\"tags\":[[[\"inertia\",\"inertia\",null]]]},\"id\":\"3841\",\"type\":\"Range1d\"},{\"attributes\":{},\"id\":\"3915\",\"type\":\"WheelZoomTool\"},{\"attributes\":{\"below\":[{\"id\":\"3852\"}],\"center\":[{\"id\":\"3855\"},{\"id\":\"3859\"}],\"height\":300,\"left\":[{\"id\":\"3856\"}],\"margin\":null,\"min_border_bottom\":10,\"min_border_left\":10,\"min_border_right\":10,\"min_border_top\":10,\"renderers\":[{\"id\":\"3879\"}],\"sizing_mode\":\"fixed\",\"title\":{\"id\":\"3844\"},\"toolbar\":{\"id\":\"3866\"},\"toolbar_location\":null,\"width\":700,\"x_range\":{\"id\":\"3840\"},\"x_scale\":{\"id\":\"3848\"},\"y_range\":{\"id\":\"3841\"},\"y_scale\":{\"id\":\"3850\"}},\"id\":\"3843\",\"subtype\":\"Figure\",\"type\":\"Plot\"},{\"attributes\":{\"overlay\":{\"id\":\"3918\"}},\"id\":\"3916\",\"type\":\"BoxZoomTool\"},{\"attributes\":{},\"id\":\"3943\",\"type\":\"AllLabels\"},{\"attributes\":{\"ticks\":[1,2,3,4,5,6,7,8,9,10]},\"id\":\"3935\",\"type\":\"FixedTicker\"},{\"attributes\":{\"line_alpha\":0.1,\"line_color\":\"#30a2da\",\"line_width\":2,\"x\":{\"field\":\"k\"},\"y\":{\"field\":\"inertia\"}},\"id\":\"3877\",\"type\":\"Line\"},{\"attributes\":{},\"id\":\"3890\",\"type\":\"AllLabels\"},{\"attributes\":{},\"id\":\"3964\",\"type\":\"UnionRenderers\"},{\"attributes\":{\"end\":10.0,\"reset_end\":10.0,\"reset_start\":1.0,\"start\":1.0,\"tags\":[[[\"k\",\"k\",null]]]},\"id\":\"3840\",\"type\":\"Range1d\"},{\"attributes\":{\"line_color\":\"#30a2da\",\"line_width\":2,\"x\":{\"field\":\"k\"},\"y\":{\"field\":\"inertia\"}},\"id\":\"3881\",\"type\":\"Line\"},{\"attributes\":{},\"id\":\"3927\",\"type\":\"Selection\"},{\"attributes\":{},\"id\":\"3848\",\"type\":\"LinearScale\"},{\"attributes\":{},\"id\":\"3857\",\"type\":\"BasicTicker\"},{\"attributes\":{\"children\":[{\"id\":\"3971\"}],\"margin\":[0,0,0,0],\"name\":\"Row03718\",\"tags\":[\"embedded\"]},\"id\":\"3839\",\"type\":\"Row\"},{\"attributes\":{\"coordinates\":null,\"group\":null,\"text\":\"Elbow Curve\",\"text_color\":\"black\",\"text_font_size\":\"12pt\"},\"id\":\"3844\",\"type\":\"Title\"},{\"attributes\":{\"data\":{\"inertia\":{\"__ndarray__\":\"AAAAAADwcUByhzI6P3poQOGRvNowzF5AF+6ulG/BU0BnEQsuWlNQQOXqC/e6cUpAiCebkxT1RUBu++EeLsJCQMB0IF8cPkBAineL7Q85PEA=\",\"dtype\":\"float64\",\"order\":\"little\",\"shape\":[10]},\"k\":[1,2,3,4,5,6,7,8,9,10]},\"selected\":{\"id\":\"3874\"},\"selection_policy\":{\"id\":\"3954\"}},\"id\":\"3873\",\"type\":\"ColumnDataSource\"},{\"attributes\":{\"axis\":{\"id\":\"3852\"},\"coordinates\":null,\"grid_line_color\":null,\"group\":null,\"ticker\":null},\"id\":\"3855\",\"type\":\"Grid\"},{\"attributes\":{},\"id\":\"3850\",\"type\":\"LinearScale\"},{\"attributes\":{\"line_color\":\"#30a2da\",\"line_width\":2,\"x\":{\"field\":\"k\"},\"y\":{\"field\":\"inertia\"}},\"id\":\"3934\",\"type\":\"Line\"},{\"attributes\":{\"axis_label\":\"inertia\",\"coordinates\":null,\"formatter\":{\"id\":\"3889\"},\"group\":null,\"major_label_policy\":{\"id\":\"3890\"},\"ticker\":{\"id\":\"3857\"}},\"id\":\"3856\",\"type\":\"LinearAxis\"},{\"attributes\":{\"axis_label\":\"k\",\"coordinates\":null,\"formatter\":{\"id\":\"3884\"},\"group\":null,\"major_label_policy\":{\"id\":\"3885\"},\"ticker\":{\"id\":\"3882\"}},\"id\":\"3852\",\"type\":\"LinearAxis\"},{\"attributes\":{\"below\":[{\"id\":\"3905\"}],\"center\":[{\"id\":\"3908\"},{\"id\":\"3912\"}],\"height\":300,\"left\":[{\"id\":\"3909\"}],\"margin\":null,\"min_border_bottom\":10,\"min_border_left\":10,\"min_border_right\":10,\"min_border_top\":10,\"renderers\":[{\"id\":\"3932\"}],\"sizing_mode\":\"fixed\",\"title\":{\"id\":\"3897\"},\"toolbar\":{\"id\":\"3919\"},\"toolbar_location\":null,\"width\":700,\"x_range\":{\"id\":\"3840\"},\"x_scale\":{\"id\":\"3901\"},\"y_range\":{\"id\":\"3841\"},\"y_scale\":{\"id\":\"3903\"}},\"id\":\"3896\",\"subtype\":\"Figure\",\"type\":\"Plot\"},{\"attributes\":{},\"id\":\"3889\",\"type\":\"BasicTickFormatter\"},{\"attributes\":{\"line_alpha\":0.2,\"line_color\":\"#30a2da\",\"line_width\":2,\"x\":{\"field\":\"k\"},\"y\":{\"field\":\"inertia\"}},\"id\":\"3878\",\"type\":\"Line\"},{\"attributes\":{},\"id\":\"3884\",\"type\":\"BasicTickFormatter\"},{\"attributes\":{\"axis\":{\"id\":\"3856\"},\"coordinates\":null,\"dimension\":1,\"grid_line_color\":null,\"group\":null,\"ticker\":null},\"id\":\"3859\",\"type\":\"Grid\"},{\"attributes\":{\"source\":{\"id\":\"3926\"}},\"id\":\"3933\",\"type\":\"CDSView\"},{\"attributes\":{\"source\":{\"id\":\"3873\"}},\"id\":\"3880\",\"type\":\"CDSView\"},{\"attributes\":{},\"id\":\"3937\",\"type\":\"BasicTickFormatter\"},{\"attributes\":{\"callback\":null,\"renderers\":[{\"id\":\"3879\"}],\"tags\":[\"hv_created\"],\"tooltips\":[[\"k\",\"@{k}\"],[\"inertia\",\"@{inertia}\"]]},\"id\":\"3842\",\"type\":\"HoverTool\"},{\"attributes\":{\"line_color\":\"#30a2da\",\"line_width\":2,\"x\":{\"field\":\"k\"},\"y\":{\"field\":\"inertia\"}},\"id\":\"3929\",\"type\":\"Line\"},{\"attributes\":{\"coordinates\":null,\"data_source\":{\"id\":\"3873\"},\"glyph\":{\"id\":\"3876\"},\"group\":null,\"hover_glyph\":null,\"muted_glyph\":{\"id\":\"3878\"},\"nonselection_glyph\":{\"id\":\"3877\"},\"selection_glyph\":{\"id\":\"3881\"},\"view\":{\"id\":\"3880\"}},\"id\":\"3879\",\"type\":\"GlyphRenderer\"},{\"attributes\":{\"axis_label\":\"k\",\"coordinates\":null,\"formatter\":{\"id\":\"3937\"},\"group\":null,\"major_label_policy\":{\"id\":\"3938\"},\"ticker\":{\"id\":\"3935\"}},\"id\":\"3905\",\"type\":\"LinearAxis\"},{\"attributes\":{\"line_color\":\"#30a2da\",\"line_width\":2,\"x\":{\"field\":\"k\"},\"y\":{\"field\":\"inertia\"}},\"id\":\"3876\",\"type\":\"Line\"},{\"attributes\":{\"toolbars\":[{\"id\":\"3866\"},{\"id\":\"3919\"}],\"tools\":[{\"id\":\"3842\"},{\"id\":\"3860\"},{\"id\":\"3861\"},{\"id\":\"3862\"},{\"id\":\"3863\"},{\"id\":\"3864\"},{\"id\":\"3895\"},{\"id\":\"3913\"},{\"id\":\"3914\"},{\"id\":\"3915\"},{\"id\":\"3916\"},{\"id\":\"3917\"}]},\"id\":\"3969\",\"type\":\"ProxyToolbar\"},{\"attributes\":{\"active_drag\":{\"id\":\"3861\"},\"active_scroll\":{\"id\":\"3862\"},\"tools\":[{\"id\":\"3842\"},{\"id\":\"3860\"},{\"id\":\"3861\"},{\"id\":\"3862\"},{\"id\":\"3863\"},{\"id\":\"3864\"}]},\"id\":\"3866\",\"type\":\"Toolbar\"},{\"attributes\":{\"callback\":null,\"renderers\":[{\"id\":\"3932\"}],\"tags\":[\"hv_created\"],\"tooltips\":[[\"k\",\"@{k}\"],[\"inertia\",\"@{inertia}\"]]},\"id\":\"3895\",\"type\":\"HoverTool\"},{\"attributes\":{},\"id\":\"3901\",\"type\":\"LinearScale\"},{\"attributes\":{},\"id\":\"3860\",\"type\":\"SaveTool\"},{\"attributes\":{\"axis_label\":\"inertia\",\"coordinates\":null,\"formatter\":{\"id\":\"3942\"},\"group\":null,\"major_label_policy\":{\"id\":\"3943\"},\"ticker\":{\"id\":\"3910\"}},\"id\":\"3909\",\"type\":\"LinearAxis\"},{\"attributes\":{},\"id\":\"3861\",\"type\":\"PanTool\"},{\"attributes\":{\"coordinates\":null,\"group\":null,\"text\":\"Elbow Curve Using PCA Data\",\"text_color\":\"black\",\"text_font_size\":\"12pt\"},\"id\":\"3897\",\"type\":\"Title\"},{\"attributes\":{\"children\":[{\"id\":\"3970\"},{\"id\":\"3968\"}]},\"id\":\"3971\",\"type\":\"Column\"},{\"attributes\":{},\"id\":\"3864\",\"type\":\"ResetTool\"},{\"attributes\":{\"axis\":{\"id\":\"3905\"},\"coordinates\":null,\"grid_line_color\":null,\"group\":null,\"ticker\":null},\"id\":\"3908\",\"type\":\"Grid\"},{\"attributes\":{\"toolbar\":{\"id\":\"3969\"},\"toolbar_location\":\"above\"},\"id\":\"3970\",\"type\":\"ToolbarBox\"},{\"attributes\":{},\"id\":\"3862\",\"type\":\"WheelZoomTool\"},{\"attributes\":{\"overlay\":{\"id\":\"3865\"}},\"id\":\"3863\",\"type\":\"BoxZoomTool\"},{\"attributes\":{},\"id\":\"3903\",\"type\":\"LinearScale\"},{\"attributes\":{\"children\":[[{\"id\":\"3843\"},0,0],[{\"id\":\"3896\"},0,1]]},\"id\":\"3968\",\"type\":\"GridBox\"},{\"attributes\":{},\"id\":\"3910\",\"type\":\"BasicTicker\"},{\"attributes\":{},\"id\":\"3885\",\"type\":\"AllLabels\"},{\"attributes\":{\"data\":{\"inertia\":{\"__ndarray__\":\"EgAmQfwNcEBOVJAi3bxkQP0sl3eTcVdAnoiJ/i7VSEDZFmXIevBCQIRsYu90njtAZOYhZsouNUBStBt0y2MxQDyoTfHyLytAqO9NHWQeJUA=\",\"dtype\":\"float64\",\"order\":\"little\",\"shape\":[10]},\"k\":[1,2,3,4,5,6,7,8,9,10]},\"selected\":{\"id\":\"3927\"},\"selection_policy\":{\"id\":\"3964\"}},\"id\":\"3926\",\"type\":\"ColumnDataSource\"},{\"attributes\":{\"line_alpha\":0.2,\"line_color\":\"#30a2da\",\"line_width\":2,\"x\":{\"field\":\"k\"},\"y\":{\"field\":\"inertia\"}},\"id\":\"3931\",\"type\":\"Line\"},{\"attributes\":{\"axis\":{\"id\":\"3909\"},\"coordinates\":null,\"dimension\":1,\"grid_line_color\":null,\"group\":null,\"ticker\":null},\"id\":\"3912\",\"type\":\"Grid\"},{\"attributes\":{\"line_alpha\":0.1,\"line_color\":\"#30a2da\",\"line_width\":2,\"x\":{\"field\":\"k\"},\"y\":{\"field\":\"inertia\"}},\"id\":\"3930\",\"type\":\"Line\"},{\"attributes\":{},\"id\":\"3942\",\"type\":\"BasicTickFormatter\"},{\"attributes\":{},\"id\":\"3874\",\"type\":\"Selection\"},{\"attributes\":{\"bottom_units\":\"screen\",\"coordinates\":null,\"fill_alpha\":0.5,\"fill_color\":\"lightgrey\",\"group\":null,\"left_units\":\"screen\",\"level\":\"overlay\",\"line_alpha\":1.0,\"line_color\":\"black\",\"line_dash\":[4,4],\"line_width\":2,\"right_units\":\"screen\",\"syncable\":false,\"top_units\":\"screen\"},\"id\":\"3865\",\"type\":\"BoxAnnotation\"},{\"attributes\":{\"coordinates\":null,\"data_source\":{\"id\":\"3926\"},\"glyph\":{\"id\":\"3929\"},\"group\":null,\"hover_glyph\":null,\"muted_glyph\":{\"id\":\"3931\"},\"nonselection_glyph\":{\"id\":\"3930\"},\"selection_glyph\":{\"id\":\"3934\"},\"view\":{\"id\":\"3933\"}},\"id\":\"3932\",\"type\":\"GlyphRenderer\"}],\"root_ids\":[\"3839\"]},\"title\":\"Bokeh Application\",\"version\":\"2.4.3\"}};\n",
       "    var render_items = [{\"docid\":\"10305345-7649-4776-a4e5-9392f6a85a8c\",\"root_ids\":[\"3839\"],\"roots\":{\"3839\":\"dac455de-454b-4a4a-9dd8-5ca6695fb239\"}}];\n",
       "    root.Bokeh.embed.embed_items_notebook(docs_json, render_items);\n",
       "    for (const render_item of render_items) {\n",
       "      for (const root_id of render_item.root_ids) {\n",
       "\tconst id_el = document.getElementById(root_id)\n",
       "\tif (id_el.children.length && (id_el.children[0].className === 'bk-root')) {\n",
       "\t  const root_el = id_el.children[0]\n",
       "\t  root_el.id = root_el.id + '-rendered'\n",
       "\t}\n",
       "      }\n",
       "    }\n",
       "  }\n",
       "  if (root.Bokeh !== undefined && root.Bokeh.Panel !== undefined) {\n",
       "    embed_document(root);\n",
       "  } else {\n",
       "    var attempts = 0;\n",
       "    var timer = setInterval(function(root) {\n",
       "      if (root.Bokeh !== undefined && root.Bokeh.Panel !== undefined) {\n",
       "        clearInterval(timer);\n",
       "        embed_document(root);\n",
       "      } else if (document.readyState == \"complete\") {\n",
       "        attempts++;\n",
       "        if (attempts > 200) {\n",
       "          clearInterval(timer);\n",
       "          console.log(\"Bokeh: ERROR: Unable to run BokehJS code because BokehJS library is missing\");\n",
       "        }\n",
       "      }\n",
       "    }, 25, root)\n",
       "  }\n",
       "})(window);</script>"
      ],
      "text/plain": [
       ":Layout\n",
       "   .Curve.I  :Curve   [k]   (inertia)\n",
       "   .Curve.II :Curve   [k]   (inertia)"
      ]
     },
     "execution_count": 128,
     "metadata": {
      "application/vnd.holoviews_exec.v0+json": {
       "id": "3839"
      }
     },
     "output_type": "execute_result"
    }
   ],
   "source": [
    "# Composite plot to contrast the Elbow curves\n",
    "# YOUR CODE HERE!\n",
    "elbow_plot + elbow_plot_pca"
   ]
  },
  {
   "cell_type": "code",
   "execution_count": 129,
   "metadata": {},
   "outputs": [
    {
     "data": {},
     "metadata": {},
     "output_type": "display_data"
    },
    {
     "data": {
      "application/vnd.holoviews_exec.v0+json": "",
      "text/html": [
       "<div id='4081'>\n",
       "  <div class=\"bk-root\" id=\"f54106c9-0a73-4b4e-a178-21976454b4b1\" data-root-id=\"4081\"></div>\n",
       "</div>\n",
       "<script type=\"application/javascript\">(function(root) {\n",
       "  function embed_document(root) {\n",
       "    var docs_json = {\"89441ae8-8722-4430-976b-afdd54f977ac\":{\"defs\":[{\"extends\":null,\"module\":null,\"name\":\"ReactiveHTML1\",\"overrides\":[],\"properties\":[]},{\"extends\":null,\"module\":null,\"name\":\"FlexBox1\",\"overrides\":[],\"properties\":[{\"default\":\"flex-start\",\"kind\":null,\"name\":\"align_content\"},{\"default\":\"flex-start\",\"kind\":null,\"name\":\"align_items\"},{\"default\":\"row\",\"kind\":null,\"name\":\"flex_direction\"},{\"default\":\"wrap\",\"kind\":null,\"name\":\"flex_wrap\"},{\"default\":\"flex-start\",\"kind\":null,\"name\":\"justify_content\"}]},{\"extends\":null,\"module\":null,\"name\":\"GridStack1\",\"overrides\":[],\"properties\":[{\"default\":\"warn\",\"kind\":null,\"name\":\"mode\"},{\"default\":null,\"kind\":null,\"name\":\"ncols\"},{\"default\":null,\"kind\":null,\"name\":\"nrows\"},{\"default\":true,\"kind\":null,\"name\":\"allow_resize\"},{\"default\":true,\"kind\":null,\"name\":\"allow_drag\"},{\"default\":[],\"kind\":null,\"name\":\"state\"}]},{\"extends\":null,\"module\":null,\"name\":\"click1\",\"overrides\":[],\"properties\":[{\"default\":\"\",\"kind\":null,\"name\":\"terminal_output\"},{\"default\":\"\",\"kind\":null,\"name\":\"debug_name\"},{\"default\":0,\"kind\":null,\"name\":\"clears\"}]},{\"extends\":null,\"module\":null,\"name\":\"NotificationAreaBase1\",\"overrides\":[],\"properties\":[{\"default\":\"bottom-right\",\"kind\":null,\"name\":\"position\"},{\"default\":0,\"kind\":null,\"name\":\"_clear\"}]},{\"extends\":null,\"module\":null,\"name\":\"NotificationArea1\",\"overrides\":[],\"properties\":[{\"default\":[],\"kind\":null,\"name\":\"notifications\"},{\"default\":\"bottom-right\",\"kind\":null,\"name\":\"position\"},{\"default\":0,\"kind\":null,\"name\":\"_clear\"},{\"default\":[{\"background\":\"#ffc107\",\"icon\":{\"className\":\"fas fa-exclamation-triangle\",\"color\":\"white\",\"tagName\":\"i\"},\"type\":\"warning\"},{\"background\":\"#007bff\",\"icon\":{\"className\":\"fas fa-info-circle\",\"color\":\"white\",\"tagName\":\"i\"},\"type\":\"info\"}],\"kind\":null,\"name\":\"types\"}]},{\"extends\":null,\"module\":null,\"name\":\"Notification\",\"overrides\":[],\"properties\":[{\"default\":null,\"kind\":null,\"name\":\"background\"},{\"default\":3000,\"kind\":null,\"name\":\"duration\"},{\"default\":null,\"kind\":null,\"name\":\"icon\"},{\"default\":\"\",\"kind\":null,\"name\":\"message\"},{\"default\":null,\"kind\":null,\"name\":\"notification_type\"},{\"default\":false,\"kind\":null,\"name\":\"_destroyed\"}]},{\"extends\":null,\"module\":null,\"name\":\"TemplateActions1\",\"overrides\":[],\"properties\":[{\"default\":0,\"kind\":null,\"name\":\"open_modal\"},{\"default\":0,\"kind\":null,\"name\":\"close_modal\"}]},{\"extends\":null,\"module\":null,\"name\":\"MaterialTemplateActions1\",\"overrides\":[],\"properties\":[{\"default\":0,\"kind\":null,\"name\":\"open_modal\"},{\"default\":0,\"kind\":null,\"name\":\"close_modal\"}]}],\"roots\":{\"references\":[{\"attributes\":{},\"id\":\"4212\",\"type\":\"UnionRenderers\"},{\"attributes\":{\"fill_color\":{\"value\":\"#30a2da\"},\"hatch_color\":{\"value\":\"#30a2da\"},\"line_color\":{\"value\":\"#30a2da\"},\"marker\":{\"value\":\"hex\"},\"size\":{\"value\":5.477225575051661},\"x\":{\"field\":\"PC1\"},\"y\":{\"field\":\"PC2\"}},\"id\":\"4266\",\"type\":\"Scatter\"},{\"attributes\":{\"end\":7.83413559633714,\"reset_end\":7.83413559633714,\"reset_start\":-4.963347456561368,\"start\":-4.963347456561368,\"tags\":[[[\"PC2\",\"PC2\",null]]]},\"id\":\"4222\",\"type\":\"Range1d\"},{\"attributes\":{},\"id\":\"4146\",\"type\":\"Selection\"},{\"attributes\":{\"below\":[{\"id\":\"4236\"}],\"center\":[{\"id\":\"4239\"},{\"id\":\"4243\"}],\"height\":300,\"left\":[{\"id\":\"4240\"}],\"margin\":null,\"min_border_bottom\":10,\"min_border_left\":10,\"min_border_right\":10,\"min_border_top\":10,\"renderers\":[{\"id\":\"4269\"},{\"id\":\"4290\"},{\"id\":\"4312\"},{\"id\":\"4336\"}],\"right\":[{\"id\":\"4281\"}],\"sizing_mode\":\"fixed\",\"title\":{\"id\":\"4228\"},\"toolbar\":{\"id\":\"4250\"},\"toolbar_location\":null,\"width\":700,\"x_range\":{\"id\":\"4221\"},\"x_scale\":{\"id\":\"4232\"},\"y_range\":{\"id\":\"4222\"},\"y_scale\":{\"id\":\"4234\"}},\"id\":\"4227\",\"subtype\":\"Figure\",\"type\":\"Plot\"},{\"attributes\":{\"fill_color\":{\"value\":\"#30a2da\"},\"hatch_color\":{\"value\":\"#30a2da\"},\"line_color\":{\"value\":\"#30a2da\"},\"marker\":{\"value\":\"hex\"},\"size\":{\"value\":5.477225575051661},\"x\":{\"field\":\"price_change_percentage_24h\"},\"y\":{\"field\":\"price_change_percentage_7d\"}},\"id\":\"4127\",\"type\":\"Scatter\"},{\"attributes\":{\"fill_color\":{\"value\":\"#e5ae38\"},\"hatch_color\":{\"value\":\"#e5ae38\"},\"line_color\":{\"value\":\"#e5ae38\"},\"marker\":{\"value\":\"cross\"},\"size\":{\"value\":5.477225575051661},\"x\":{\"field\":\"price_change_percentage_24h\"},\"y\":{\"field\":\"price_change_percentage_7d\"}},\"id\":\"4170\",\"type\":\"Scatter\"},{\"attributes\":{\"fill_alpha\":{\"value\":0.1},\"fill_color\":{\"value\":\"#e5ae38\"},\"hatch_alpha\":{\"value\":0.1},\"hatch_color\":{\"value\":\"#e5ae38\"},\"line_alpha\":{\"value\":0.1},\"line_color\":{\"value\":\"#e5ae38\"},\"marker\":{\"value\":\"cross\"},\"size\":{\"value\":5.477225575051661},\"x\":{\"field\":\"price_change_percentage_24h\"},\"y\":{\"field\":\"price_change_percentage_7d\"}},\"id\":\"4171\",\"type\":\"Scatter\"},{\"attributes\":{\"fill_alpha\":{\"value\":0.2},\"fill_color\":{\"value\":\"#e5ae38\"},\"hatch_alpha\":{\"value\":0.2},\"hatch_color\":{\"value\":\"#e5ae38\"},\"line_alpha\":{\"value\":0.2},\"line_color\":{\"value\":\"#e5ae38\"},\"marker\":{\"value\":\"cross\"},\"size\":{\"value\":5.477225575051661},\"x\":{\"field\":\"PC1\"},\"y\":{\"field\":\"PC2\"}},\"id\":\"4311\",\"type\":\"Scatter\"},{\"attributes\":{\"fill_alpha\":{\"value\":0.1},\"fill_color\":{\"value\":\"#30a2da\"},\"hatch_alpha\":{\"value\":0.1},\"hatch_color\":{\"value\":\"#30a2da\"},\"line_alpha\":{\"value\":0.1},\"line_color\":{\"value\":\"#30a2da\"},\"marker\":{\"value\":\"hex\"},\"size\":{\"value\":5.477225575051661},\"x\":{\"field\":\"price_change_percentage_24h\"},\"y\":{\"field\":\"price_change_percentage_7d\"}},\"id\":\"4128\",\"type\":\"Scatter\"},{\"attributes\":{\"angle\":{\"value\":0.0},\"fill_alpha\":{\"value\":1.0},\"fill_color\":{\"value\":\"#fc4f30\"},\"hatch_alpha\":{\"value\":1.0},\"hatch_color\":{\"value\":\"#fc4f30\"},\"hatch_scale\":{\"value\":12.0},\"hatch_weight\":{\"value\":1.0},\"line_alpha\":{\"value\":1.0},\"line_cap\":{\"value\":\"butt\"},\"line_color\":{\"value\":\"#fc4f30\"},\"line_dash\":{\"value\":[]},\"line_dash_offset\":{\"value\":0},\"line_join\":{\"value\":\"bevel\"},\"line_width\":{\"value\":1},\"marker\":{\"value\":\"square\"},\"size\":{\"value\":5.477225575051661},\"x\":{\"field\":\"price_change_percentage_24h\"},\"y\":{\"field\":\"price_change_percentage_7d\"}},\"id\":\"4166\",\"type\":\"Scatter\"},{\"attributes\":{\"label\":{\"value\":\"1\"},\"renderers\":[{\"id\":\"4151\"}]},\"id\":\"4165\",\"type\":\"LegendItem\"},{\"attributes\":{\"data\":{\"PC1\":{\"__ndarray__\":\"RxQ7s2krE0A=\",\"dtype\":\"float64\",\"order\":\"little\",\"shape\":[1]},\"PC2\":{\"__ndarray__\":\"JVrQWxoSG0A=\",\"dtype\":\"float64\",\"order\":\"little\",\"shape\":[1]},\"coin_id\":[\"celsius-degree-token\"],\"crypto_cluster\":[3]},\"selected\":{\"id\":\"4331\"},\"selection_policy\":{\"id\":\"4351\"}},\"id\":\"4330\",\"type\":\"ColumnDataSource\"},{\"attributes\":{\"coordinates\":null,\"data_source\":{\"id\":\"4167\"},\"glyph\":{\"id\":\"4170\"},\"group\":null,\"hover_glyph\":null,\"muted_glyph\":{\"id\":\"4172\"},\"nonselection_glyph\":{\"id\":\"4171\"},\"selection_glyph\":{\"id\":\"4190\"},\"view\":{\"id\":\"4174\"}},\"id\":\"4173\",\"type\":\"GlyphRenderer\"},{\"attributes\":{\"source\":{\"id\":\"4124\"}},\"id\":\"4131\",\"type\":\"CDSView\"},{\"attributes\":{},\"id\":\"4162\",\"type\":\"UnionRenderers\"},{\"attributes\":{\"axis\":{\"id\":\"4097\"},\"coordinates\":null,\"grid_line_color\":null,\"group\":null,\"ticker\":null},\"id\":\"4100\",\"type\":\"Grid\"},{\"attributes\":{},\"id\":\"4232\",\"type\":\"LinearScale\"},{\"attributes\":{},\"id\":\"4098\",\"type\":\"BasicTicker\"},{\"attributes\":{},\"id\":\"4102\",\"type\":\"BasicTicker\"},{\"attributes\":{\"coordinates\":null,\"group\":null,\"text\":\"Cryptocurrencies Clusters\",\"text_color\":\"black\",\"text_font_size\":\"12pt\"},\"id\":\"4089\",\"type\":\"Title\"},{\"attributes\":{},\"id\":\"4325\",\"type\":\"UnionRenderers\"},{\"attributes\":{\"angle\":{\"value\":0.0},\"fill_alpha\":{\"value\":1.0},\"fill_color\":{\"value\":\"#30a2da\"},\"hatch_alpha\":{\"value\":1.0},\"hatch_color\":{\"value\":\"#30a2da\"},\"hatch_scale\":{\"value\":12.0},\"hatch_weight\":{\"value\":1.0},\"line_alpha\":{\"value\":1.0},\"line_cap\":{\"value\":\"butt\"},\"line_color\":{\"value\":\"#30a2da\"},\"line_dash\":{\"value\":[]},\"line_dash_offset\":{\"value\":0},\"line_join\":{\"value\":\"bevel\"},\"line_width\":{\"value\":1},\"marker\":{\"value\":\"hex\"},\"size\":{\"value\":5.477225575051661},\"x\":{\"field\":\"PC1\"},\"y\":{\"field\":\"PC2\"}},\"id\":\"4283\",\"type\":\"Scatter\"},{\"attributes\":{\"coordinates\":null,\"data_source\":{\"id\":\"4263\"},\"glyph\":{\"id\":\"4266\"},\"group\":null,\"hover_glyph\":null,\"muted_glyph\":{\"id\":\"4268\"},\"nonselection_glyph\":{\"id\":\"4267\"},\"selection_glyph\":{\"id\":\"4283\"},\"view\":{\"id\":\"4270\"}},\"id\":\"4269\",\"type\":\"GlyphRenderer\"},{\"attributes\":{\"source\":{\"id\":\"4191\"}},\"id\":\"4198\",\"type\":\"CDSView\"},{\"attributes\":{\"source\":{\"id\":\"4167\"}},\"id\":\"4174\",\"type\":\"CDSView\"},{\"attributes\":{},\"id\":\"4095\",\"type\":\"LinearScale\"},{\"attributes\":{},\"id\":\"4192\",\"type\":\"Selection\"},{\"attributes\":{\"axis_label\":\"price_change_percentage_7d\",\"coordinates\":null,\"formatter\":{\"id\":\"4122\"},\"group\":null,\"major_label_policy\":{\"id\":\"4123\"},\"ticker\":{\"id\":\"4102\"}},\"id\":\"4101\",\"type\":\"LinearAxis\"},{\"attributes\":{\"fill_alpha\":{\"value\":0.2},\"fill_color\":{\"value\":\"#6d904f\"},\"hatch_alpha\":{\"value\":0.2},\"hatch_color\":{\"value\":\"#6d904f\"},\"line_alpha\":{\"value\":0.2},\"line_color\":{\"value\":\"#6d904f\"},\"marker\":{\"value\":\"inverted_triangle\"},\"size\":{\"value\":5.477225575051661},\"x\":{\"field\":\"PC1\"},\"y\":{\"field\":\"PC2\"}},\"id\":\"4335\",\"type\":\"Scatter\"},{\"attributes\":{\"click_policy\":\"mute\",\"coordinates\":null,\"group\":null,\"items\":[{\"id\":\"4282\"},{\"id\":\"4304\"},{\"id\":\"4328\"},{\"id\":\"4354\"}],\"location\":[0,0],\"title\":\"crypto_cluster\"},\"id\":\"4281\",\"type\":\"Legend\"},{\"attributes\":{\"axis_label\":\"price_change_percentage_24h\",\"coordinates\":null,\"formatter\":{\"id\":\"4119\"},\"group\":null,\"major_label_policy\":{\"id\":\"4120\"},\"ticker\":{\"id\":\"4098\"}},\"id\":\"4097\",\"type\":\"LinearAxis\"},{\"attributes\":{\"children\":[{\"id\":\"4397\"}],\"margin\":[0,0,0,0],\"name\":\"Row03794\",\"tags\":[\"embedded\"]},\"id\":\"4081\",\"type\":\"Row\"},{\"attributes\":{\"fill_alpha\":{\"value\":0.1},\"fill_color\":{\"value\":\"#6d904f\"},\"hatch_alpha\":{\"value\":0.1},\"hatch_color\":{\"value\":\"#6d904f\"},\"line_alpha\":{\"value\":0.1},\"line_color\":{\"value\":\"#6d904f\"},\"marker\":{\"value\":\"inverted_triangle\"},\"size\":{\"value\":5.477225575051661},\"x\":{\"field\":\"PC1\"},\"y\":{\"field\":\"PC2\"}},\"id\":\"4334\",\"type\":\"Scatter\"},{\"attributes\":{\"axis\":{\"id\":\"4101\"},\"coordinates\":null,\"dimension\":1,\"grid_line_color\":null,\"group\":null,\"ticker\":null},\"id\":\"4104\",\"type\":\"Grid\"},{\"attributes\":{},\"id\":\"4261\",\"type\":\"BasicTickFormatter\"},{\"attributes\":{},\"id\":\"4122\",\"type\":\"BasicTickFormatter\"},{\"attributes\":{\"data\":{\"coin_id\":[\"bitcoin\",\"ethereum\",\"bitcoin-cash\",\"binancecoin\",\"chainlink\",\"cardano\",\"litecoin\",\"monero\",\"tezos\",\"cosmos\",\"wrapped-bitcoin\",\"zcash\",\"maker\"],\"crypto_cluster\":[3,3,3,3,3,3,3,3,3,3,3,3,3],\"price_change_percentage_24h\":{\"__ndarray__\":\"DdlqYN9F4D86azDosLzHPzALIwCtFvM/9w6McDSK7D/VDHOpb1eHPzMEvaFkP7o/Sds39trWsz9Epj8/c9DQP4xAeNEVZ8O/qq8st/Fh0L8FWWk3mH7gP6wo083aUMC//ACFOIMFwL8=\",\"dtype\":\"float64\",\"order\":\"little\",\"shape\":[13]},\"price_change_percentage_7d\":{\"__ndarray__\":\"U1k8q3mQ3z9yoPpI+ebtPzAB2dP2AQBAgmkOMZk89T8FNulI+JMEQCZRaSLGIPg/84wjaB1l1T8rMp3jf678P2VmURqKqeY/XK6ZksNx/T9DfMqy1o7dPyTPDB1Xu+0/srW7TleV4j8=\",\"dtype\":\"float64\",\"order\":\"little\",\"shape\":[13]}},\"selected\":{\"id\":\"4192\"},\"selection_policy\":{\"id\":\"4212\"}},\"id\":\"4191\",\"type\":\"ColumnDataSource\"},{\"attributes\":{\"angle\":{\"value\":0.0},\"fill_alpha\":{\"value\":1.0},\"fill_color\":{\"value\":\"#6d904f\"},\"hatch_alpha\":{\"value\":1.0},\"hatch_color\":{\"value\":\"#6d904f\"},\"hatch_scale\":{\"value\":12.0},\"hatch_weight\":{\"value\":1.0},\"line_alpha\":{\"value\":1.0},\"line_cap\":{\"value\":\"butt\"},\"line_color\":{\"value\":\"#6d904f\"},\"line_dash\":{\"value\":[]},\"line_dash_offset\":{\"value\":0},\"line_join\":{\"value\":\"bevel\"},\"line_width\":{\"value\":1},\"marker\":{\"value\":\"inverted_triangle\"},\"size\":{\"value\":5.477225575051661},\"x\":{\"field\":\"PC1\"},\"y\":{\"field\":\"PC2\"}},\"id\":\"4355\",\"type\":\"Scatter\"},{\"attributes\":{\"active_drag\":{\"id\":\"4106\"},\"active_scroll\":{\"id\":\"4107\"},\"tools\":[{\"id\":\"4084\"},{\"id\":\"4105\"},{\"id\":\"4106\"},{\"id\":\"4107\"},{\"id\":\"4108\"},{\"id\":\"4109\"}]},\"id\":\"4111\",\"type\":\"Toolbar\"},{\"attributes\":{\"fill_alpha\":{\"value\":0.2},\"fill_color\":{\"value\":\"#e5ae38\"},\"hatch_alpha\":{\"value\":0.2},\"hatch_color\":{\"value\":\"#e5ae38\"},\"line_alpha\":{\"value\":0.2},\"line_color\":{\"value\":\"#e5ae38\"},\"marker\":{\"value\":\"cross\"},\"size\":{\"value\":5.477225575051661},\"x\":{\"field\":\"price_change_percentage_24h\"},\"y\":{\"field\":\"price_change_percentage_7d\"}},\"id\":\"4172\",\"type\":\"Scatter\"},{\"attributes\":{\"label\":{\"value\":\"3\"},\"renderers\":[{\"id\":\"4336\"}]},\"id\":\"4354\",\"type\":\"LegendItem\"},{\"attributes\":{},\"id\":\"4105\",\"type\":\"SaveTool\"},{\"attributes\":{\"toolbar\":{\"id\":\"4395\"},\"toolbar_location\":\"above\"},\"id\":\"4396\",\"type\":\"ToolbarBox\"},{\"attributes\":{},\"id\":\"4106\",\"type\":\"PanTool\"},{\"attributes\":{},\"id\":\"4109\",\"type\":\"ResetTool\"},{\"attributes\":{},\"id\":\"4107\",\"type\":\"WheelZoomTool\"},{\"attributes\":{\"overlay\":{\"id\":\"4110\"}},\"id\":\"4108\",\"type\":\"BoxZoomTool\"},{\"attributes\":{\"bottom_units\":\"screen\",\"coordinates\":null,\"fill_alpha\":0.5,\"fill_color\":\"lightgrey\",\"group\":null,\"left_units\":\"screen\",\"level\":\"overlay\",\"line_alpha\":1.0,\"line_color\":\"black\",\"line_dash\":[4,4],\"line_width\":2,\"right_units\":\"screen\",\"syncable\":false,\"top_units\":\"screen\"},\"id\":\"4249\",\"type\":\"BoxAnnotation\"},{\"attributes\":{\"end\":2.997678656273595,\"reset_end\":2.997678656273595,\"reset_start\":-2.107454305728652,\"start\":-2.107454305728652,\"tags\":[[[\"price_change_percentage_7d\",\"price_change_percentage_7d\",null]]]},\"id\":\"4083\",\"type\":\"Range1d\"},{\"attributes\":{\"data\":{\"coin_id\":[\"tether\",\"ripple\",\"bitcoin-cash-sv\",\"crypto-com-chain\",\"usd-coin\",\"eos\",\"tron\",\"okb\",\"stellar\",\"cdai\",\"neo\",\"leo-token\",\"huobi-token\",\"nem\",\"binance-usd\",\"iota\",\"vechain\",\"theta-token\",\"dash\",\"ethereum-classic\",\"havven\",\"omisego\",\"ontology\",\"ftx-token\",\"true-usd\",\"digibyte\"],\"crypto_cluster\":[0,0,0,0,0,0,0,0,0,0,0,0,0,0,0,0,0,0,0,0,0,0,0,0,0,0],\"price_change_percentage_24h\":{\"__ndarray__\":\"mCJF1OlLlj/mJRG3Ed+kv1qZGRifu9w//rJXHrAz1T/yMTqenpahPx9kk3dK7sM/GTRehHalwD90fnl54Irtv9XPDahDw9G/+VOWQSEmxz+kpbukw1bSP6eM4M4OgKo/BcMOj9+jqr/Chq6S5ebLv2h3TIfCZ68/weEQ8QyV0D/KmZTmC7niP1YH9WGFy/m/N7JuVBEB07/EU4GAhEGyv8Ocf0hw2/a/lrPBJY23/j/IKcQzxy3av5WrmDyeito/Bf22eE/6sz9Y362Ir3rzPw==\",\"dtype\":\"float64\",\"order\":\"little\",\"shape\":[26]},\"price_change_percentage_7d\":{\"__ndarray__\":\"bZSIvk+a5r9RujxqH/Ppvw2U7adXaMi/d+r7VGbW+b9EGSx/8nTnv4rfBo4Lhe2/BEBwXEEApb8Udj8VbP/2vySelkVDp9i/7SZvVsyO5r8uu+JVH+LUvziN+gRMte2/o2qlez1D3b/CtPLKIS7rvyYjaswHnea/US6joeTvzz/dRmuCvtDvv/9TV66U6fq/ZWX+mWVCuD8GJ0pHuV/Nv8nIE2ZWH5q/TTxj/me11z+Htdvf1gXtv2Avihmzf9o/e31xtwIC5r/STlu6Y3Ljvw==\",\"dtype\":\"float64\",\"order\":\"little\",\"shape\":[26]}},\"selected\":{\"id\":\"4125\"},\"selection_policy\":{\"id\":\"4139\"}},\"id\":\"4124\",\"type\":\"ColumnDataSource\"},{\"attributes\":{\"source\":{\"id\":\"4306\"}},\"id\":\"4313\",\"type\":\"CDSView\"},{\"attributes\":{\"coordinates\":null,\"data_source\":{\"id\":\"4306\"},\"glyph\":{\"id\":\"4309\"},\"group\":null,\"hover_glyph\":null,\"muted_glyph\":{\"id\":\"4311\"},\"nonselection_glyph\":{\"id\":\"4310\"},\"selection_glyph\":{\"id\":\"4329\"},\"view\":{\"id\":\"4313\"}},\"id\":\"4312\",\"type\":\"GlyphRenderer\"},{\"attributes\":{\"fill_alpha\":{\"value\":0.1},\"fill_color\":{\"value\":\"#6d904f\"},\"hatch_alpha\":{\"value\":0.1},\"hatch_color\":{\"value\":\"#6d904f\"},\"line_alpha\":{\"value\":0.1},\"line_color\":{\"value\":\"#6d904f\"},\"marker\":{\"value\":\"inverted_triangle\"},\"size\":{\"value\":5.477225575051661},\"x\":{\"field\":\"price_change_percentage_24h\"},\"y\":{\"field\":\"price_change_percentage_7d\"}},\"id\":\"4195\",\"type\":\"Scatter\"},{\"attributes\":{},\"id\":\"4301\",\"type\":\"UnionRenderers\"},{\"attributes\":{\"bottom_units\":\"screen\",\"coordinates\":null,\"fill_alpha\":0.5,\"fill_color\":\"lightgrey\",\"group\":null,\"left_units\":\"screen\",\"level\":\"overlay\",\"line_alpha\":1.0,\"line_color\":\"black\",\"line_dash\":[4,4],\"line_width\":2,\"right_units\":\"screen\",\"syncable\":false,\"top_units\":\"screen\"},\"id\":\"4110\",\"type\":\"BoxAnnotation\"},{\"attributes\":{},\"id\":\"4120\",\"type\":\"AllLabels\"},{\"attributes\":{},\"id\":\"4278\",\"type\":\"UnionRenderers\"},{\"attributes\":{},\"id\":\"4186\",\"type\":\"UnionRenderers\"},{\"attributes\":{},\"id\":\"4307\",\"type\":\"Selection\"},{\"attributes\":{\"active_drag\":{\"id\":\"4245\"},\"active_scroll\":{\"id\":\"4246\"},\"tools\":[{\"id\":\"4223\"},{\"id\":\"4244\"},{\"id\":\"4245\"},{\"id\":\"4246\"},{\"id\":\"4247\"},{\"id\":\"4248\"}]},\"id\":\"4250\",\"type\":\"Toolbar\"},{\"attributes\":{\"callback\":null,\"renderers\":[{\"id\":\"4269\"},{\"id\":\"4290\"},{\"id\":\"4312\"},{\"id\":\"4336\"}],\"tags\":[\"hv_created\"],\"tooltips\":[[\"crypto_cluster\",\"@{crypto_cluster}\"],[\"PC1\",\"@{PC1}\"],[\"PC2\",\"@{PC2}\"],[\"coin_id\",\"@{coin_id}\"]]},\"id\":\"4223\",\"type\":\"HoverTool\"},{\"attributes\":{\"data\":{\"coin_id\":[\"celsius-degree-token\"],\"crypto_cluster\":[2],\"price_change_percentage_24h\":{\"__ndarray__\":\"VLqXBn668D8=\",\"dtype\":\"float64\",\"order\":\"little\",\"shape\":[1]},\"price_change_percentage_7d\":{\"__ndarray__\":\"Nv03JFjJ478=\",\"dtype\":\"float64\",\"order\":\"little\",\"shape\":[1]}},\"selected\":{\"id\":\"4168\"},\"selection_policy\":{\"id\":\"4186\"}},\"id\":\"4167\",\"type\":\"ColumnDataSource\"},{\"attributes\":{\"fill_alpha\":{\"value\":0.1},\"fill_color\":{\"value\":\"#fc4f30\"},\"hatch_alpha\":{\"value\":0.1},\"hatch_color\":{\"value\":\"#fc4f30\"},\"line_alpha\":{\"value\":0.1},\"line_color\":{\"value\":\"#fc4f30\"},\"marker\":{\"value\":\"square\"},\"size\":{\"value\":5.477225575051661},\"x\":{\"field\":\"PC1\"},\"y\":{\"field\":\"PC2\"}},\"id\":\"4288\",\"type\":\"Scatter\"},{\"attributes\":{},\"id\":\"4262\",\"type\":\"AllLabels\"},{\"attributes\":{\"end\":2.2155632386560065,\"reset_end\":2.2155632386560065,\"reset_start\":-5.276792781891412,\"start\":-5.276792781891412,\"tags\":[[[\"price_change_percentage_24h\",\"price_change_percentage_24h\",null]]]},\"id\":\"4082\",\"type\":\"Range1d\"},{\"attributes\":{},\"id\":\"4139\",\"type\":\"UnionRenderers\"},{\"attributes\":{},\"id\":\"4125\",\"type\":\"Selection\"},{\"attributes\":{\"coordinates\":null,\"data_source\":{\"id\":\"4145\"},\"glyph\":{\"id\":\"4148\"},\"group\":null,\"hover_glyph\":null,\"muted_glyph\":{\"id\":\"4150\"},\"nonselection_glyph\":{\"id\":\"4149\"},\"selection_glyph\":{\"id\":\"4166\"},\"view\":{\"id\":\"4152\"}},\"id\":\"4151\",\"type\":\"GlyphRenderer\"},{\"attributes\":{\"fill_alpha\":{\"value\":0.1},\"fill_color\":{\"value\":\"#30a2da\"},\"hatch_alpha\":{\"value\":0.1},\"hatch_color\":{\"value\":\"#30a2da\"},\"line_alpha\":{\"value\":0.1},\"line_color\":{\"value\":\"#30a2da\"},\"marker\":{\"value\":\"hex\"},\"size\":{\"value\":5.477225575051661},\"x\":{\"field\":\"PC1\"},\"y\":{\"field\":\"PC2\"}},\"id\":\"4267\",\"type\":\"Scatter\"},{\"attributes\":{\"label\":{\"value\":\"0\"},\"renderers\":[{\"id\":\"4130\"}]},\"id\":\"4143\",\"type\":\"LegendItem\"},{\"attributes\":{\"end\":8.485310422788737,\"reset_end\":8.485310422788737,\"reset_start\":-1.5540921804637602,\"start\":-1.5540921804637602,\"tags\":[[[\"PC1\",\"PC1\",null]]]},\"id\":\"4221\",\"type\":\"Range1d\"},{\"attributes\":{\"fill_color\":{\"value\":\"#fc4f30\"},\"hatch_color\":{\"value\":\"#fc4f30\"},\"line_color\":{\"value\":\"#fc4f30\"},\"marker\":{\"value\":\"square\"},\"size\":{\"value\":5.477225575051661},\"x\":{\"field\":\"PC1\"},\"y\":{\"field\":\"PC2\"}},\"id\":\"4287\",\"type\":\"Scatter\"},{\"attributes\":{\"data\":{\"PC1\":{\"__ndarray__\":\"TJZ8amq3278UYXw2izLev9jya5vXSei/S/tzoPfEz7+Bh/TX3g7cv4oZGVOKMOa/gkwjp68s2b/0BLsJMGewP7SyldMFTN+/DekqwdFu4L/bFokx+yzXv5MSO2dvc9q/xxEoujMU2r94ZdmqtnzjP+hN1mNC0Ny/iti9MiN46L/kse9uVM3hv+hGFZE5agVAmSC8UEGl47+1vuS6vI7iv3QKKydStOs/cJK6/7yWvD9vXMBgQDzkv5YbmkYF++K/Dr1JmQJS3b/84a/49hDTvw==\",\"dtype\":\"float64\",\"order\":\"little\",\"shape\":[26]},\"PC2\":{\"__ndarray__\":\"lNF7TyqFxb+vj1UaIIDMv6PhzCbqwMm/yzoUYyAF9r+8ZsaEbXHGv0fJIJL6Ut6/fyu0IHiyu79tgFApNFH0vwWhJl5vcue/1JKaSllHwr+6iEuGzZTvv2r5wy5akuW/tN3jHmozy7+sF2SFdAjiP2kuIf2aVMO/NOuFsYSS4L9ZbbiA5wL/vxN2Joz3k4y/jY8PRXSt3r8M37YoLM7Wv2X+1spVGALA5CEohoZp2z9DqFKDbN0AwPUO7msnAJY/VfWtmbtfwb9ISPDBzXbIvw==\",\"dtype\":\"float64\",\"order\":\"little\",\"shape\":[26]},\"coin_id\":[\"tether\",\"ripple\",\"bitcoin-cash-sv\",\"crypto-com-chain\",\"usd-coin\",\"eos\",\"tron\",\"okb\",\"stellar\",\"cdai\",\"neo\",\"leo-token\",\"huobi-token\",\"nem\",\"binance-usd\",\"iota\",\"vechain\",\"theta-token\",\"dash\",\"ethereum-classic\",\"havven\",\"omisego\",\"ontology\",\"ftx-token\",\"true-usd\",\"digibyte\"],\"crypto_cluster\":[1,1,1,1,1,1,1,1,1,1,1,1,1,1,1,1,1,1,1,1,1,1,1,1,1,1]},\"selected\":{\"id\":\"4285\"},\"selection_policy\":{\"id\":\"4301\"}},\"id\":\"4284\",\"type\":\"ColumnDataSource\"},{\"attributes\":{\"axis\":{\"id\":\"4236\"},\"coordinates\":null,\"grid_line_color\":null,\"group\":null,\"ticker\":null},\"id\":\"4239\",\"type\":\"Grid\"},{\"attributes\":{},\"id\":\"4119\",\"type\":\"BasicTickFormatter\"},{\"attributes\":{},\"id\":\"4093\",\"type\":\"LinearScale\"},{\"attributes\":{\"angle\":{\"value\":0.0},\"fill_alpha\":{\"value\":1.0},\"fill_color\":{\"value\":\"#30a2da\"},\"hatch_alpha\":{\"value\":1.0},\"hatch_color\":{\"value\":\"#30a2da\"},\"hatch_scale\":{\"value\":12.0},\"hatch_weight\":{\"value\":1.0},\"line_alpha\":{\"value\":1.0},\"line_cap\":{\"value\":\"butt\"},\"line_color\":{\"value\":\"#30a2da\"},\"line_dash\":{\"value\":[]},\"line_dash_offset\":{\"value\":0},\"line_join\":{\"value\":\"bevel\"},\"line_width\":{\"value\":1},\"marker\":{\"value\":\"hex\"},\"size\":{\"value\":5.477225575051661},\"x\":{\"field\":\"price_change_percentage_24h\"},\"y\":{\"field\":\"price_change_percentage_7d\"}},\"id\":\"4144\",\"type\":\"Scatter\"},{\"attributes\":{\"fill_color\":{\"value\":\"#6d904f\"},\"hatch_color\":{\"value\":\"#6d904f\"},\"line_color\":{\"value\":\"#6d904f\"},\"marker\":{\"value\":\"inverted_triangle\"},\"size\":{\"value\":5.477225575051661},\"x\":{\"field\":\"price_change_percentage_24h\"},\"y\":{\"field\":\"price_change_percentage_7d\"}},\"id\":\"4194\",\"type\":\"Scatter\"},{\"attributes\":{\"angle\":{\"value\":0.0},\"fill_alpha\":{\"value\":1.0},\"fill_color\":{\"value\":\"#fc4f30\"},\"hatch_alpha\":{\"value\":1.0},\"hatch_color\":{\"value\":\"#fc4f30\"},\"hatch_scale\":{\"value\":12.0},\"hatch_weight\":{\"value\":1.0},\"line_alpha\":{\"value\":1.0},\"line_cap\":{\"value\":\"butt\"},\"line_color\":{\"value\":\"#fc4f30\"},\"line_dash\":{\"value\":[]},\"line_dash_offset\":{\"value\":0},\"line_join\":{\"value\":\"bevel\"},\"line_width\":{\"value\":1},\"marker\":{\"value\":\"square\"},\"size\":{\"value\":5.477225575051661},\"x\":{\"field\":\"PC1\"},\"y\":{\"field\":\"PC2\"}},\"id\":\"4305\",\"type\":\"Scatter\"},{\"attributes\":{\"below\":[{\"id\":\"4097\"}],\"center\":[{\"id\":\"4100\"},{\"id\":\"4104\"}],\"height\":300,\"left\":[{\"id\":\"4101\"}],\"margin\":null,\"min_border_bottom\":10,\"min_border_left\":10,\"min_border_right\":10,\"min_border_top\":10,\"renderers\":[{\"id\":\"4130\"},{\"id\":\"4151\"},{\"id\":\"4173\"},{\"id\":\"4197\"}],\"right\":[{\"id\":\"4142\"}],\"sizing_mode\":\"fixed\",\"title\":{\"id\":\"4089\"},\"toolbar\":{\"id\":\"4111\"},\"toolbar_location\":null,\"width\":700,\"x_range\":{\"id\":\"4082\"},\"x_scale\":{\"id\":\"4093\"},\"y_range\":{\"id\":\"4083\"},\"y_scale\":{\"id\":\"4095\"}},\"id\":\"4088\",\"subtype\":\"Figure\",\"type\":\"Plot\"},{\"attributes\":{\"angle\":{\"value\":0.0},\"fill_alpha\":{\"value\":1.0},\"fill_color\":{\"value\":\"#e5ae38\"},\"hatch_alpha\":{\"value\":1.0},\"hatch_color\":{\"value\":\"#e5ae38\"},\"hatch_scale\":{\"value\":12.0},\"hatch_weight\":{\"value\":1.0},\"line_alpha\":{\"value\":1.0},\"line_cap\":{\"value\":\"butt\"},\"line_color\":{\"value\":\"#e5ae38\"},\"line_dash\":{\"value\":[]},\"line_dash_offset\":{\"value\":0},\"line_join\":{\"value\":\"bevel\"},\"line_width\":{\"value\":1},\"marker\":{\"value\":\"cross\"},\"size\":{\"value\":5.477225575051661},\"x\":{\"field\":\"price_change_percentage_24h\"},\"y\":{\"field\":\"price_change_percentage_7d\"}},\"id\":\"4190\",\"type\":\"Scatter\"},{\"attributes\":{},\"id\":\"4123\",\"type\":\"AllLabels\"},{\"attributes\":{\"label\":{\"value\":\"1\"},\"renderers\":[{\"id\":\"4290\"}]},\"id\":\"4304\",\"type\":\"LegendItem\"},{\"attributes\":{},\"id\":\"4241\",\"type\":\"BasicTicker\"},{\"attributes\":{},\"id\":\"4237\",\"type\":\"BasicTicker\"},{\"attributes\":{\"coordinates\":null,\"group\":null,\"text\":\"Cryptocurrencies Clusters Using PCA Data\",\"text_color\":\"black\",\"text_font_size\":\"12pt\"},\"id\":\"4228\",\"type\":\"Title\"},{\"attributes\":{\"fill_color\":{\"value\":\"#e5ae38\"},\"hatch_color\":{\"value\":\"#e5ae38\"},\"line_color\":{\"value\":\"#e5ae38\"},\"marker\":{\"value\":\"cross\"},\"size\":{\"value\":5.477225575051661},\"x\":{\"field\":\"PC1\"},\"y\":{\"field\":\"PC2\"}},\"id\":\"4309\",\"type\":\"Scatter\"},{\"attributes\":{\"angle\":{\"value\":0.0},\"fill_alpha\":{\"value\":1.0},\"fill_color\":{\"value\":\"#e5ae38\"},\"hatch_alpha\":{\"value\":1.0},\"hatch_color\":{\"value\":\"#e5ae38\"},\"hatch_scale\":{\"value\":12.0},\"hatch_weight\":{\"value\":1.0},\"line_alpha\":{\"value\":1.0},\"line_cap\":{\"value\":\"butt\"},\"line_color\":{\"value\":\"#e5ae38\"},\"line_dash\":{\"value\":[]},\"line_dash_offset\":{\"value\":0},\"line_join\":{\"value\":\"bevel\"},\"line_width\":{\"value\":1},\"marker\":{\"value\":\"cross\"},\"size\":{\"value\":5.477225575051661},\"x\":{\"field\":\"PC1\"},\"y\":{\"field\":\"PC2\"}},\"id\":\"4329\",\"type\":\"Scatter\"},{\"attributes\":{\"label\":{\"value\":\"2\"},\"renderers\":[{\"id\":\"4173\"}]},\"id\":\"4189\",\"type\":\"LegendItem\"},{\"attributes\":{},\"id\":\"4234\",\"type\":\"LinearScale\"},{\"attributes\":{\"fill_color\":{\"value\":\"#6d904f\"},\"hatch_color\":{\"value\":\"#6d904f\"},\"line_color\":{\"value\":\"#6d904f\"},\"marker\":{\"value\":\"inverted_triangle\"},\"size\":{\"value\":5.477225575051661},\"x\":{\"field\":\"PC1\"},\"y\":{\"field\":\"PC2\"}},\"id\":\"4333\",\"type\":\"Scatter\"},{\"attributes\":{},\"id\":\"4168\",\"type\":\"Selection\"},{\"attributes\":{\"axis_label\":\"PC2\",\"coordinates\":null,\"formatter\":{\"id\":\"4261\"},\"group\":null,\"major_label_policy\":{\"id\":\"4262\"},\"ticker\":{\"id\":\"4241\"}},\"id\":\"4240\",\"type\":\"LinearAxis\"},{\"attributes\":{\"axis_label\":\"PC1\",\"coordinates\":null,\"formatter\":{\"id\":\"4258\"},\"group\":null,\"major_label_policy\":{\"id\":\"4259\"},\"ticker\":{\"id\":\"4237\"}},\"id\":\"4236\",\"type\":\"LinearAxis\"},{\"attributes\":{\"click_policy\":\"mute\",\"coordinates\":null,\"group\":null,\"items\":[{\"id\":\"4143\"},{\"id\":\"4165\"},{\"id\":\"4189\"},{\"id\":\"4215\"}],\"location\":[0,0],\"title\":\"crypto_cluster\"},\"id\":\"4142\",\"type\":\"Legend\"},{\"attributes\":{\"label\":{\"value\":\"2\"},\"renderers\":[{\"id\":\"4312\"}]},\"id\":\"4328\",\"type\":\"LegendItem\"},{\"attributes\":{\"axis\":{\"id\":\"4240\"},\"coordinates\":null,\"dimension\":1,\"grid_line_color\":null,\"group\":null,\"ticker\":null},\"id\":\"4243\",\"type\":\"Grid\"},{\"attributes\":{\"label\":{\"value\":\"3\"},\"renderers\":[{\"id\":\"4197\"}]},\"id\":\"4215\",\"type\":\"LegendItem\"},{\"attributes\":{\"angle\":{\"value\":0.0},\"fill_alpha\":{\"value\":1.0},\"fill_color\":{\"value\":\"#6d904f\"},\"hatch_alpha\":{\"value\":1.0},\"hatch_color\":{\"value\":\"#6d904f\"},\"hatch_scale\":{\"value\":12.0},\"hatch_weight\":{\"value\":1.0},\"line_alpha\":{\"value\":1.0},\"line_cap\":{\"value\":\"butt\"},\"line_color\":{\"value\":\"#6d904f\"},\"line_dash\":{\"value\":[]},\"line_dash_offset\":{\"value\":0},\"line_join\":{\"value\":\"bevel\"},\"line_width\":{\"value\":1},\"marker\":{\"value\":\"inverted_triangle\"},\"size\":{\"value\":5.477225575051661},\"x\":{\"field\":\"price_change_percentage_24h\"},\"y\":{\"field\":\"price_change_percentage_7d\"}},\"id\":\"4216\",\"type\":\"Scatter\"},{\"attributes\":{\"fill_alpha\":{\"value\":0.2},\"fill_color\":{\"value\":\"#fc4f30\"},\"hatch_alpha\":{\"value\":0.2},\"hatch_color\":{\"value\":\"#fc4f30\"},\"line_alpha\":{\"value\":0.2},\"line_color\":{\"value\":\"#fc4f30\"},\"marker\":{\"value\":\"square\"},\"size\":{\"value\":5.477225575051661},\"x\":{\"field\":\"price_change_percentage_24h\"},\"y\":{\"field\":\"price_change_percentage_7d\"}},\"id\":\"4150\",\"type\":\"Scatter\"},{\"attributes\":{\"toolbars\":[{\"id\":\"4111\"},{\"id\":\"4250\"}],\"tools\":[{\"id\":\"4084\"},{\"id\":\"4105\"},{\"id\":\"4106\"},{\"id\":\"4107\"},{\"id\":\"4108\"},{\"id\":\"4109\"},{\"id\":\"4223\"},{\"id\":\"4244\"},{\"id\":\"4245\"},{\"id\":\"4246\"},{\"id\":\"4247\"},{\"id\":\"4248\"}]},\"id\":\"4395\",\"type\":\"ProxyToolbar\"},{\"attributes\":{},\"id\":\"4264\",\"type\":\"Selection\"},{\"attributes\":{\"coordinates\":null,\"data_source\":{\"id\":\"4191\"},\"glyph\":{\"id\":\"4194\"},\"group\":null,\"hover_glyph\":null,\"muted_glyph\":{\"id\":\"4196\"},\"nonselection_glyph\":{\"id\":\"4195\"},\"selection_glyph\":{\"id\":\"4216\"},\"view\":{\"id\":\"4198\"}},\"id\":\"4197\",\"type\":\"GlyphRenderer\"},{\"attributes\":{\"fill_alpha\":{\"value\":0.2},\"fill_color\":{\"value\":\"#30a2da\"},\"hatch_alpha\":{\"value\":0.2},\"hatch_color\":{\"value\":\"#30a2da\"},\"line_alpha\":{\"value\":0.2},\"line_color\":{\"value\":\"#30a2da\"},\"marker\":{\"value\":\"hex\"},\"size\":{\"value\":5.477225575051661},\"x\":{\"field\":\"price_change_percentage_24h\"},\"y\":{\"field\":\"price_change_percentage_7d\"}},\"id\":\"4129\",\"type\":\"Scatter\"},{\"attributes\":{\"fill_alpha\":{\"value\":0.2},\"fill_color\":{\"value\":\"#6d904f\"},\"hatch_alpha\":{\"value\":0.2},\"hatch_color\":{\"value\":\"#6d904f\"},\"line_alpha\":{\"value\":0.2},\"line_color\":{\"value\":\"#6d904f\"},\"marker\":{\"value\":\"inverted_triangle\"},\"size\":{\"value\":5.477225575051661},\"x\":{\"field\":\"price_change_percentage_24h\"},\"y\":{\"field\":\"price_change_percentage_7d\"}},\"id\":\"4196\",\"type\":\"Scatter\"},{\"attributes\":{\"source\":{\"id\":\"4330\"}},\"id\":\"4337\",\"type\":\"CDSView\"},{\"attributes\":{\"coordinates\":null,\"data_source\":{\"id\":\"4330\"},\"glyph\":{\"id\":\"4333\"},\"group\":null,\"hover_glyph\":null,\"muted_glyph\":{\"id\":\"4335\"},\"nonselection_glyph\":{\"id\":\"4334\"},\"selection_glyph\":{\"id\":\"4355\"},\"view\":{\"id\":\"4337\"}},\"id\":\"4336\",\"type\":\"GlyphRenderer\"},{\"attributes\":{\"label\":{\"value\":\"0\"},\"renderers\":[{\"id\":\"4269\"}]},\"id\":\"4282\",\"type\":\"LegendItem\"},{\"attributes\":{\"fill_color\":{\"value\":\"#fc4f30\"},\"hatch_color\":{\"value\":\"#fc4f30\"},\"line_color\":{\"value\":\"#fc4f30\"},\"marker\":{\"value\":\"square\"},\"size\":{\"value\":5.477225575051661},\"x\":{\"field\":\"price_change_percentage_24h\"},\"y\":{\"field\":\"price_change_percentage_7d\"}},\"id\":\"4148\",\"type\":\"Scatter\"},{\"attributes\":{\"callback\":null,\"renderers\":[{\"id\":\"4130\"},{\"id\":\"4151\"},{\"id\":\"4173\"},{\"id\":\"4197\"}],\"tags\":[\"hv_created\"],\"tooltips\":[[\"crypto_cluster\",\"@{crypto_cluster}\"],[\"price_change_percentage_24h\",\"@{price_change_percentage_24h}\"],[\"price_change_percentage_7d\",\"@{price_change_percentage_7d}\"],[\"coin_id\",\"@{coin_id}\"]]},\"id\":\"4084\",\"type\":\"HoverTool\"},{\"attributes\":{\"source\":{\"id\":\"4263\"}},\"id\":\"4270\",\"type\":\"CDSView\"},{\"attributes\":{},\"id\":\"4244\",\"type\":\"SaveTool\"},{\"attributes\":{},\"id\":\"4245\",\"type\":\"PanTool\"},{\"attributes\":{\"source\":{\"id\":\"4284\"}},\"id\":\"4291\",\"type\":\"CDSView\"},{\"attributes\":{},\"id\":\"4248\",\"type\":\"ResetTool\"},{\"attributes\":{\"coordinates\":null,\"data_source\":{\"id\":\"4284\"},\"glyph\":{\"id\":\"4287\"},\"group\":null,\"hover_glyph\":null,\"muted_glyph\":{\"id\":\"4289\"},\"nonselection_glyph\":{\"id\":\"4288\"},\"selection_glyph\":{\"id\":\"4305\"},\"view\":{\"id\":\"4291\"}},\"id\":\"4290\",\"type\":\"GlyphRenderer\"},{\"attributes\":{\"fill_alpha\":{\"value\":0.2},\"fill_color\":{\"value\":\"#fc4f30\"},\"hatch_alpha\":{\"value\":0.2},\"hatch_color\":{\"value\":\"#fc4f30\"},\"line_alpha\":{\"value\":0.2},\"line_color\":{\"value\":\"#fc4f30\"},\"marker\":{\"value\":\"square\"},\"size\":{\"value\":5.477225575051661},\"x\":{\"field\":\"PC1\"},\"y\":{\"field\":\"PC2\"}},\"id\":\"4289\",\"type\":\"Scatter\"},{\"attributes\":{},\"id\":\"4246\",\"type\":\"WheelZoomTool\"},{\"attributes\":{\"fill_alpha\":{\"value\":0.2},\"fill_color\":{\"value\":\"#30a2da\"},\"hatch_alpha\":{\"value\":0.2},\"hatch_color\":{\"value\":\"#30a2da\"},\"line_alpha\":{\"value\":0.2},\"line_color\":{\"value\":\"#30a2da\"},\"marker\":{\"value\":\"hex\"},\"size\":{\"value\":5.477225575051661},\"x\":{\"field\":\"PC1\"},\"y\":{\"field\":\"PC2\"}},\"id\":\"4268\",\"type\":\"Scatter\"},{\"attributes\":{\"overlay\":{\"id\":\"4249\"}},\"id\":\"4247\",\"type\":\"BoxZoomTool\"},{\"attributes\":{\"children\":[[{\"id\":\"4088\"},0,0],[{\"id\":\"4227\"},0,1]]},\"id\":\"4394\",\"type\":\"GridBox\"},{\"attributes\":{\"fill_alpha\":{\"value\":0.1},\"fill_color\":{\"value\":\"#e5ae38\"},\"hatch_alpha\":{\"value\":0.1},\"hatch_color\":{\"value\":\"#e5ae38\"},\"line_alpha\":{\"value\":0.1},\"line_color\":{\"value\":\"#e5ae38\"},\"marker\":{\"value\":\"cross\"},\"size\":{\"value\":5.477225575051661},\"x\":{\"field\":\"PC1\"},\"y\":{\"field\":\"PC2\"}},\"id\":\"4310\",\"type\":\"Scatter\"},{\"attributes\":{},\"id\":\"4259\",\"type\":\"AllLabels\"},{\"attributes\":{},\"id\":\"4331\",\"type\":\"Selection\"},{\"attributes\":{\"children\":[{\"id\":\"4396\"},{\"id\":\"4394\"}]},\"id\":\"4397\",\"type\":\"Column\"},{\"attributes\":{\"data\":{\"PC1\":{\"__ndarray__\":\"S/XQrqo447/f0e2+JFTdv2ATj0NZhvK/ItMJ1HGH4L/0WkdgdNjcvwn+x3tOHta/lm1M83DI5L/osk+KvvmuP5kxxVNFeum/186LH/eZ07/b3W/HIlbjv2Hz5tCaNdu/vEmjFh7m2L8=\",\"dtype\":\"float64\",\"order\":\"little\",\"shape\":[13]},\"PC2\":{\"__ndarray__\":\"tQJY8+P36j9hP81egFfdP6JEN3tlVABAbaRxTss29j+zZPC8/ZDgP3/E/UiRV+c/WS0795eo2z+X9tOGdUYHQHCknptkpN+/aENue2CC5j9WCxibCnrqP9N0su7rjN8/T0ntLg0gxT8=\",\"dtype\":\"float64\",\"order\":\"little\",\"shape\":[13]},\"coin_id\":[\"bitcoin\",\"ethereum\",\"bitcoin-cash\",\"binancecoin\",\"chainlink\",\"cardano\",\"litecoin\",\"monero\",\"tezos\",\"cosmos\",\"wrapped-bitcoin\",\"zcash\",\"maker\"],\"crypto_cluster\":[0,0,0,0,0,0,0,0,0,0,0,0,0]},\"selected\":{\"id\":\"4264\"},\"selection_policy\":{\"id\":\"4278\"}},\"id\":\"4263\",\"type\":\"ColumnDataSource\"},{\"attributes\":{},\"id\":\"4285\",\"type\":\"Selection\"},{\"attributes\":{\"data\":{\"PC1\":{\"__ndarray__\":\"TlWiy5MtIEA=\",\"dtype\":\"float64\",\"order\":\"little\",\"shape\":[1]},\"PC2\":{\"__ndarray__\":\"IQ3w8dQsD8A=\",\"dtype\":\"float64\",\"order\":\"little\",\"shape\":[1]},\"coin_id\":[\"ethlend\"],\"crypto_cluster\":[2]},\"selected\":{\"id\":\"4307\"},\"selection_policy\":{\"id\":\"4325\"}},\"id\":\"4306\",\"type\":\"ColumnDataSource\"},{\"attributes\":{\"source\":{\"id\":\"4145\"}},\"id\":\"4152\",\"type\":\"CDSView\"},{\"attributes\":{},\"id\":\"4258\",\"type\":\"BasicTickFormatter\"},{\"attributes\":{},\"id\":\"4351\",\"type\":\"UnionRenderers\"},{\"attributes\":{\"coordinates\":null,\"data_source\":{\"id\":\"4124\"},\"glyph\":{\"id\":\"4127\"},\"group\":null,\"hover_glyph\":null,\"muted_glyph\":{\"id\":\"4129\"},\"nonselection_glyph\":{\"id\":\"4128\"},\"selection_glyph\":{\"id\":\"4144\"},\"view\":{\"id\":\"4131\"}},\"id\":\"4130\",\"type\":\"GlyphRenderer\"},{\"attributes\":{\"data\":{\"coin_id\":[\"ethlend\"],\"crypto_cluster\":[1],\"price_change_percentage_24h\":{\"__ndarray__\":\"3WeHPpbsE8A=\",\"dtype\":\"float64\",\"order\":\"little\",\"shape\":[1]},\"price_change_percentage_7d\":{\"__ndarray__\":\"dIWi2pshp78=\",\"dtype\":\"float64\",\"order\":\"little\",\"shape\":[1]}},\"selected\":{\"id\":\"4146\"},\"selection_policy\":{\"id\":\"4162\"}},\"id\":\"4145\",\"type\":\"ColumnDataSource\"},{\"attributes\":{\"fill_alpha\":{\"value\":0.1},\"fill_color\":{\"value\":\"#fc4f30\"},\"hatch_alpha\":{\"value\":0.1},\"hatch_color\":{\"value\":\"#fc4f30\"},\"line_alpha\":{\"value\":0.1},\"line_color\":{\"value\":\"#fc4f30\"},\"marker\":{\"value\":\"square\"},\"size\":{\"value\":5.477225575051661},\"x\":{\"field\":\"price_change_percentage_24h\"},\"y\":{\"field\":\"price_change_percentage_7d\"}},\"id\":\"4149\",\"type\":\"Scatter\"}],\"root_ids\":[\"4081\"]},\"title\":\"Bokeh Application\",\"version\":\"2.4.3\"}};\n",
       "    var render_items = [{\"docid\":\"89441ae8-8722-4430-976b-afdd54f977ac\",\"root_ids\":[\"4081\"],\"roots\":{\"4081\":\"f54106c9-0a73-4b4e-a178-21976454b4b1\"}}];\n",
       "    root.Bokeh.embed.embed_items_notebook(docs_json, render_items);\n",
       "    for (const render_item of render_items) {\n",
       "      for (const root_id of render_item.root_ids) {\n",
       "\tconst id_el = document.getElementById(root_id)\n",
       "\tif (id_el.children.length && (id_el.children[0].className === 'bk-root')) {\n",
       "\t  const root_el = id_el.children[0]\n",
       "\t  root_el.id = root_el.id + '-rendered'\n",
       "\t}\n",
       "      }\n",
       "    }\n",
       "  }\n",
       "  if (root.Bokeh !== undefined && root.Bokeh.Panel !== undefined) {\n",
       "    embed_document(root);\n",
       "  } else {\n",
       "    var attempts = 0;\n",
       "    var timer = setInterval(function(root) {\n",
       "      if (root.Bokeh !== undefined && root.Bokeh.Panel !== undefined) {\n",
       "        clearInterval(timer);\n",
       "        embed_document(root);\n",
       "      } else if (document.readyState == \"complete\") {\n",
       "        attempts++;\n",
       "        if (attempts > 200) {\n",
       "          clearInterval(timer);\n",
       "          console.log(\"Bokeh: ERROR: Unable to run BokehJS code because BokehJS library is missing\");\n",
       "        }\n",
       "      }\n",
       "    }, 25, root)\n",
       "  }\n",
       "})(window);</script>"
      ],
      "text/plain": [
       ":Layout\n",
       "   .NdOverlay.I  :NdOverlay   [crypto_cluster]\n",
       "      :Scatter   [price_change_percentage_24h]   (price_change_percentage_7d,coin_id)\n",
       "   .NdOverlay.II :NdOverlay   [crypto_cluster]\n",
       "      :Scatter   [PC1]   (PC2,coin_id)"
      ]
     },
     "execution_count": 129,
     "metadata": {
      "application/vnd.holoviews_exec.v0+json": {
       "id": "4081"
      }
     },
     "output_type": "execute_result"
    }
   ],
   "source": [
    "# Compoosite plot to contrast the clusters\n",
    "# YOUR CODE HERE!\n",
    "clusters_plot + clusters_plot_pca"
   ]
  },
  {
   "cell_type": "markdown",
   "metadata": {},
   "source": [
    "#### Answer the following question: After visually analyzing the cluster analysis results, what is the impact of using fewer features to cluster the data using K-Means?\n",
    "\n",
    "  * **Question:** After visually analyzing the cluster analysis results, what is the impact of using fewer features to cluster the data using K-Means?\n",
    "\n",
    "  * **Answer:** # YOUR ANSWER HERE!"
   ]
  },
  {
   "cell_type": "code",
   "execution_count": null,
   "metadata": {},
   "outputs": [],
   "source": [
    "# it appears there is still 4 clusters, hope thats right."
   ]
  },
  {
   "cell_type": "code",
   "execution_count": null,
   "metadata": {},
   "outputs": [],
   "source": []
  }
 ],
 "metadata": {
  "kernelspec": {
   "display_name": "Python 3 (ipykernel)",
   "language": "python",
   "name": "python3"
  },
  "language_info": {
   "codemirror_mode": {
    "name": "ipython",
    "version": 3
   },
   "file_extension": ".py",
   "mimetype": "text/x-python",
   "name": "python",
   "nbconvert_exporter": "python",
   "pygments_lexer": "ipython3",
   "version": "3.7.15"
  }
 },
 "nbformat": 4,
 "nbformat_minor": 4
}
